{
 "cells": [
  {
   "cell_type": "markdown",
   "id": "0c121ce8-7e3b-46cd-a87c-221afef9f919",
   "metadata": {},
   "source": [
    "# Import Modules"
   ]
  },
  {
   "cell_type": "code",
   "execution_count": 1,
   "id": "ecb60559-4fd7-4d2d-aed2-67abd262cbec",
   "metadata": {},
   "outputs": [],
   "source": [
    "from sklearn.datasets import load_boston\n",
    "from sklearn.linear_model import LinearRegression\n",
    "from sklearn.metrics import mean_squared_error\n",
    "\n",
    "import pandas as pd\n",
    "import numpy as np"
   ]
  },
  {
   "cell_type": "markdown",
   "id": "9f8b4e51-8878-498f-9d39-f54ab7b3b167",
   "metadata": {},
   "source": [
    "# Gather Data"
   ]
  },
  {
   "cell_type": "code",
   "execution_count": 2,
   "id": "9dea30d7-fd62-4502-bebc-6899bc8e7586",
   "metadata": {},
   "outputs": [],
   "source": [
    "df = load_boston()\n",
    "data = pd.DataFrame(data = df.data, columns=df.feature_names)\n",
    "data['PRICE'] = df.target\n",
    "\n",
    "log_price = np.log(data.PRICE)\n",
    "features = data.drop(['INDUS','PRICE', 'AGE'], axis=1)\n",
    "target = pd.DataFrame(data=log_price, columns=['PRICE'])"
   ]
  },
  {
   "cell_type": "code",
   "execution_count": 3,
   "id": "b07b2a63-db42-4ee7-ba77-4187d8bd42ae",
   "metadata": {},
   "outputs": [
    {
     "data": {
      "text/html": [
       "<div>\n",
       "<style scoped>\n",
       "    .dataframe tbody tr th:only-of-type {\n",
       "        vertical-align: middle;\n",
       "    }\n",
       "\n",
       "    .dataframe tbody tr th {\n",
       "        vertical-align: top;\n",
       "    }\n",
       "\n",
       "    .dataframe thead th {\n",
       "        text-align: right;\n",
       "    }\n",
       "</style>\n",
       "<table border=\"1\" class=\"dataframe\">\n",
       "  <thead>\n",
       "    <tr style=\"text-align: right;\">\n",
       "      <th></th>\n",
       "      <th>CRIM</th>\n",
       "      <th>ZN</th>\n",
       "      <th>CHAS</th>\n",
       "      <th>NOX</th>\n",
       "      <th>RM</th>\n",
       "      <th>DIS</th>\n",
       "      <th>RAD</th>\n",
       "      <th>TAX</th>\n",
       "      <th>PTRATIO</th>\n",
       "      <th>B</th>\n",
       "      <th>LSTAT</th>\n",
       "    </tr>\n",
       "  </thead>\n",
       "  <tbody>\n",
       "    <tr>\n",
       "      <th>0</th>\n",
       "      <td>0.00632</td>\n",
       "      <td>18.0</td>\n",
       "      <td>0.0</td>\n",
       "      <td>0.538</td>\n",
       "      <td>6.575</td>\n",
       "      <td>4.0900</td>\n",
       "      <td>1.0</td>\n",
       "      <td>296.0</td>\n",
       "      <td>15.3</td>\n",
       "      <td>396.90</td>\n",
       "      <td>4.98</td>\n",
       "    </tr>\n",
       "    <tr>\n",
       "      <th>1</th>\n",
       "      <td>0.02731</td>\n",
       "      <td>0.0</td>\n",
       "      <td>0.0</td>\n",
       "      <td>0.469</td>\n",
       "      <td>6.421</td>\n",
       "      <td>4.9671</td>\n",
       "      <td>2.0</td>\n",
       "      <td>242.0</td>\n",
       "      <td>17.8</td>\n",
       "      <td>396.90</td>\n",
       "      <td>9.14</td>\n",
       "    </tr>\n",
       "    <tr>\n",
       "      <th>2</th>\n",
       "      <td>0.02729</td>\n",
       "      <td>0.0</td>\n",
       "      <td>0.0</td>\n",
       "      <td>0.469</td>\n",
       "      <td>7.185</td>\n",
       "      <td>4.9671</td>\n",
       "      <td>2.0</td>\n",
       "      <td>242.0</td>\n",
       "      <td>17.8</td>\n",
       "      <td>392.83</td>\n",
       "      <td>4.03</td>\n",
       "    </tr>\n",
       "    <tr>\n",
       "      <th>3</th>\n",
       "      <td>0.03237</td>\n",
       "      <td>0.0</td>\n",
       "      <td>0.0</td>\n",
       "      <td>0.458</td>\n",
       "      <td>6.998</td>\n",
       "      <td>6.0622</td>\n",
       "      <td>3.0</td>\n",
       "      <td>222.0</td>\n",
       "      <td>18.7</td>\n",
       "      <td>394.63</td>\n",
       "      <td>2.94</td>\n",
       "    </tr>\n",
       "    <tr>\n",
       "      <th>4</th>\n",
       "      <td>0.06905</td>\n",
       "      <td>0.0</td>\n",
       "      <td>0.0</td>\n",
       "      <td>0.458</td>\n",
       "      <td>7.147</td>\n",
       "      <td>6.0622</td>\n",
       "      <td>3.0</td>\n",
       "      <td>222.0</td>\n",
       "      <td>18.7</td>\n",
       "      <td>396.90</td>\n",
       "      <td>5.33</td>\n",
       "    </tr>\n",
       "  </tbody>\n",
       "</table>\n",
       "</div>"
      ],
      "text/plain": [
       "      CRIM    ZN  CHAS    NOX     RM     DIS  RAD    TAX  PTRATIO       B  \\\n",
       "0  0.00632  18.0   0.0  0.538  6.575  4.0900  1.0  296.0     15.3  396.90   \n",
       "1  0.02731   0.0   0.0  0.469  6.421  4.9671  2.0  242.0     17.8  396.90   \n",
       "2  0.02729   0.0   0.0  0.469  7.185  4.9671  2.0  242.0     17.8  392.83   \n",
       "3  0.03237   0.0   0.0  0.458  6.998  6.0622  3.0  222.0     18.7  394.63   \n",
       "4  0.06905   0.0   0.0  0.458  7.147  6.0622  3.0  222.0     18.7  396.90   \n",
       "\n",
       "   LSTAT  \n",
       "0   4.98  \n",
       "1   9.14  \n",
       "2   4.03  \n",
       "3   2.94  \n",
       "4   5.33  "
      ]
     },
     "execution_count": 3,
     "metadata": {},
     "output_type": "execute_result"
    }
   ],
   "source": [
    "features.head()"
   ]
  },
  {
   "cell_type": "code",
   "execution_count": 4,
   "id": "139c5d1f-ad1a-4e5b-9265-2b4c502f02ac",
   "metadata": {},
   "outputs": [],
   "source": [
    "# property estimate, so we need all the mean values of data to make a crude asumption\n",
    "RM_IDX = 4\n",
    "PTRATIO_IDX = 8\n",
    "CHAS_IDX = 2\n",
    "\n",
    "property_stat = features.mean().values.reshape(1,11)"
   ]
  },
  {
   "cell_type": "code",
   "execution_count": 6,
   "id": "515a9b1e-4baf-4da9-b07e-422b6db6279d",
   "metadata": {},
   "outputs": [],
   "source": [
    "# regression: predicted values, MSE & RMSE\n",
    "regr = LinearRegression().fit(features, target)\n",
    "fitted_vals = regr.predict(features) #yhat\n",
    "MSE = mean_squared_error(target, fitted_vals)\n",
    "RMSE = np.sqrt(MSE)"
   ]
  },
  {
   "cell_type": "code",
   "execution_count": 7,
   "id": "185e2496-2625-48b4-b53b-f1fb494d8e05",
   "metadata": {},
   "outputs": [],
   "source": [
    "def get_log_estimate(nr_rooms,\n",
    "                    student_per_class,\n",
    "                    next_to_river=False,\n",
    "                    high_confidence=True):\n",
    "    \n",
    "    # configure property stat\n",
    "    property_stat[0][RM_IDX] = nr_rooms\n",
    "    property_stat[0][PTRATIO_IDX] = student_per_class\n",
    "    \n",
    "    if next_to_river:\n",
    "        property_stat[0][CHAS_IDX] = 1\n",
    "    else:\n",
    "        property_stat[0][CHAS_IDX] = 0\n",
    "    \n",
    "    # Make prediction\n",
    "    log_estimate = regr.predict(property_stat)[0][0]\n",
    "    \n",
    "    #calc range\n",
    "    if high_confidence:\n",
    "        upperbound = log_estimate + 2*RMSE\n",
    "        lowerbound = log_estimate - 2*RMSE\n",
    "        interval = 95\n",
    "    else:\n",
    "        upperbound = log_estimate + RMSE\n",
    "        lowerbound = log_estimate - RMSE\n",
    "        interval = 68\n",
    "    \n",
    "    return log_estimate, upperbound,  lowerbound, interval"
   ]
  },
  {
   "cell_type": "code",
   "execution_count": 19,
   "id": "f307bbbc-f088-41c0-9c29-727e3804c5ef",
   "metadata": {},
   "outputs": [
    {
     "data": {
      "text/plain": [
       "(2.7767581914803996, 2.96427032667753, 2.5892460562832693, 68)"
      ]
     },
     "execution_count": 19,
     "metadata": {},
     "output_type": "execute_result"
    }
   ],
   "source": [
    "log_price, upperbound, lowerbound, interval =get_log_estimate(3, 20, True, False)\n",
    "get_log_estimate(3, 20, True, False)"
   ]
  },
  {
   "cell_type": "code",
   "execution_count": 54,
   "id": "f0e916c1-133b-4192-bb2b-f08d28408fa3",
   "metadata": {},
   "outputs": [],
   "source": [
    "ZILLOW_INDEX = 583.3  #728.7\n",
    "DATASET_INDEX = np.median(data.PRICE)\n",
    "SCALE_FACTOR = ZILLOW_INDEX / DATASET_INDEX\n"
   ]
  },
  {
   "cell_type": "code",
   "execution_count": 90,
   "id": "61feb393-cf36-43f3-a2ba-9337ebcc38f0",
   "metadata": {},
   "outputs": [],
   "source": [
    "def get_dollar_estimate(rm, ptratio, chas=False, large_range=True, scale=SCALE_FACTOR):\n",
    "    \n",
    "    \"\"\"\n",
    "    Estimate the property price of boston.\n",
    "    \n",
    "    Keyword arguments:\n",
    "    rm -- number of room.\n",
    "    ptratio -- student per teacher ratio of school in the area.\n",
    "    chas -- True if property is near river, False otherwise.\n",
    "    large_range -- True for 95% prediction interval, False for 68% interval.\n",
    "    \n",
    "    \"\"\"\n",
    "    \n",
    "    if rm < 1 or ptratio < 1:\n",
    "        print('That is unrealistic. Try again!')\n",
    "        return\n",
    "        \n",
    "    \n",
    "    log_estimate, upperbound, lowerbound, interval =get_log_estimate(rm, ptratio,\n",
    "                                              next_to_river=chas, high_confidence=large_range)\n",
    "    \n",
    "    normal_estimate =np.around(np.e**log_estimate * 1000 * scale, -3)\n",
    "    upper_bound = np.around(np.e**upperbound * 1000 * scale, -3)\n",
    "    lower_bound = np.around(np.e**lowerbound * 1000 * scale, -3)\n",
    "    \n",
    "    print(f'The estimated property value is {normal_estimate}.')\n",
    "    print(f'at {interval} confidence the valuation range is')\n",
    "    print(f'USD {lower_bound} at lower end to USD {upper_bound} at high end.')\n",
    "    "
   ]
  },
  {
   "cell_type": "code",
   "execution_count": 100,
   "id": "93aabaf1-4adc-4417-b85e-83da5f838903",
   "metadata": {},
   "outputs": [
    {
     "name": "stdout",
     "output_type": "stream",
     "text": [
      "The estimated property value is 522000.0.\n",
      "at 95 confidence the valuation range is\n",
      "USD 359000.0 at lower end to USD 760000.0 at high end.\n"
     ]
    }
   ],
   "source": [
    " get_dollar_estimate(rm=6,ptratio=20,chas=False) "
   ]
  },
  {
   "cell_type": "code",
   "execution_count": 103,
   "id": "b937570e-033e-4be1-ac9e-5f891ce2b3d3",
   "metadata": {},
   "outputs": [
    {
     "name": "stdout",
     "output_type": "stream",
     "text": [
      "The estimated property value is 522000.0.\n",
      "at 95 confidence the valuation range is\n",
      "USD 359000.0 at lower end to USD 760000.0 at high end.\n"
     ]
    }
   ],
   "source": [
    "import boston_house_price_valuation_tool as bst\n",
    "bst.get_dollar_estimate(rm=6,ptratio=20, chas=False) "
   ]
  },
  {
   "cell_type": "code",
   "execution_count": null,
   "id": "b2179558-e830-4fd5-9d4c-47cec8a54764",
   "metadata": {},
   "outputs": [],
   "source": []
  }
 ],
 "metadata": {
  "kernelspec": {
   "display_name": "Python 3 (ipykernel)",
   "language": "python",
   "name": "python3"
  },
  "language_info": {
   "codemirror_mode": {
    "name": "ipython",
    "version": 3
   },
   "file_extension": ".py",
   "mimetype": "text/x-python",
   "name": "python",
   "nbconvert_exporter": "python",
   "pygments_lexer": "ipython3",
   "version": "3.9.7"
  }
 },
 "nbformat": 4,
 "nbformat_minor": 5
}
