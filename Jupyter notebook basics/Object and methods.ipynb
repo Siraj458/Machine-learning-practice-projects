{
 "cells": [
  {
   "cell_type": "code",
   "execution_count": 1,
   "id": "a1dd8806-0987-445f-a1e4-44c7b8b36e2c",
   "metadata": {},
   "outputs": [],
   "source": [
    "import python"
   ]
  },
  {
   "cell_type": "code",
   "execution_count": 2,
   "id": "36330943-3762-4ddf-a8b4-0c8d1c1d4574",
   "metadata": {},
   "outputs": [
    {
     "name": "stdout",
     "output_type": "stream",
     "text": [
      "karm ache karo, fal ki ma ki *, ghar se le lenge\n"
     ]
    }
   ],
   "source": [
    "python.Saying()"
   ]
  },
  {
   "cell_type": "code",
   "execution_count": 3,
   "id": "11d57d8b-edfd-4026-9c10-e49310e54f64",
   "metadata": {},
   "outputs": [
    {
     "name": "stdout",
     "output_type": "stream",
     "text": [
      "7.946068210127573\n"
     ]
    }
   ],
   "source": [
    "result = python.square_root(63.14)\n",
    "print(result)"
   ]
  },
  {
   "cell_type": "code",
   "execution_count": null,
   "id": "8208c113-527e-4a23-b30d-65299c3ac2f6",
   "metadata": {},
   "outputs": [],
   "source": []
  },
  {
   "cell_type": "code",
   "execution_count": null,
   "id": "6e210f95-cd97-43ab-ad68-79f04fe0de62",
   "metadata": {},
   "outputs": [],
   "source": []
  }
 ],
 "metadata": {
  "kernelspec": {
   "display_name": "Python 3 (ipykernel)",
   "language": "python",
   "name": "python3"
  },
  "language_info": {
   "codemirror_mode": {
    "name": "ipython",
    "version": 3
   },
   "file_extension": ".py",
   "mimetype": "text/x-python",
   "name": "python",
   "nbconvert_exporter": "python",
   "pygments_lexer": "ipython3",
   "version": "3.9.7"
  }
 },
 "nbformat": 4,
 "nbformat_minor": 5
}
