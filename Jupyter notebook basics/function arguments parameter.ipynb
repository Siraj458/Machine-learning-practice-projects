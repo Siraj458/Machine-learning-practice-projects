{
 "cells": [
  {
   "cell_type": "code",
   "execution_count": 1,
   "id": "76e5680d-5648-4da1-9461-011b7b2a020d",
   "metadata": {},
   "outputs": [],
   "source": [
    "import math"
   ]
  },
  {
   "cell_type": "code",
   "execution_count": 2,
   "id": "9f731730-4c7d-4a33-ab31-0586b56db72c",
   "metadata": {},
   "outputs": [
    {
     "name": "stdout",
     "output_type": "stream",
     "text": [
      "3.141592653589793\n"
     ]
    }
   ],
   "source": [
    "print(math.pi)"
   ]
  },
  {
   "cell_type": "code",
   "execution_count": 3,
   "id": "e4ac7ee6-04ac-41a9-b138-ed8d6703a681",
   "metadata": {},
   "outputs": [
    {
     "name": "stdout",
     "output_type": "stream",
     "text": [
      "2.718281828459045\n"
     ]
    }
   ],
   "source": [
    "print(math.e)"
   ]
  },
  {
   "cell_type": "code",
   "execution_count": 4,
   "id": "fe1a7e42-41c8-490f-b123-403e0ae89355",
   "metadata": {},
   "outputs": [],
   "source": [
    "import python"
   ]
  },
  {
   "cell_type": "code",
   "execution_count": 5,
   "id": "9d8aec0b-8836-4616-85f3-2b47c898f680",
   "metadata": {},
   "outputs": [
    {
     "data": {
      "text/plain": [
       "4"
      ]
     },
     "execution_count": 5,
     "metadata": {},
     "output_type": "execute_result"
    }
   ],
   "source": [
    "python.theNewNumber"
   ]
  },
  {
   "cell_type": "code",
   "execution_count": 6,
   "id": "24278ab5-dd26-4849-a2bd-07c68fcd807f",
   "metadata": {},
   "outputs": [],
   "source": [
    "from python import theNewNumber"
   ]
  },
  {
   "cell_type": "code",
   "execution_count": 7,
   "id": "654152e3-c879-4398-b15d-18e130e03080",
   "metadata": {},
   "outputs": [
    {
     "data": {
      "text/plain": [
       "4"
      ]
     },
     "execution_count": 7,
     "metadata": {},
     "output_type": "execute_result"
    }
   ],
   "source": [
    "theNewNumber"
   ]
  },
  {
   "cell_type": "code",
   "execution_count": 5,
   "id": "92fd5596-4fea-4dfe-86f2-6062d7ad8273",
   "metadata": {},
   "outputs": [],
   "source": [
    "def time(first_value, second_value): # first_value and second_value are parameters\n",
    "    multiplication = first_value * second_value\n",
    "    return multiplication"
   ]
  },
  {
   "cell_type": "code",
   "execution_count": 9,
   "id": "2e96300e-4767-4ffe-bc4a-e6d4e2c29280",
   "metadata": {},
   "outputs": [
    {
     "name": "stdout",
     "output_type": "stream",
     "text": [
      "15.9826\n"
     ]
    }
   ],
   "source": [
    "answer = time(first_value = 3.14, second_value= 5.09) # while calling 3.14 and 5.09 are arguments\n",
    "print(answer)"
   ]
  },
  {
   "cell_type": "code",
   "execution_count": null,
   "id": "0b64a4e5-5639-499c-9854-9bc2b9c2d9a8",
   "metadata": {},
   "outputs": [],
   "source": []
  }
 ],
 "metadata": {
  "kernelspec": {
   "display_name": "Python 3 (ipykernel)",
   "language": "python",
   "name": "python3"
  },
  "language_info": {
   "codemirror_mode": {
    "name": "ipython",
    "version": 3
   },
   "file_extension": ".py",
   "mimetype": "text/x-python",
   "name": "python",
   "nbconvert_exporter": "python",
   "pygments_lexer": "ipython3",
   "version": "3.9.7"
  }
 },
 "nbformat": 4,
 "nbformat_minor": 5
}
