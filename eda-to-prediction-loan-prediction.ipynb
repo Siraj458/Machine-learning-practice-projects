{
 "cells": [
  {
   "cell_type": "code",
   "execution_count": 1,
   "id": "912667f5",
   "metadata": {
    "_cell_guid": "b1076dfc-b9ad-4769-8c92-a6c4dae69d19",
    "_uuid": "8f2839f25d086af736a60e9eeb907d3b93b6e0e5",
    "execution": {
     "iopub.execute_input": "2023-01-17T13:03:24.231799Z",
     "iopub.status.busy": "2023-01-17T13:03:24.231153Z",
     "iopub.status.idle": "2023-01-17T13:03:24.255469Z",
     "shell.execute_reply": "2023-01-17T13:03:24.254359Z"
    },
    "papermill": {
     "duration": 0.057505,
     "end_time": "2023-01-17T13:03:24.259878",
     "exception": false,
     "start_time": "2023-01-17T13:03:24.202373",
     "status": "completed"
    },
    "tags": []
   },
   "outputs": [
    {
     "name": "stdout",
     "output_type": "stream",
     "text": [
      "/kaggle/input/loan-prediction-based-on-customer-behavior/Test Data.csv\n",
      "/kaggle/input/loan-prediction-based-on-customer-behavior/Training Data.csv\n",
      "/kaggle/input/loan-prediction-based-on-customer-behavior/Sample Prediction Dataset.csv\n"
     ]
    }
   ],
   "source": [
    "# This Python 3 environment comes with many helpful analytics libraries installed\n",
    "# It is defined by the kaggle/python Docker image: https://github.com/kaggle/docker-python\n",
    "# For example, here's several helpful packages to load\n",
    "\n",
    "import numpy as np # linear algebra\n",
    "import pandas as pd # data processing, CSV file I/O (e.g. pd.read_csv)\n",
    "\n",
    "# Input data files are available in the read-only \"../input/\" directory\n",
    "# For example, running this (by clicking run or pressing Shift+Enter) will list all files under the input directory\n",
    "\n",
    "import os\n",
    "for dirname, _, filenames in os.walk('/kaggle/input'):\n",
    "    for filename in filenames:\n",
    "        print(os.path.join(dirname, filename))\n",
    "\n",
    "# You can write up to 20GB to the current directory (/kaggle/working/) that gets preserved as output when you create a version using \"Save & Run All\" \n",
    "# You can also write temporary files to /kaggle/temp/, but they won't be saved outside of the current session"
   ]
  },
  {
   "cell_type": "markdown",
   "id": "27493908",
   "metadata": {
    "papermill": {
     "duration": 0.021809,
     "end_time": "2023-01-17T13:03:24.304836",
     "exception": false,
     "start_time": "2023-01-17T13:03:24.283027",
     "status": "completed"
    },
    "tags": []
   },
   "source": [
    "# Import Section"
   ]
  },
  {
   "cell_type": "code",
   "execution_count": 2,
   "id": "81d0685b",
   "metadata": {
    "execution": {
     "iopub.execute_input": "2023-01-17T13:03:24.350606Z",
     "iopub.status.busy": "2023-01-17T13:03:24.349801Z",
     "iopub.status.idle": "2023-01-17T13:03:25.526838Z",
     "shell.execute_reply": "2023-01-17T13:03:25.525839Z"
    },
    "papermill": {
     "duration": 1.203048,
     "end_time": "2023-01-17T13:03:25.529585",
     "exception": false,
     "start_time": "2023-01-17T13:03:24.326537",
     "status": "completed"
    },
    "tags": []
   },
   "outputs": [],
   "source": [
    "import matplotlib.pyplot as plt\n",
    "import seaborn as sns\n",
    "\n",
    "plt.style.use(\"fivethirtyeight\")\n",
    "\n",
    "import warnings\n",
    "warnings.filterwarnings(\"ignore\")\n",
    "\n",
    "%matplotlib inline"
   ]
  },
  {
   "cell_type": "markdown",
   "id": "8f0fb5d4",
   "metadata": {
    "papermill": {
     "duration": 0.02138,
     "end_time": "2023-01-17T13:03:25.573683",
     "exception": false,
     "start_time": "2023-01-17T13:03:25.552303",
     "status": "completed"
    },
    "tags": []
   },
   "source": [
    "# Loading Data"
   ]
  },
  {
   "cell_type": "code",
   "execution_count": 3,
   "id": "65ffc71b",
   "metadata": {
    "execution": {
     "iopub.execute_input": "2023-01-17T13:03:25.621444Z",
     "iopub.status.busy": "2023-01-17T13:03:25.620678Z",
     "iopub.status.idle": "2023-01-17T13:03:26.399501Z",
     "shell.execute_reply": "2023-01-17T13:03:26.398328Z"
    },
    "papermill": {
     "duration": 0.806856,
     "end_time": "2023-01-17T13:03:26.402102",
     "exception": false,
     "start_time": "2023-01-17T13:03:25.595246",
     "status": "completed"
    },
    "tags": []
   },
   "outputs": [
    {
     "data": {
      "text/html": [
       "<div>\n",
       "<style scoped>\n",
       "    .dataframe tbody tr th:only-of-type {\n",
       "        vertical-align: middle;\n",
       "    }\n",
       "\n",
       "    .dataframe tbody tr th {\n",
       "        vertical-align: top;\n",
       "    }\n",
       "\n",
       "    .dataframe thead th {\n",
       "        text-align: right;\n",
       "    }\n",
       "</style>\n",
       "<table border=\"1\" class=\"dataframe\">\n",
       "  <thead>\n",
       "    <tr style=\"text-align: right;\">\n",
       "      <th></th>\n",
       "      <th>Id</th>\n",
       "      <th>Income</th>\n",
       "      <th>Age</th>\n",
       "      <th>Experience</th>\n",
       "      <th>Married/Single</th>\n",
       "      <th>House_Ownership</th>\n",
       "      <th>Car_Ownership</th>\n",
       "      <th>Profession</th>\n",
       "      <th>CITY</th>\n",
       "      <th>STATE</th>\n",
       "      <th>CURRENT_JOB_YRS</th>\n",
       "      <th>CURRENT_HOUSE_YRS</th>\n",
       "      <th>Risk_Flag</th>\n",
       "    </tr>\n",
       "  </thead>\n",
       "  <tbody>\n",
       "    <tr>\n",
       "      <th>0</th>\n",
       "      <td>1</td>\n",
       "      <td>1303834</td>\n",
       "      <td>23</td>\n",
       "      <td>3</td>\n",
       "      <td>single</td>\n",
       "      <td>rented</td>\n",
       "      <td>no</td>\n",
       "      <td>Mechanical_engineer</td>\n",
       "      <td>Rewa</td>\n",
       "      <td>Madhya_Pradesh</td>\n",
       "      <td>3</td>\n",
       "      <td>13</td>\n",
       "      <td>0</td>\n",
       "    </tr>\n",
       "    <tr>\n",
       "      <th>1</th>\n",
       "      <td>2</td>\n",
       "      <td>7574516</td>\n",
       "      <td>40</td>\n",
       "      <td>10</td>\n",
       "      <td>single</td>\n",
       "      <td>rented</td>\n",
       "      <td>no</td>\n",
       "      <td>Software_Developer</td>\n",
       "      <td>Parbhani</td>\n",
       "      <td>Maharashtra</td>\n",
       "      <td>9</td>\n",
       "      <td>13</td>\n",
       "      <td>0</td>\n",
       "    </tr>\n",
       "    <tr>\n",
       "      <th>2</th>\n",
       "      <td>3</td>\n",
       "      <td>3991815</td>\n",
       "      <td>66</td>\n",
       "      <td>4</td>\n",
       "      <td>married</td>\n",
       "      <td>rented</td>\n",
       "      <td>no</td>\n",
       "      <td>Technical_writer</td>\n",
       "      <td>Alappuzha</td>\n",
       "      <td>Kerala</td>\n",
       "      <td>4</td>\n",
       "      <td>10</td>\n",
       "      <td>0</td>\n",
       "    </tr>\n",
       "    <tr>\n",
       "      <th>3</th>\n",
       "      <td>4</td>\n",
       "      <td>6256451</td>\n",
       "      <td>41</td>\n",
       "      <td>2</td>\n",
       "      <td>single</td>\n",
       "      <td>rented</td>\n",
       "      <td>yes</td>\n",
       "      <td>Software_Developer</td>\n",
       "      <td>Bhubaneswar</td>\n",
       "      <td>Odisha</td>\n",
       "      <td>2</td>\n",
       "      <td>12</td>\n",
       "      <td>1</td>\n",
       "    </tr>\n",
       "    <tr>\n",
       "      <th>4</th>\n",
       "      <td>5</td>\n",
       "      <td>5768871</td>\n",
       "      <td>47</td>\n",
       "      <td>11</td>\n",
       "      <td>single</td>\n",
       "      <td>rented</td>\n",
       "      <td>no</td>\n",
       "      <td>Civil_servant</td>\n",
       "      <td>Tiruchirappalli[10]</td>\n",
       "      <td>Tamil_Nadu</td>\n",
       "      <td>3</td>\n",
       "      <td>14</td>\n",
       "      <td>1</td>\n",
       "    </tr>\n",
       "  </tbody>\n",
       "</table>\n",
       "</div>"
      ],
      "text/plain": [
       "   Id   Income  Age  Experience Married/Single House_Ownership Car_Ownership  \\\n",
       "0   1  1303834   23           3         single          rented            no   \n",
       "1   2  7574516   40          10         single          rented            no   \n",
       "2   3  3991815   66           4        married          rented            no   \n",
       "3   4  6256451   41           2         single          rented           yes   \n",
       "4   5  5768871   47          11         single          rented            no   \n",
       "\n",
       "            Profession                 CITY           STATE  CURRENT_JOB_YRS  \\\n",
       "0  Mechanical_engineer                 Rewa  Madhya_Pradesh                3   \n",
       "1   Software_Developer             Parbhani     Maharashtra                9   \n",
       "2     Technical_writer            Alappuzha          Kerala                4   \n",
       "3   Software_Developer          Bhubaneswar          Odisha                2   \n",
       "4        Civil_servant  Tiruchirappalli[10]      Tamil_Nadu                3   \n",
       "\n",
       "   CURRENT_HOUSE_YRS  Risk_Flag  \n",
       "0                 13          0  \n",
       "1                 13          0  \n",
       "2                 10          0  \n",
       "3                 12          1  \n",
       "4                 14          1  "
      ]
     },
     "execution_count": 3,
     "metadata": {},
     "output_type": "execute_result"
    }
   ],
   "source": [
    "data = pd.read_csv(\"/kaggle/input/loan-prediction-based-on-customer-behavior/Training Data.csv\")\n",
    "data.head()"
   ]
  },
  {
   "cell_type": "code",
   "execution_count": 4,
   "id": "0f57bbda",
   "metadata": {
    "execution": {
     "iopub.execute_input": "2023-01-17T13:03:26.448901Z",
     "iopub.status.busy": "2023-01-17T13:03:26.447779Z",
     "iopub.status.idle": "2023-01-17T13:03:26.541298Z",
     "shell.execute_reply": "2023-01-17T13:03:26.540031Z"
    },
    "papermill": {
     "duration": 0.119704,
     "end_time": "2023-01-17T13:03:26.543929",
     "exception": false,
     "start_time": "2023-01-17T13:03:26.424225",
     "status": "completed"
    },
    "tags": []
   },
   "outputs": [
    {
     "name": "stdout",
     "output_type": "stream",
     "text": [
      "<class 'pandas.core.frame.DataFrame'>\n",
      "RangeIndex: 252000 entries, 0 to 251999\n",
      "Data columns (total 13 columns):\n",
      " #   Column             Non-Null Count   Dtype \n",
      "---  ------             --------------   ----- \n",
      " 0   Id                 252000 non-null  int64 \n",
      " 1   Income             252000 non-null  int64 \n",
      " 2   Age                252000 non-null  int64 \n",
      " 3   Experience         252000 non-null  int64 \n",
      " 4   Married/Single     252000 non-null  object\n",
      " 5   House_Ownership    252000 non-null  object\n",
      " 6   Car_Ownership      252000 non-null  object\n",
      " 7   Profession         252000 non-null  object\n",
      " 8   CITY               252000 non-null  object\n",
      " 9   STATE              252000 non-null  object\n",
      " 10  CURRENT_JOB_YRS    252000 non-null  int64 \n",
      " 11  CURRENT_HOUSE_YRS  252000 non-null  int64 \n",
      " 12  Risk_Flag          252000 non-null  int64 \n",
      "dtypes: int64(7), object(6)\n",
      "memory usage: 25.0+ MB\n"
     ]
    }
   ],
   "source": [
    "data.info()"
   ]
  },
  {
   "cell_type": "code",
   "execution_count": 5,
   "id": "029a72a6",
   "metadata": {
    "execution": {
     "iopub.execute_input": "2023-01-17T13:03:26.589616Z",
     "iopub.status.busy": "2023-01-17T13:03:26.589239Z",
     "iopub.status.idle": "2023-01-17T13:03:26.663871Z",
     "shell.execute_reply": "2023-01-17T13:03:26.662613Z"
    },
    "papermill": {
     "duration": 0.100247,
     "end_time": "2023-01-17T13:03:26.666351",
     "exception": false,
     "start_time": "2023-01-17T13:03:26.566104",
     "status": "completed"
    },
    "tags": []
   },
   "outputs": [
    {
     "data": {
      "text/plain": [
       "Id                   0\n",
       "Income               0\n",
       "Age                  0\n",
       "Experience           0\n",
       "Married/Single       0\n",
       "House_Ownership      0\n",
       "Car_Ownership        0\n",
       "Profession           0\n",
       "CITY                 0\n",
       "STATE                0\n",
       "CURRENT_JOB_YRS      0\n",
       "CURRENT_HOUSE_YRS    0\n",
       "Risk_Flag            0\n",
       "dtype: int64"
      ]
     },
     "execution_count": 5,
     "metadata": {},
     "output_type": "execute_result"
    }
   ],
   "source": [
    "data.isnull().sum()"
   ]
  },
  {
   "cell_type": "markdown",
   "id": "d0b7b74a",
   "metadata": {
    "papermill": {
     "duration": 0.021969,
     "end_time": "2023-01-17T13:03:26.710526",
     "exception": false,
     "start_time": "2023-01-17T13:03:26.688557",
     "status": "completed"
    },
    "tags": []
   },
   "source": [
    "#### no null values in any features good data set"
   ]
  },
  {
   "cell_type": "code",
   "execution_count": 6,
   "id": "2978ec7a",
   "metadata": {
    "execution": {
     "iopub.execute_input": "2023-01-17T13:03:26.757633Z",
     "iopub.status.busy": "2023-01-17T13:03:26.757241Z",
     "iopub.status.idle": "2023-01-17T13:03:26.845458Z",
     "shell.execute_reply": "2023-01-17T13:03:26.844324Z"
    },
    "papermill": {
     "duration": 0.114301,
     "end_time": "2023-01-17T13:03:26.848133",
     "exception": false,
     "start_time": "2023-01-17T13:03:26.733832",
     "status": "completed"
    },
    "tags": []
   },
   "outputs": [
    {
     "data": {
      "text/html": [
       "<div>\n",
       "<style scoped>\n",
       "    .dataframe tbody tr th:only-of-type {\n",
       "        vertical-align: middle;\n",
       "    }\n",
       "\n",
       "    .dataframe tbody tr th {\n",
       "        vertical-align: top;\n",
       "    }\n",
       "\n",
       "    .dataframe thead th {\n",
       "        text-align: right;\n",
       "    }\n",
       "</style>\n",
       "<table border=\"1\" class=\"dataframe\">\n",
       "  <thead>\n",
       "    <tr style=\"text-align: right;\">\n",
       "      <th></th>\n",
       "      <th>Id</th>\n",
       "      <th>Income</th>\n",
       "      <th>Age</th>\n",
       "      <th>Experience</th>\n",
       "      <th>CURRENT_JOB_YRS</th>\n",
       "      <th>CURRENT_HOUSE_YRS</th>\n",
       "      <th>Risk_Flag</th>\n",
       "    </tr>\n",
       "  </thead>\n",
       "  <tbody>\n",
       "    <tr>\n",
       "      <th>count</th>\n",
       "      <td>252000.000000</td>\n",
       "      <td>2.520000e+05</td>\n",
       "      <td>252000.000000</td>\n",
       "      <td>252000.000000</td>\n",
       "      <td>252000.000000</td>\n",
       "      <td>252000.000000</td>\n",
       "      <td>252000.000000</td>\n",
       "    </tr>\n",
       "    <tr>\n",
       "      <th>mean</th>\n",
       "      <td>126000.500000</td>\n",
       "      <td>4.997117e+06</td>\n",
       "      <td>49.954071</td>\n",
       "      <td>10.084437</td>\n",
       "      <td>6.333877</td>\n",
       "      <td>11.997794</td>\n",
       "      <td>0.123000</td>\n",
       "    </tr>\n",
       "    <tr>\n",
       "      <th>std</th>\n",
       "      <td>72746.278255</td>\n",
       "      <td>2.878311e+06</td>\n",
       "      <td>17.063855</td>\n",
       "      <td>6.002590</td>\n",
       "      <td>3.647053</td>\n",
       "      <td>1.399037</td>\n",
       "      <td>0.328438</td>\n",
       "    </tr>\n",
       "    <tr>\n",
       "      <th>min</th>\n",
       "      <td>1.000000</td>\n",
       "      <td>1.031000e+04</td>\n",
       "      <td>21.000000</td>\n",
       "      <td>0.000000</td>\n",
       "      <td>0.000000</td>\n",
       "      <td>10.000000</td>\n",
       "      <td>0.000000</td>\n",
       "    </tr>\n",
       "    <tr>\n",
       "      <th>25%</th>\n",
       "      <td>63000.750000</td>\n",
       "      <td>2.503015e+06</td>\n",
       "      <td>35.000000</td>\n",
       "      <td>5.000000</td>\n",
       "      <td>3.000000</td>\n",
       "      <td>11.000000</td>\n",
       "      <td>0.000000</td>\n",
       "    </tr>\n",
       "    <tr>\n",
       "      <th>50%</th>\n",
       "      <td>126000.500000</td>\n",
       "      <td>5.000694e+06</td>\n",
       "      <td>50.000000</td>\n",
       "      <td>10.000000</td>\n",
       "      <td>6.000000</td>\n",
       "      <td>12.000000</td>\n",
       "      <td>0.000000</td>\n",
       "    </tr>\n",
       "    <tr>\n",
       "      <th>75%</th>\n",
       "      <td>189000.250000</td>\n",
       "      <td>7.477502e+06</td>\n",
       "      <td>65.000000</td>\n",
       "      <td>15.000000</td>\n",
       "      <td>9.000000</td>\n",
       "      <td>13.000000</td>\n",
       "      <td>0.000000</td>\n",
       "    </tr>\n",
       "    <tr>\n",
       "      <th>max</th>\n",
       "      <td>252000.000000</td>\n",
       "      <td>9.999938e+06</td>\n",
       "      <td>79.000000</td>\n",
       "      <td>20.000000</td>\n",
       "      <td>14.000000</td>\n",
       "      <td>14.000000</td>\n",
       "      <td>1.000000</td>\n",
       "    </tr>\n",
       "  </tbody>\n",
       "</table>\n",
       "</div>"
      ],
      "text/plain": [
       "                  Id        Income            Age     Experience  \\\n",
       "count  252000.000000  2.520000e+05  252000.000000  252000.000000   \n",
       "mean   126000.500000  4.997117e+06      49.954071      10.084437   \n",
       "std     72746.278255  2.878311e+06      17.063855       6.002590   \n",
       "min         1.000000  1.031000e+04      21.000000       0.000000   \n",
       "25%     63000.750000  2.503015e+06      35.000000       5.000000   \n",
       "50%    126000.500000  5.000694e+06      50.000000      10.000000   \n",
       "75%    189000.250000  7.477502e+06      65.000000      15.000000   \n",
       "max    252000.000000  9.999938e+06      79.000000      20.000000   \n",
       "\n",
       "       CURRENT_JOB_YRS  CURRENT_HOUSE_YRS      Risk_Flag  \n",
       "count    252000.000000      252000.000000  252000.000000  \n",
       "mean          6.333877          11.997794       0.123000  \n",
       "std           3.647053           1.399037       0.328438  \n",
       "min           0.000000          10.000000       0.000000  \n",
       "25%           3.000000          11.000000       0.000000  \n",
       "50%           6.000000          12.000000       0.000000  \n",
       "75%           9.000000          13.000000       0.000000  \n",
       "max          14.000000          14.000000       1.000000  "
      ]
     },
     "execution_count": 6,
     "metadata": {},
     "output_type": "execute_result"
    }
   ],
   "source": [
    "data.describe()"
   ]
  },
  {
   "cell_type": "markdown",
   "id": "1db2f1f7",
   "metadata": {
    "papermill": {
     "duration": 0.021951,
     "end_time": "2023-01-17T13:03:26.892566",
     "exception": false,
     "start_time": "2023-01-17T13:03:26.870615",
     "status": "completed"
    },
    "tags": []
   },
   "source": [
    "# Exploratory Data Analysis"
   ]
  },
  {
   "cell_type": "markdown",
   "id": "29ec71d8",
   "metadata": {
    "papermill": {
     "duration": 0.022178,
     "end_time": "2023-01-17T13:03:26.937155",
     "exception": false,
     "start_time": "2023-01-17T13:03:26.914977",
     "status": "completed"
    },
    "tags": []
   },
   "source": [
    "## How many have defaulted on loan(Risk_flag=1) and how many paid??"
   ]
  },
  {
   "cell_type": "code",
   "execution_count": 7,
   "id": "9406411e",
   "metadata": {
    "execution": {
     "iopub.execute_input": "2023-01-17T13:03:26.984104Z",
     "iopub.status.busy": "2023-01-17T13:03:26.983420Z",
     "iopub.status.idle": "2023-01-17T13:03:26.990805Z",
     "shell.execute_reply": "2023-01-17T13:03:26.989624Z"
    },
    "papermill": {
     "duration": 0.033593,
     "end_time": "2023-01-17T13:03:26.993157",
     "exception": false,
     "start_time": "2023-01-17T13:03:26.959564",
     "status": "completed"
    },
    "tags": []
   },
   "outputs": [
    {
     "name": "stdout",
     "output_type": "stream",
     "text": [
      "The rate of 'defaulted-on-loan' is 12.3% and total number of defaulter are 30996\n"
     ]
    }
   ],
   "source": [
    "defaulted = data.Risk_Flag.sum() # len(data.Risk_Flag[data.Risk_Flag == 1])\n",
    "total = len(data.Risk_Flag)\n",
    "rate_of_default = defaulted / total\n",
    "print(f\"The rate of 'defaulted-on-loan' is {rate_of_default * 100 }% and total number of defaulter are\", defaulted)"
   ]
  },
  {
   "cell_type": "code",
   "execution_count": 8,
   "id": "3973b76e",
   "metadata": {
    "execution": {
     "iopub.execute_input": "2023-01-17T13:03:27.040421Z",
     "iopub.status.busy": "2023-01-17T13:03:27.039575Z",
     "iopub.status.idle": "2023-01-17T13:03:27.426043Z",
     "shell.execute_reply": "2023-01-17T13:03:27.424734Z"
    },
    "papermill": {
     "duration": 0.413047,
     "end_time": "2023-01-17T13:03:27.428610",
     "exception": false,
     "start_time": "2023-01-17T13:03:27.015563",
     "status": "completed"
    },
    "tags": []
   },
   "outputs": [
    {
     "data": {
      "image/png": "[encoded data removed]",
      "text/plain": [
       "<Figure size 1296x576 with 2 Axes>"
      ]
     },
     "metadata": {
      "needs_background": "light"
     },
     "output_type": "display_data"
    }
   ],
   "source": [
    "f, ax = plt.subplots(1,2, figsize=(18,8))\n",
    "data.Risk_Flag.value_counts().plot.pie(explode=[0,0.1], autopct= \"%1.f%%\", shadow = True, ax=ax[0])\n",
    "ax[0].set_title(\"Paid vs Defaulted\")\n",
    "ax[0].set_ylabel(\"\")\n",
    "sns.countplot(\"Risk_Flag\", data=data, ax=ax[1])\n",
    "ax[1].set_title(\"Paid vs Defaulted\")\n",
    "plt.show()"
   ]
  },
  {
   "cell_type": "markdown",
   "id": "59146ec5",
   "metadata": {
    "papermill": {
     "duration": 0.023167,
     "end_time": "2023-01-17T13:03:27.475181",
     "exception": false,
     "start_time": "2023-01-17T13:03:27.452014",
     "status": "completed"
    },
    "tags": []
   },
   "source": [
    "__*Here we can see that about 12% have defaulted-on-loan.*__"
   ]
  },
  {
   "cell_type": "markdown",
   "id": "05d70dd8",
   "metadata": {
    "papermill": {
     "duration": 0.022734,
     "end_time": "2023-01-17T13:03:27.521257",
     "exception": false,
     "start_time": "2023-01-17T13:03:27.498523",
     "status": "completed"
    },
    "tags": []
   },
   "source": [
    "## Marital_status *(Married/Single) -> Categorical value*"
   ]
  },
  {
   "cell_type": "code",
   "execution_count": 9,
   "id": "af4fa3de",
   "metadata": {
    "execution": {
     "iopub.execute_input": "2023-01-17T13:03:27.570575Z",
     "iopub.status.busy": "2023-01-17T13:03:27.570154Z",
     "iopub.status.idle": "2023-01-17T13:03:27.576207Z",
     "shell.execute_reply": "2023-01-17T13:03:27.574803Z"
    },
    "papermill": {
     "duration": 0.03362,
     "end_time": "2023-01-17T13:03:27.578492",
     "exception": false,
     "start_time": "2023-01-17T13:03:27.544872",
     "status": "completed"
    },
    "tags": []
   },
   "outputs": [],
   "source": [
    "data.rename(columns = {\"Married/Single\" : \"Marital_status\"},inplace=True)"
   ]
  },
  {
   "cell_type": "code",
   "execution_count": 10,
   "id": "6474eff9",
   "metadata": {
    "execution": {
     "iopub.execute_input": "2023-01-17T13:03:27.627257Z",
     "iopub.status.busy": "2023-01-17T13:03:27.626529Z",
     "iopub.status.idle": "2023-01-17T13:03:27.649666Z",
     "shell.execute_reply": "2023-01-17T13:03:27.648498Z"
    },
    "papermill": {
     "duration": 0.050234,
     "end_time": "2023-01-17T13:03:27.652114",
     "exception": false,
     "start_time": "2023-01-17T13:03:27.601880",
     "status": "completed"
    },
    "tags": []
   },
   "outputs": [
    {
     "data": {
      "text/plain": [
       "single     226272\n",
       "married     25728\n",
       "Name: Marital_status, dtype: int64"
      ]
     },
     "execution_count": 10,
     "metadata": {},
     "output_type": "execute_result"
    }
   ],
   "source": [
    "data.Marital_status.value_counts()"
   ]
  },
  {
   "cell_type": "code",
   "execution_count": 11,
   "id": "f589f58d",
   "metadata": {
    "execution": {
     "iopub.execute_input": "2023-01-17T13:03:27.701508Z",
     "iopub.status.busy": "2023-01-17T13:03:27.700405Z",
     "iopub.status.idle": "2023-01-17T13:03:27.941586Z",
     "shell.execute_reply": "2023-01-17T13:03:27.940410Z"
    },
    "papermill": {
     "duration": 0.268446,
     "end_time": "2023-01-17T13:03:27.944137",
     "exception": false,
     "start_time": "2023-01-17T13:03:27.675691",
     "status": "completed"
    },
    "tags": []
   },
   "outputs": [
    {
     "data": {
      "text/html": [
       "<style type=\"text/css\">\n",
       "#T_3f4eb_row0_col0, #T_3f4eb_row0_col1, #T_3f4eb_row0_col2 {\n",
       "  background-color: #f7fbff;\n",
       "  color: #000000;\n",
       "}\n",
       "#T_3f4eb_row1_col0, #T_3f4eb_row1_col2 {\n",
       "  background-color: #084e98;\n",
       "  color: #f1f1f1;\n",
       "}\n",
       "#T_3f4eb_row1_col1 {\n",
       "  background-color: #08488e;\n",
       "  color: #f1f1f1;\n",
       "}\n",
       "#T_3f4eb_row2_col0, #T_3f4eb_row2_col1, #T_3f4eb_row2_col2 {\n",
       "  background-color: #08306b;\n",
       "  color: #f1f1f1;\n",
       "}\n",
       "</style>\n",
       "<table id=\"T_3f4eb_\">\n",
       "  <thead>\n",
       "    <tr>\n",
       "      <th class=\"index_name level0\" >Risk_Flag</th>\n",
       "      <th class=\"col_heading level0 col0\" >0</th>\n",
       "      <th class=\"col_heading level0 col1\" >1</th>\n",
       "      <th class=\"col_heading level0 col2\" >All</th>\n",
       "    </tr>\n",
       "    <tr>\n",
       "      <th class=\"index_name level0\" >Marital_status</th>\n",
       "      <th class=\"blank col0\" >&nbsp;</th>\n",
       "      <th class=\"blank col1\" >&nbsp;</th>\n",
       "      <th class=\"blank col2\" >&nbsp;</th>\n",
       "    </tr>\n",
       "  </thead>\n",
       "  <tbody>\n",
       "    <tr>\n",
       "      <th id=\"T_3f4eb_level0_row0\" class=\"row_heading level0 row0\" >married</th>\n",
       "      <td id=\"T_3f4eb_row0_col0\" class=\"data row0 col0\" >23092</td>\n",
       "      <td id=\"T_3f4eb_row0_col1\" class=\"data row0 col1\" >2636</td>\n",
       "      <td id=\"T_3f4eb_row0_col2\" class=\"data row0 col2\" >25728</td>\n",
       "    </tr>\n",
       "    <tr>\n",
       "      <th id=\"T_3f4eb_level0_row1\" class=\"row_heading level0 row1\" >single</th>\n",
       "      <td id=\"T_3f4eb_row1_col0\" class=\"data row1 col0\" >197912</td>\n",
       "      <td id=\"T_3f4eb_row1_col1\" class=\"data row1 col1\" >28360</td>\n",
       "      <td id=\"T_3f4eb_row1_col2\" class=\"data row1 col2\" >226272</td>\n",
       "    </tr>\n",
       "    <tr>\n",
       "      <th id=\"T_3f4eb_level0_row2\" class=\"row_heading level0 row2\" >All</th>\n",
       "      <td id=\"T_3f4eb_row2_col0\" class=\"data row2 col0\" >221004</td>\n",
       "      <td id=\"T_3f4eb_row2_col1\" class=\"data row2 col1\" >30996</td>\n",
       "      <td id=\"T_3f4eb_row2_col2\" class=\"data row2 col2\" >252000</td>\n",
       "    </tr>\n",
       "  </tbody>\n",
       "</table>\n"
      ],
      "text/plain": [
       "<pandas.io.formats.style.Styler at 0x7fb69dab5590>"
      ]
     },
     "execution_count": 11,
     "metadata": {},
     "output_type": "execute_result"
    }
   ],
   "source": [
    "pd.crosstab(data.Marital_status, data.Risk_Flag, margins=True).style.background_gradient(cmap=\"Blues\")"
   ]
  },
  {
   "cell_type": "code",
   "execution_count": 12,
   "id": "f098277a",
   "metadata": {
    "execution": {
     "iopub.execute_input": "2023-01-17T13:03:27.995379Z",
     "iopub.status.busy": "2023-01-17T13:03:27.994557Z",
     "iopub.status.idle": "2023-01-17T13:03:28.001589Z",
     "shell.execute_reply": "2023-01-17T13:03:28.000152Z"
    },
    "papermill": {
     "duration": 0.035866,
     "end_time": "2023-01-17T13:03:28.004051",
     "exception": false,
     "start_time": "2023-01-17T13:03:27.968185",
     "status": "completed"
    },
    "tags": []
   },
   "outputs": [
    {
     "name": "stdout",
     "output_type": "stream",
     "text": [
      "default-on-loan for married is 10 %\n",
      "default-on-loan for single is 13%\n"
     ]
    }
   ],
   "source": [
    "married_default_rate = 2636 / 25728 \n",
    "single_default_rate = 28360 / 226272\n",
    "print(f\"default-on-loan for married is {round(married_default_rate * 100)} %\\n\"\n",
    "      f\"default-on-loan for single is {round(single_default_rate * 100)}%\")"
   ]
  },
  {
   "cell_type": "code",
   "execution_count": 13,
   "id": "faec9801",
   "metadata": {
    "execution": {
     "iopub.execute_input": "2023-01-17T13:03:28.053588Z",
     "iopub.status.busy": "2023-01-17T13:03:28.053161Z",
     "iopub.status.idle": "2023-01-17T13:03:28.655695Z",
     "shell.execute_reply": "2023-01-17T13:03:28.654727Z"
    },
    "papermill": {
     "duration": 0.630036,
     "end_time": "2023-01-17T13:03:28.658085",
     "exception": false,
     "start_time": "2023-01-17T13:03:28.028049",
     "status": "completed"
    },
    "tags": []
   },
   "outputs": [
    {
     "data": {
      "text/plain": [
       "[Text(0.5, 1.0, 'Paid and Default based on Marital status')]"
      ]
     },
     "execution_count": 13,
     "metadata": {},
     "output_type": "execute_result"
    },
    {
     "data": {
      "image/png": "[encoded data removed]",
      "text/plain": [
       "<Figure size 1296x576 with 2 Axes>"
      ]
     },
     "metadata": {
      "needs_background": "light"
     },
     "output_type": "display_data"
    }
   ],
   "source": [
    "f, ax = plt.subplots(1,2,figsize=(18,8))\n",
    "data.Marital_status.value_counts().plot.bar(ax=ax[0]).set(title = \"no. of singles and married\")\n",
    "sns.countplot(data.Marital_status, hue=data.Risk_Flag, ax=ax[1]).set(title=\"Paid and Default based on Marital status\")"
   ]
  },
  {
   "cell_type": "markdown",
   "id": "b18c7ecd",
   "metadata": {
    "papermill": {
     "duration": 0.0239,
     "end_time": "2023-01-17T13:03:28.705969",
     "exception": false,
     "start_time": "2023-01-17T13:03:28.682069",
     "status": "completed"
    },
    "tags": []
   },
   "source": [
    "__Observation__: based on above calculation and figures we can say that __singles__ have more Risk Flags then __married__ when compared and there are more __singles__ that wants loan then __married__.\n",
    "                 "
   ]
  },
  {
   "cell_type": "markdown",
   "id": "8f50909b",
   "metadata": {
    "papermill": {
     "duration": 0.024873,
     "end_time": "2023-01-17T13:03:28.754909",
     "exception": false,
     "start_time": "2023-01-17T13:03:28.730036",
     "status": "completed"
    },
    "tags": []
   },
   "source": [
    "## Profession -> *Categorical variable* "
   ]
  },
  {
   "cell_type": "code",
   "execution_count": 14,
   "id": "057fbe48",
   "metadata": {
    "execution": {
     "iopub.execute_input": "2023-01-17T13:03:28.805225Z",
     "iopub.status.busy": "2023-01-17T13:03:28.804809Z",
     "iopub.status.idle": "2023-01-17T13:03:28.830079Z",
     "shell.execute_reply": "2023-01-17T13:03:28.828621Z"
    },
    "papermill": {
     "duration": 0.053316,
     "end_time": "2023-01-17T13:03:28.832525",
     "exception": false,
     "start_time": "2023-01-17T13:03:28.779209",
     "status": "completed"
    },
    "tags": []
   },
   "outputs": [
    {
     "name": "stdout",
     "output_type": "stream",
     "text": [
      "The number of profession in dataset is 51\n"
     ]
    }
   ],
   "source": [
    "print(f\"The number of profession in dataset is {len(data.Profession.value_counts())}\")"
   ]
  },
  {
   "cell_type": "code",
   "execution_count": 15,
   "id": "030b452d",
   "metadata": {
    "execution": {
     "iopub.execute_input": "2023-01-17T13:03:28.885208Z",
     "iopub.status.busy": "2023-01-17T13:03:28.884100Z",
     "iopub.status.idle": "2023-01-17T13:03:29.929837Z",
     "shell.execute_reply": "2023-01-17T13:03:29.928720Z"
    },
    "papermill": {
     "duration": 1.075463,
     "end_time": "2023-01-17T13:03:29.932399",
     "exception": false,
     "start_time": "2023-01-17T13:03:28.856936",
     "status": "completed"
    },
    "tags": []
   },
   "outputs": [
    {
     "data": {
      "image/png": "[encoded data removed]",
      "text/plain": [
       "<Figure size 1296x576 with 1 Axes>"
      ]
     },
     "metadata": {
      "needs_background": "light"
     },
     "output_type": "display_data"
    },
    {
     "data": {
      "text/html": [
       "<div>\n",
       "<style scoped>\n",
       "    .dataframe tbody tr th:only-of-type {\n",
       "        vertical-align: middle;\n",
       "    }\n",
       "\n",
       "    .dataframe tbody tr th {\n",
       "        vertical-align: top;\n",
       "    }\n",
       "\n",
       "    .dataframe thead th {\n",
       "        text-align: right;\n",
       "    }\n",
       "</style>\n",
       "<table border=\"1\" class=\"dataframe\">\n",
       "  <thead>\n",
       "    <tr style=\"text-align: right;\">\n",
       "      <th>Risk_Flag</th>\n",
       "      <th>0</th>\n",
       "      <th>1</th>\n",
       "      <th>All</th>\n",
       "    </tr>\n",
       "    <tr>\n",
       "      <th>Profession</th>\n",
       "      <th></th>\n",
       "      <th></th>\n",
       "      <th></th>\n",
       "    </tr>\n",
       "  </thead>\n",
       "  <tbody>\n",
       "    <tr>\n",
       "      <th>All</th>\n",
       "      <td>221004</td>\n",
       "      <td>30996</td>\n",
       "      <td>252000</td>\n",
       "    </tr>\n",
       "    <tr>\n",
       "      <th>Police_officer</th>\n",
       "      <td>4209</td>\n",
       "      <td>826</td>\n",
       "      <td>5035</td>\n",
       "    </tr>\n",
       "    <tr>\n",
       "      <th>Software_Developer</th>\n",
       "      <td>4303</td>\n",
       "      <td>750</td>\n",
       "      <td>5053</td>\n",
       "    </tr>\n",
       "    <tr>\n",
       "      <th>Air_traffic_controller</th>\n",
       "      <td>4566</td>\n",
       "      <td>715</td>\n",
       "      <td>5281</td>\n",
       "    </tr>\n",
       "    <tr>\n",
       "      <th>Surveyor</th>\n",
       "      <td>4000</td>\n",
       "      <td>714</td>\n",
       "      <td>4714</td>\n",
       "    </tr>\n",
       "  </tbody>\n",
       "</table>\n",
       "</div>"
      ],
      "text/plain": [
       "Risk_Flag                    0      1     All\n",
       "Profession                                   \n",
       "All                     221004  30996  252000\n",
       "Police_officer            4209    826    5035\n",
       "Software_Developer        4303    750    5053\n",
       "Air_traffic_controller    4566    715    5281\n",
       "Surveyor                  4000    714    4714"
      ]
     },
     "execution_count": 15,
     "metadata": {},
     "output_type": "execute_result"
    }
   ],
   "source": [
    "plt.subplots(figsize=(18,8))\n",
    "data.Profession.value_counts().plot.bar()\n",
    "plt.show()\n",
    "\n",
    "pd.crosstab(data.Profession, data.Risk_Flag, margins=True).sort_values(by=1, ascending=False).head()"
   ]
  },
  {
   "cell_type": "markdown",
   "id": "599e9f14",
   "metadata": {
    "papermill": {
     "duration": 0.025331,
     "end_time": "2023-01-17T13:03:29.983120",
     "exception": false,
     "start_time": "2023-01-17T13:03:29.957789",
     "status": "completed"
    },
    "tags": []
   },
   "source": [
    "__Observation__:\n",
    "from above we found that there are total __51__ number of __profession__, and __Physicians__ seems to be the Profession that takes most loans and __Police_officer__ default-on-loan most 0_0. "
   ]
  },
  {
   "cell_type": "markdown",
   "id": "783e35b6",
   "metadata": {
    "papermill": {
     "duration": 0.024994,
     "end_time": "2023-01-17T13:03:30.033849",
     "exception": false,
     "start_time": "2023-01-17T13:03:30.008855",
     "status": "completed"
    },
    "tags": []
   },
   "source": [
    "## House Ownership -> *Categorical Variable*"
   ]
  },
  {
   "cell_type": "code",
   "execution_count": 16,
   "id": "591db3d7",
   "metadata": {
    "execution": {
     "iopub.execute_input": "2023-01-17T13:03:30.086549Z",
     "iopub.status.busy": "2023-01-17T13:03:30.086098Z",
     "iopub.status.idle": "2023-01-17T13:03:30.109491Z",
     "shell.execute_reply": "2023-01-17T13:03:30.108703Z"
    },
    "papermill": {
     "duration": 0.052421,
     "end_time": "2023-01-17T13:03:30.111565",
     "exception": false,
     "start_time": "2023-01-17T13:03:30.059144",
     "status": "completed"
    },
    "tags": []
   },
   "outputs": [
    {
     "data": {
      "text/plain": [
       "rented          231898\n",
       "owned            12918\n",
       "norent_noown      7184\n",
       "Name: House_Ownership, dtype: int64"
      ]
     },
     "execution_count": 16,
     "metadata": {},
     "output_type": "execute_result"
    }
   ],
   "source": [
    "data.House_Ownership.value_counts()"
   ]
  },
  {
   "cell_type": "code",
   "execution_count": 17,
   "id": "f4cec3ca",
   "metadata": {
    "execution": {
     "iopub.execute_input": "2023-01-17T13:03:30.164947Z",
     "iopub.status.busy": "2023-01-17T13:03:30.164211Z",
     "iopub.status.idle": "2023-01-17T13:03:30.722660Z",
     "shell.execute_reply": "2023-01-17T13:03:30.721701Z"
    },
    "papermill": {
     "duration": 0.588005,
     "end_time": "2023-01-17T13:03:30.725153",
     "exception": false,
     "start_time": "2023-01-17T13:03:30.137148",
     "status": "completed"
    },
    "tags": []
   },
   "outputs": [
    {
     "data": {
      "image/png": "[encoded data removed]",
      "text/plain": [
       "<Figure size 1296x576 with 2 Axes>"
      ]
     },
     "metadata": {
      "needs_background": "light"
     },
     "output_type": "display_data"
    }
   ],
   "source": [
    "f, ax = plt.subplots(1,2,figsize=(18,8))\n",
    "data[\"House_Ownership\"].value_counts().plot.bar(ax=ax[0])\n",
    "sns.countplot(data.House_Ownership, hue=data.Risk_Flag, ax=ax[1])\n",
    "plt.show()"
   ]
  },
  {
   "cell_type": "markdown",
   "id": "21e1c646",
   "metadata": {
    "papermill": {
     "duration": 0.025564,
     "end_time": "2023-01-17T13:03:30.776972",
     "exception": false,
     "start_time": "2023-01-17T13:03:30.751408",
     "status": "completed"
    },
    "tags": []
   },
   "source": [
    "__Observation__: \\\n",
    "People who __Rented__ are the highest loan takers and highest defaulters."
   ]
  },
  {
   "cell_type": "markdown",
   "id": "18f01ef2",
   "metadata": {
    "papermill": {
     "duration": 0.025125,
     "end_time": "2023-01-17T13:03:30.827392",
     "exception": false,
     "start_time": "2023-01-17T13:03:30.802267",
     "status": "completed"
    },
    "tags": []
   },
   "source": [
    "## Car Ownership -> *Categorical value*"
   ]
  },
  {
   "cell_type": "code",
   "execution_count": 18,
   "id": "5c851db2",
   "metadata": {
    "execution": {
     "iopub.execute_input": "2023-01-17T13:03:30.881247Z",
     "iopub.status.busy": "2023-01-17T13:03:30.880563Z",
     "iopub.status.idle": "2023-01-17T13:03:30.903760Z",
     "shell.execute_reply": "2023-01-17T13:03:30.902581Z"
    },
    "papermill": {
     "duration": 0.053136,
     "end_time": "2023-01-17T13:03:30.906082",
     "exception": false,
     "start_time": "2023-01-17T13:03:30.852946",
     "status": "completed"
    },
    "tags": []
   },
   "outputs": [
    {
     "data": {
      "text/plain": [
       "no     176000\n",
       "yes     76000\n",
       "Name: Car_Ownership, dtype: int64"
      ]
     },
     "execution_count": 18,
     "metadata": {},
     "output_type": "execute_result"
    }
   ],
   "source": [
    "data.Car_Ownership.value_counts()"
   ]
  },
  {
   "cell_type": "code",
   "execution_count": 19,
   "id": "161d77ee",
   "metadata": {
    "execution": {
     "iopub.execute_input": "2023-01-17T13:03:30.960030Z",
     "iopub.status.busy": "2023-01-17T13:03:30.959513Z",
     "iopub.status.idle": "2023-01-17T13:03:31.514170Z",
     "shell.execute_reply": "2023-01-17T13:03:31.513059Z"
    },
    "papermill": {
     "duration": 0.584514,
     "end_time": "2023-01-17T13:03:31.516738",
     "exception": false,
     "start_time": "2023-01-17T13:03:30.932224",
     "status": "completed"
    },
    "tags": []
   },
   "outputs": [
    {
     "data": {
      "image/png": "[encoded data removed]",
      "text/plain": [
       "<Figure size 1296x576 with 2 Axes>"
      ]
     },
     "metadata": {
      "needs_background": "light"
     },
     "output_type": "display_data"
    }
   ],
   "source": [
    "f, ax = plt.subplots(1,2,figsize=(18,8))\n",
    "data[\"Car_Ownership\"].value_counts().plot.bar(ax=ax[0])\n",
    "sns.countplot(data.Car_Ownership, hue=data.Risk_Flag, ax=ax[1])\n",
    "plt.show()"
   ]
  },
  {
   "cell_type": "code",
   "execution_count": 20,
   "id": "1bca6232",
   "metadata": {
    "execution": {
     "iopub.execute_input": "2023-01-17T13:03:31.571222Z",
     "iopub.status.busy": "2023-01-17T13:03:31.570824Z",
     "iopub.status.idle": "2023-01-17T13:03:31.747859Z",
     "shell.execute_reply": "2023-01-17T13:03:31.746523Z"
    },
    "papermill": {
     "duration": 0.20735,
     "end_time": "2023-01-17T13:03:31.750386",
     "exception": false,
     "start_time": "2023-01-17T13:03:31.543036",
     "status": "completed"
    },
    "tags": []
   },
   "outputs": [
    {
     "data": {
      "text/html": [
       "<div>\n",
       "<style scoped>\n",
       "    .dataframe tbody tr th:only-of-type {\n",
       "        vertical-align: middle;\n",
       "    }\n",
       "\n",
       "    .dataframe tbody tr th {\n",
       "        vertical-align: top;\n",
       "    }\n",
       "\n",
       "    .dataframe thead th {\n",
       "        text-align: right;\n",
       "    }\n",
       "</style>\n",
       "<table border=\"1\" class=\"dataframe\">\n",
       "  <thead>\n",
       "    <tr style=\"text-align: right;\">\n",
       "      <th>Risk_Flag</th>\n",
       "      <th>0</th>\n",
       "      <th>1</th>\n",
       "      <th>All</th>\n",
       "    </tr>\n",
       "    <tr>\n",
       "      <th>Car_Ownership</th>\n",
       "      <th></th>\n",
       "      <th></th>\n",
       "      <th></th>\n",
       "    </tr>\n",
       "  </thead>\n",
       "  <tbody>\n",
       "    <tr>\n",
       "      <th>no</th>\n",
       "      <td>153439</td>\n",
       "      <td>22561</td>\n",
       "      <td>176000</td>\n",
       "    </tr>\n",
       "    <tr>\n",
       "      <th>yes</th>\n",
       "      <td>67565</td>\n",
       "      <td>8435</td>\n",
       "      <td>76000</td>\n",
       "    </tr>\n",
       "    <tr>\n",
       "      <th>All</th>\n",
       "      <td>221004</td>\n",
       "      <td>30996</td>\n",
       "      <td>252000</td>\n",
       "    </tr>\n",
       "  </tbody>\n",
       "</table>\n",
       "</div>"
      ],
      "text/plain": [
       "Risk_Flag           0      1     All\n",
       "Car_Ownership                       \n",
       "no             153439  22561  176000\n",
       "yes             67565   8435   76000\n",
       "All            221004  30996  252000"
      ]
     },
     "execution_count": 20,
     "metadata": {},
     "output_type": "execute_result"
    }
   ],
   "source": [
    "pd.crosstab(data.Car_Ownership, data.Risk_Flag, margins=True)"
   ]
  },
  {
   "cell_type": "code",
   "execution_count": 21,
   "id": "c4cc2bfc",
   "metadata": {
    "execution": {
     "iopub.execute_input": "2023-01-17T13:03:31.806290Z",
     "iopub.status.busy": "2023-01-17T13:03:31.805906Z",
     "iopub.status.idle": "2023-01-17T13:03:31.812040Z",
     "shell.execute_reply": "2023-01-17T13:03:31.810901Z"
    },
    "papermill": {
     "duration": 0.037598,
     "end_time": "2023-01-17T13:03:31.815530",
     "exception": false,
     "start_time": "2023-01-17T13:03:31.777932",
     "status": "completed"
    },
    "tags": []
   },
   "outputs": [
    {
     "name": "stdout",
     "output_type": "stream",
     "text": [
      "defaulters with car: 11 %\n",
      "defaulters with no car: 13 %\n"
     ]
    }
   ],
   "source": [
    "print(\"defaulters with car:\",round((8435/76000) * 100),\"%\")\n",
    "print(\"defaulters with no car:\",round((22561/176000) * 100),\"%\") "
   ]
  },
  {
   "cell_type": "code",
   "execution_count": 22,
   "id": "9be8338b",
   "metadata": {
    "execution": {
     "iopub.execute_input": "2023-01-17T13:03:31.871780Z",
     "iopub.status.busy": "2023-01-17T13:03:31.871351Z",
     "iopub.status.idle": "2023-01-17T13:03:36.169158Z",
     "shell.execute_reply": "2023-01-17T13:03:36.167928Z"
    },
    "papermill": {
     "duration": 4.328646,
     "end_time": "2023-01-17T13:03:36.172154",
     "exception": false,
     "start_time": "2023-01-17T13:03:31.843508",
     "status": "completed"
    },
    "tags": []
   },
   "outputs": [
    {
     "data": {
      "image/png": "[encoded data removed]",
      "text/plain": [
       "<Figure size 443.375x360 with 1 Axes>"
      ]
     },
     "metadata": {
      "needs_background": "light"
     },
     "output_type": "display_data"
    }
   ],
   "source": [
    "sns.factorplot('House_Ownership','Risk_Flag',hue='Car_Ownership',data=data)\n",
    "plt.show()"
   ]
  },
  {
   "cell_type": "markdown",
   "id": "0b1984c8",
   "metadata": {
    "papermill": {
     "duration": 0.027298,
     "end_time": "2023-01-17T13:03:36.227724",
     "exception": false,
     "start_time": "2023-01-17T13:03:36.200426",
     "status": "completed"
    },
    "tags": []
   },
   "source": [
    "__Observation__: \\\n",
    "__People with no car(13%)__ tend to default-on-loan __more__ than __people with car(11%)__.\\\n",
    "From factor plot we can see that people with __house ownership__ as well as __car ownership__ default-on-loan __less__ then other category."
   ]
  },
  {
   "cell_type": "markdown",
   "id": "ac3d05ba",
   "metadata": {
    "papermill": {
     "duration": 0.027633,
     "end_time": "2023-01-17T13:03:36.283361",
     "exception": false,
     "start_time": "2023-01-17T13:03:36.255728",
     "status": "completed"
    },
    "tags": []
   },
   "source": [
    "## State (and city) -> *Categorical Variable*"
   ]
  },
  {
   "cell_type": "code",
   "execution_count": 23,
   "id": "9ecde04f",
   "metadata": {
    "execution": {
     "iopub.execute_input": "2023-01-17T13:03:36.340088Z",
     "iopub.status.busy": "2023-01-17T13:03:36.339090Z",
     "iopub.status.idle": "2023-01-17T13:03:36.378803Z",
     "shell.execute_reply": "2023-01-17T13:03:36.377958Z"
    },
    "papermill": {
     "duration": 0.070752,
     "end_time": "2023-01-17T13:03:36.380993",
     "exception": false,
     "start_time": "2023-01-17T13:03:36.310241",
     "status": "completed"
    },
    "tags": []
   },
   "outputs": [
    {
     "data": {
      "text/plain": [
       "((29,), (317,))"
      ]
     },
     "execution_count": 23,
     "metadata": {},
     "output_type": "execute_result"
    }
   ],
   "source": [
    "data.STATE.value_counts().shape, data.CITY.value_counts().shape"
   ]
  },
  {
   "cell_type": "markdown",
   "id": "56c4e25b",
   "metadata": {
    "papermill": {
     "duration": 0.027201,
     "end_time": "2023-01-17T13:03:36.435520",
     "exception": false,
     "start_time": "2023-01-17T13:03:36.408319",
     "status": "completed"
    },
    "tags": []
   },
   "source": [
    "so, there are 317 cities and 29 states in dataset."
   ]
  },
  {
   "cell_type": "code",
   "execution_count": 24,
   "id": "e9b3821c",
   "metadata": {
    "execution": {
     "iopub.execute_input": "2023-01-17T13:03:36.494007Z",
     "iopub.status.busy": "2023-01-17T13:03:36.492969Z",
     "iopub.status.idle": "2023-01-17T13:03:36.921107Z",
     "shell.execute_reply": "2023-01-17T13:03:36.919745Z"
    },
    "papermill": {
     "duration": 0.459237,
     "end_time": "2023-01-17T13:03:36.923762",
     "exception": false,
     "start_time": "2023-01-17T13:03:36.464525",
     "status": "completed"
    },
    "tags": []
   },
   "outputs": [
    {
     "data": {
      "text/html": [
       "<div>\n",
       "<style scoped>\n",
       "    .dataframe tbody tr th:only-of-type {\n",
       "        vertical-align: middle;\n",
       "    }\n",
       "\n",
       "    .dataframe tbody tr th {\n",
       "        vertical-align: top;\n",
       "    }\n",
       "\n",
       "    .dataframe thead th {\n",
       "        text-align: right;\n",
       "    }\n",
       "</style>\n",
       "<table border=\"1\" class=\"dataframe\">\n",
       "  <thead>\n",
       "    <tr style=\"text-align: right;\">\n",
       "      <th>CITY</th>\n",
       "      <th>Adoni</th>\n",
       "      <th>Agartala</th>\n",
       "      <th>Agra</th>\n",
       "      <th>Ahmedabad</th>\n",
       "      <th>Ahmednagar</th>\n",
       "      <th>Aizawl</th>\n",
       "      <th>Ajmer</th>\n",
       "      <th>Akola</th>\n",
       "      <th>Alappuzha</th>\n",
       "      <th>Aligarh</th>\n",
       "      <th>...</th>\n",
       "      <th>Vadodara</th>\n",
       "      <th>Varanasi</th>\n",
       "      <th>Vasai-Virar</th>\n",
       "      <th>Vellore</th>\n",
       "      <th>Vijayanagaram</th>\n",
       "      <th>Vijayawada</th>\n",
       "      <th>Visakhapatnam[4]</th>\n",
       "      <th>Warangal[11][12]</th>\n",
       "      <th>Yamunanagar</th>\n",
       "      <th>All</th>\n",
       "    </tr>\n",
       "    <tr>\n",
       "      <th>STATE</th>\n",
       "      <th></th>\n",
       "      <th></th>\n",
       "      <th></th>\n",
       "      <th></th>\n",
       "      <th></th>\n",
       "      <th></th>\n",
       "      <th></th>\n",
       "      <th></th>\n",
       "      <th></th>\n",
       "      <th></th>\n",
       "      <th></th>\n",
       "      <th></th>\n",
       "      <th></th>\n",
       "      <th></th>\n",
       "      <th></th>\n",
       "      <th></th>\n",
       "      <th></th>\n",
       "      <th></th>\n",
       "      <th></th>\n",
       "      <th></th>\n",
       "      <th></th>\n",
       "    </tr>\n",
       "  </thead>\n",
       "  <tbody>\n",
       "    <tr>\n",
       "      <th>Andhra_Pradesh</th>\n",
       "      <td>953</td>\n",
       "      <td>0</td>\n",
       "      <td>0</td>\n",
       "      <td>0</td>\n",
       "      <td>0</td>\n",
       "      <td>0</td>\n",
       "      <td>0</td>\n",
       "      <td>0</td>\n",
       "      <td>0</td>\n",
       "      <td>0</td>\n",
       "      <td>...</td>\n",
       "      <td>0</td>\n",
       "      <td>0</td>\n",
       "      <td>0</td>\n",
       "      <td>0</td>\n",
       "      <td>1259</td>\n",
       "      <td>1172</td>\n",
       "      <td>971</td>\n",
       "      <td>0</td>\n",
       "      <td>0</td>\n",
       "      <td>25297</td>\n",
       "    </tr>\n",
       "    <tr>\n",
       "      <th>Assam</th>\n",
       "      <td>0</td>\n",
       "      <td>0</td>\n",
       "      <td>0</td>\n",
       "      <td>0</td>\n",
       "      <td>0</td>\n",
       "      <td>0</td>\n",
       "      <td>0</td>\n",
       "      <td>0</td>\n",
       "      <td>0</td>\n",
       "      <td>0</td>\n",
       "      <td>...</td>\n",
       "      <td>0</td>\n",
       "      <td>0</td>\n",
       "      <td>0</td>\n",
       "      <td>0</td>\n",
       "      <td>0</td>\n",
       "      <td>0</td>\n",
       "      <td>0</td>\n",
       "      <td>0</td>\n",
       "      <td>0</td>\n",
       "      <td>7062</td>\n",
       "    </tr>\n",
       "    <tr>\n",
       "      <th>Bihar</th>\n",
       "      <td>0</td>\n",
       "      <td>0</td>\n",
       "      <td>0</td>\n",
       "      <td>0</td>\n",
       "      <td>0</td>\n",
       "      <td>0</td>\n",
       "      <td>0</td>\n",
       "      <td>0</td>\n",
       "      <td>0</td>\n",
       "      <td>0</td>\n",
       "      <td>...</td>\n",
       "      <td>0</td>\n",
       "      <td>0</td>\n",
       "      <td>0</td>\n",
       "      <td>0</td>\n",
       "      <td>0</td>\n",
       "      <td>0</td>\n",
       "      <td>0</td>\n",
       "      <td>0</td>\n",
       "      <td>0</td>\n",
       "      <td>19780</td>\n",
       "    </tr>\n",
       "    <tr>\n",
       "      <th>Chandigarh</th>\n",
       "      <td>0</td>\n",
       "      <td>0</td>\n",
       "      <td>0</td>\n",
       "      <td>0</td>\n",
       "      <td>0</td>\n",
       "      <td>0</td>\n",
       "      <td>0</td>\n",
       "      <td>0</td>\n",
       "      <td>0</td>\n",
       "      <td>0</td>\n",
       "      <td>...</td>\n",
       "      <td>0</td>\n",
       "      <td>0</td>\n",
       "      <td>0</td>\n",
       "      <td>0</td>\n",
       "      <td>0</td>\n",
       "      <td>0</td>\n",
       "      <td>0</td>\n",
       "      <td>0</td>\n",
       "      <td>0</td>\n",
       "      <td>656</td>\n",
       "    </tr>\n",
       "    <tr>\n",
       "      <th>Chhattisgarh</th>\n",
       "      <td>0</td>\n",
       "      <td>0</td>\n",
       "      <td>0</td>\n",
       "      <td>0</td>\n",
       "      <td>0</td>\n",
       "      <td>0</td>\n",
       "      <td>0</td>\n",
       "      <td>0</td>\n",
       "      <td>0</td>\n",
       "      <td>0</td>\n",
       "      <td>...</td>\n",
       "      <td>0</td>\n",
       "      <td>0</td>\n",
       "      <td>0</td>\n",
       "      <td>0</td>\n",
       "      <td>0</td>\n",
       "      <td>0</td>\n",
       "      <td>0</td>\n",
       "      <td>0</td>\n",
       "      <td>0</td>\n",
       "      <td>3834</td>\n",
       "    </tr>\n",
       "    <tr>\n",
       "      <th>Delhi</th>\n",
       "      <td>0</td>\n",
       "      <td>0</td>\n",
       "      <td>0</td>\n",
       "      <td>0</td>\n",
       "      <td>0</td>\n",
       "      <td>0</td>\n",
       "      <td>0</td>\n",
       "      <td>0</td>\n",
       "      <td>0</td>\n",
       "      <td>0</td>\n",
       "      <td>...</td>\n",
       "      <td>0</td>\n",
       "      <td>0</td>\n",
       "      <td>0</td>\n",
       "      <td>0</td>\n",
       "      <td>0</td>\n",
       "      <td>0</td>\n",
       "      <td>0</td>\n",
       "      <td>0</td>\n",
       "      <td>0</td>\n",
       "      <td>5490</td>\n",
       "    </tr>\n",
       "    <tr>\n",
       "      <th>Gujarat</th>\n",
       "      <td>0</td>\n",
       "      <td>0</td>\n",
       "      <td>0</td>\n",
       "      <td>649</td>\n",
       "      <td>0</td>\n",
       "      <td>0</td>\n",
       "      <td>0</td>\n",
       "      <td>0</td>\n",
       "      <td>0</td>\n",
       "      <td>0</td>\n",
       "      <td>...</td>\n",
       "      <td>960</td>\n",
       "      <td>0</td>\n",
       "      <td>0</td>\n",
       "      <td>0</td>\n",
       "      <td>0</td>\n",
       "      <td>0</td>\n",
       "      <td>0</td>\n",
       "      <td>0</td>\n",
       "      <td>0</td>\n",
       "      <td>11408</td>\n",
       "    </tr>\n",
       "    <tr>\n",
       "      <th>Haryana</th>\n",
       "      <td>0</td>\n",
       "      <td>0</td>\n",
       "      <td>0</td>\n",
       "      <td>0</td>\n",
       "      <td>0</td>\n",
       "      <td>0</td>\n",
       "      <td>0</td>\n",
       "      <td>0</td>\n",
       "      <td>0</td>\n",
       "      <td>0</td>\n",
       "      <td>...</td>\n",
       "      <td>0</td>\n",
       "      <td>0</td>\n",
       "      <td>0</td>\n",
       "      <td>0</td>\n",
       "      <td>0</td>\n",
       "      <td>0</td>\n",
       "      <td>0</td>\n",
       "      <td>0</td>\n",
       "      <td>659</td>\n",
       "      <td>7890</td>\n",
       "    </tr>\n",
       "    <tr>\n",
       "      <th>Himachal_Pradesh</th>\n",
       "      <td>0</td>\n",
       "      <td>0</td>\n",
       "      <td>0</td>\n",
       "      <td>0</td>\n",
       "      <td>0</td>\n",
       "      <td>0</td>\n",
       "      <td>0</td>\n",
       "      <td>0</td>\n",
       "      <td>0</td>\n",
       "      <td>0</td>\n",
       "      <td>...</td>\n",
       "      <td>0</td>\n",
       "      <td>0</td>\n",
       "      <td>0</td>\n",
       "      <td>0</td>\n",
       "      <td>0</td>\n",
       "      <td>0</td>\n",
       "      <td>0</td>\n",
       "      <td>0</td>\n",
       "      <td>0</td>\n",
       "      <td>833</td>\n",
       "    </tr>\n",
       "    <tr>\n",
       "      <th>Jammu_and_Kashmir</th>\n",
       "      <td>0</td>\n",
       "      <td>0</td>\n",
       "      <td>0</td>\n",
       "      <td>0</td>\n",
       "      <td>0</td>\n",
       "      <td>0</td>\n",
       "      <td>0</td>\n",
       "      <td>0</td>\n",
       "      <td>0</td>\n",
       "      <td>0</td>\n",
       "      <td>...</td>\n",
       "      <td>0</td>\n",
       "      <td>0</td>\n",
       "      <td>0</td>\n",
       "      <td>0</td>\n",
       "      <td>0</td>\n",
       "      <td>0</td>\n",
       "      <td>0</td>\n",
       "      <td>0</td>\n",
       "      <td>0</td>\n",
       "      <td>1780</td>\n",
       "    </tr>\n",
       "    <tr>\n",
       "      <th>Jharkhand</th>\n",
       "      <td>0</td>\n",
       "      <td>0</td>\n",
       "      <td>0</td>\n",
       "      <td>0</td>\n",
       "      <td>0</td>\n",
       "      <td>0</td>\n",
       "      <td>0</td>\n",
       "      <td>0</td>\n",
       "      <td>0</td>\n",
       "      <td>0</td>\n",
       "      <td>...</td>\n",
       "      <td>0</td>\n",
       "      <td>0</td>\n",
       "      <td>0</td>\n",
       "      <td>0</td>\n",
       "      <td>0</td>\n",
       "      <td>0</td>\n",
       "      <td>0</td>\n",
       "      <td>0</td>\n",
       "      <td>0</td>\n",
       "      <td>8965</td>\n",
       "    </tr>\n",
       "    <tr>\n",
       "      <th>Karnataka</th>\n",
       "      <td>0</td>\n",
       "      <td>0</td>\n",
       "      <td>0</td>\n",
       "      <td>0</td>\n",
       "      <td>0</td>\n",
       "      <td>0</td>\n",
       "      <td>0</td>\n",
       "      <td>0</td>\n",
       "      <td>0</td>\n",
       "      <td>0</td>\n",
       "      <td>...</td>\n",
       "      <td>0</td>\n",
       "      <td>0</td>\n",
       "      <td>0</td>\n",
       "      <td>0</td>\n",
       "      <td>0</td>\n",
       "      <td>0</td>\n",
       "      <td>0</td>\n",
       "      <td>0</td>\n",
       "      <td>0</td>\n",
       "      <td>11855</td>\n",
       "    </tr>\n",
       "    <tr>\n",
       "      <th>Kerala</th>\n",
       "      <td>0</td>\n",
       "      <td>0</td>\n",
       "      <td>0</td>\n",
       "      <td>0</td>\n",
       "      <td>0</td>\n",
       "      <td>0</td>\n",
       "      <td>0</td>\n",
       "      <td>0</td>\n",
       "      <td>688</td>\n",
       "      <td>0</td>\n",
       "      <td>...</td>\n",
       "      <td>0</td>\n",
       "      <td>0</td>\n",
       "      <td>0</td>\n",
       "      <td>0</td>\n",
       "      <td>0</td>\n",
       "      <td>0</td>\n",
       "      <td>0</td>\n",
       "      <td>0</td>\n",
       "      <td>0</td>\n",
       "      <td>5805</td>\n",
       "    </tr>\n",
       "    <tr>\n",
       "      <th>Madhya_Pradesh</th>\n",
       "      <td>0</td>\n",
       "      <td>0</td>\n",
       "      <td>0</td>\n",
       "      <td>0</td>\n",
       "      <td>0</td>\n",
       "      <td>0</td>\n",
       "      <td>0</td>\n",
       "      <td>0</td>\n",
       "      <td>0</td>\n",
       "      <td>0</td>\n",
       "      <td>...</td>\n",
       "      <td>0</td>\n",
       "      <td>0</td>\n",
       "      <td>0</td>\n",
       "      <td>0</td>\n",
       "      <td>0</td>\n",
       "      <td>0</td>\n",
       "      <td>0</td>\n",
       "      <td>0</td>\n",
       "      <td>0</td>\n",
       "      <td>14122</td>\n",
       "    </tr>\n",
       "    <tr>\n",
       "      <th>Maharashtra</th>\n",
       "      <td>0</td>\n",
       "      <td>0</td>\n",
       "      <td>0</td>\n",
       "      <td>0</td>\n",
       "      <td>645</td>\n",
       "      <td>0</td>\n",
       "      <td>0</td>\n",
       "      <td>767</td>\n",
       "      <td>0</td>\n",
       "      <td>0</td>\n",
       "      <td>...</td>\n",
       "      <td>0</td>\n",
       "      <td>0</td>\n",
       "      <td>930</td>\n",
       "      <td>0</td>\n",
       "      <td>0</td>\n",
       "      <td>0</td>\n",
       "      <td>0</td>\n",
       "      <td>0</td>\n",
       "      <td>0</td>\n",
       "      <td>25562</td>\n",
       "    </tr>\n",
       "    <tr>\n",
       "      <th>Manipur</th>\n",
       "      <td>0</td>\n",
       "      <td>0</td>\n",
       "      <td>0</td>\n",
       "      <td>0</td>\n",
       "      <td>0</td>\n",
       "      <td>0</td>\n",
       "      <td>0</td>\n",
       "      <td>0</td>\n",
       "      <td>0</td>\n",
       "      <td>0</td>\n",
       "      <td>...</td>\n",
       "      <td>0</td>\n",
       "      <td>0</td>\n",
       "      <td>0</td>\n",
       "      <td>0</td>\n",
       "      <td>0</td>\n",
       "      <td>0</td>\n",
       "      <td>0</td>\n",
       "      <td>0</td>\n",
       "      <td>0</td>\n",
       "      <td>849</td>\n",
       "    </tr>\n",
       "    <tr>\n",
       "      <th>Mizoram</th>\n",
       "      <td>0</td>\n",
       "      <td>0</td>\n",
       "      <td>0</td>\n",
       "      <td>0</td>\n",
       "      <td>0</td>\n",
       "      <td>849</td>\n",
       "      <td>0</td>\n",
       "      <td>0</td>\n",
       "      <td>0</td>\n",
       "      <td>0</td>\n",
       "      <td>...</td>\n",
       "      <td>0</td>\n",
       "      <td>0</td>\n",
       "      <td>0</td>\n",
       "      <td>0</td>\n",
       "      <td>0</td>\n",
       "      <td>0</td>\n",
       "      <td>0</td>\n",
       "      <td>0</td>\n",
       "      <td>0</td>\n",
       "      <td>849</td>\n",
       "    </tr>\n",
       "    <tr>\n",
       "      <th>Odisha</th>\n",
       "      <td>0</td>\n",
       "      <td>0</td>\n",
       "      <td>0</td>\n",
       "      <td>0</td>\n",
       "      <td>0</td>\n",
       "      <td>0</td>\n",
       "      <td>0</td>\n",
       "      <td>0</td>\n",
       "      <td>0</td>\n",
       "      <td>0</td>\n",
       "      <td>...</td>\n",
       "      <td>0</td>\n",
       "      <td>0</td>\n",
       "      <td>0</td>\n",
       "      <td>0</td>\n",
       "      <td>0</td>\n",
       "      <td>0</td>\n",
       "      <td>0</td>\n",
       "      <td>0</td>\n",
       "      <td>0</td>\n",
       "      <td>4658</td>\n",
       "    </tr>\n",
       "    <tr>\n",
       "      <th>Puducherry</th>\n",
       "      <td>0</td>\n",
       "      <td>0</td>\n",
       "      <td>0</td>\n",
       "      <td>0</td>\n",
       "      <td>0</td>\n",
       "      <td>0</td>\n",
       "      <td>0</td>\n",
       "      <td>0</td>\n",
       "      <td>0</td>\n",
       "      <td>0</td>\n",
       "      <td>...</td>\n",
       "      <td>0</td>\n",
       "      <td>0</td>\n",
       "      <td>0</td>\n",
       "      <td>0</td>\n",
       "      <td>0</td>\n",
       "      <td>0</td>\n",
       "      <td>0</td>\n",
       "      <td>0</td>\n",
       "      <td>0</td>\n",
       "      <td>1433</td>\n",
       "    </tr>\n",
       "    <tr>\n",
       "      <th>Punjab</th>\n",
       "      <td>0</td>\n",
       "      <td>0</td>\n",
       "      <td>0</td>\n",
       "      <td>0</td>\n",
       "      <td>0</td>\n",
       "      <td>0</td>\n",
       "      <td>0</td>\n",
       "      <td>0</td>\n",
       "      <td>0</td>\n",
       "      <td>0</td>\n",
       "      <td>...</td>\n",
       "      <td>0</td>\n",
       "      <td>0</td>\n",
       "      <td>0</td>\n",
       "      <td>0</td>\n",
       "      <td>0</td>\n",
       "      <td>0</td>\n",
       "      <td>0</td>\n",
       "      <td>0</td>\n",
       "      <td>0</td>\n",
       "      <td>4720</td>\n",
       "    </tr>\n",
       "    <tr>\n",
       "      <th>Rajasthan</th>\n",
       "      <td>0</td>\n",
       "      <td>0</td>\n",
       "      <td>0</td>\n",
       "      <td>0</td>\n",
       "      <td>0</td>\n",
       "      <td>0</td>\n",
       "      <td>829</td>\n",
       "      <td>0</td>\n",
       "      <td>0</td>\n",
       "      <td>0</td>\n",
       "      <td>...</td>\n",
       "      <td>0</td>\n",
       "      <td>0</td>\n",
       "      <td>0</td>\n",
       "      <td>0</td>\n",
       "      <td>0</td>\n",
       "      <td>0</td>\n",
       "      <td>0</td>\n",
       "      <td>0</td>\n",
       "      <td>0</td>\n",
       "      <td>9174</td>\n",
       "    </tr>\n",
       "    <tr>\n",
       "      <th>Sikkim</th>\n",
       "      <td>0</td>\n",
       "      <td>0</td>\n",
       "      <td>0</td>\n",
       "      <td>0</td>\n",
       "      <td>0</td>\n",
       "      <td>0</td>\n",
       "      <td>0</td>\n",
       "      <td>0</td>\n",
       "      <td>0</td>\n",
       "      <td>0</td>\n",
       "      <td>...</td>\n",
       "      <td>0</td>\n",
       "      <td>0</td>\n",
       "      <td>0</td>\n",
       "      <td>0</td>\n",
       "      <td>0</td>\n",
       "      <td>0</td>\n",
       "      <td>0</td>\n",
       "      <td>0</td>\n",
       "      <td>0</td>\n",
       "      <td>608</td>\n",
       "    </tr>\n",
       "    <tr>\n",
       "      <th>Tamil_Nadu</th>\n",
       "      <td>0</td>\n",
       "      <td>0</td>\n",
       "      <td>0</td>\n",
       "      <td>0</td>\n",
       "      <td>0</td>\n",
       "      <td>0</td>\n",
       "      <td>0</td>\n",
       "      <td>0</td>\n",
       "      <td>0</td>\n",
       "      <td>0</td>\n",
       "      <td>...</td>\n",
       "      <td>0</td>\n",
       "      <td>0</td>\n",
       "      <td>0</td>\n",
       "      <td>916</td>\n",
       "      <td>0</td>\n",
       "      <td>0</td>\n",
       "      <td>0</td>\n",
       "      <td>0</td>\n",
       "      <td>0</td>\n",
       "      <td>16537</td>\n",
       "    </tr>\n",
       "    <tr>\n",
       "      <th>Telangana</th>\n",
       "      <td>0</td>\n",
       "      <td>0</td>\n",
       "      <td>0</td>\n",
       "      <td>0</td>\n",
       "      <td>0</td>\n",
       "      <td>0</td>\n",
       "      <td>0</td>\n",
       "      <td>0</td>\n",
       "      <td>0</td>\n",
       "      <td>0</td>\n",
       "      <td>...</td>\n",
       "      <td>0</td>\n",
       "      <td>0</td>\n",
       "      <td>0</td>\n",
       "      <td>0</td>\n",
       "      <td>0</td>\n",
       "      <td>0</td>\n",
       "      <td>0</td>\n",
       "      <td>459</td>\n",
       "      <td>0</td>\n",
       "      <td>7524</td>\n",
       "    </tr>\n",
       "    <tr>\n",
       "      <th>Tripura</th>\n",
       "      <td>0</td>\n",
       "      <td>809</td>\n",
       "      <td>0</td>\n",
       "      <td>0</td>\n",
       "      <td>0</td>\n",
       "      <td>0</td>\n",
       "      <td>0</td>\n",
       "      <td>0</td>\n",
       "      <td>0</td>\n",
       "      <td>0</td>\n",
       "      <td>...</td>\n",
       "      <td>0</td>\n",
       "      <td>0</td>\n",
       "      <td>0</td>\n",
       "      <td>0</td>\n",
       "      <td>0</td>\n",
       "      <td>0</td>\n",
       "      <td>0</td>\n",
       "      <td>0</td>\n",
       "      <td>0</td>\n",
       "      <td>809</td>\n",
       "    </tr>\n",
       "    <tr>\n",
       "      <th>Uttar_Pradesh</th>\n",
       "      <td>0</td>\n",
       "      <td>0</td>\n",
       "      <td>1012</td>\n",
       "      <td>0</td>\n",
       "      <td>0</td>\n",
       "      <td>0</td>\n",
       "      <td>0</td>\n",
       "      <td>0</td>\n",
       "      <td>0</td>\n",
       "      <td>858</td>\n",
       "      <td>...</td>\n",
       "      <td>0</td>\n",
       "      <td>663</td>\n",
       "      <td>0</td>\n",
       "      <td>0</td>\n",
       "      <td>0</td>\n",
       "      <td>0</td>\n",
       "      <td>0</td>\n",
       "      <td>0</td>\n",
       "      <td>0</td>\n",
       "      <td>28400</td>\n",
       "    </tr>\n",
       "    <tr>\n",
       "      <th>Uttar_Pradesh[5]</th>\n",
       "      <td>0</td>\n",
       "      <td>0</td>\n",
       "      <td>0</td>\n",
       "      <td>0</td>\n",
       "      <td>0</td>\n",
       "      <td>0</td>\n",
       "      <td>0</td>\n",
       "      <td>0</td>\n",
       "      <td>0</td>\n",
       "      <td>0</td>\n",
       "      <td>...</td>\n",
       "      <td>0</td>\n",
       "      <td>0</td>\n",
       "      <td>0</td>\n",
       "      <td>0</td>\n",
       "      <td>0</td>\n",
       "      <td>0</td>\n",
       "      <td>0</td>\n",
       "      <td>0</td>\n",
       "      <td>0</td>\n",
       "      <td>743</td>\n",
       "    </tr>\n",
       "    <tr>\n",
       "      <th>Uttarakhand</th>\n",
       "      <td>0</td>\n",
       "      <td>0</td>\n",
       "      <td>0</td>\n",
       "      <td>0</td>\n",
       "      <td>0</td>\n",
       "      <td>0</td>\n",
       "      <td>0</td>\n",
       "      <td>0</td>\n",
       "      <td>0</td>\n",
       "      <td>0</td>\n",
       "      <td>...</td>\n",
       "      <td>0</td>\n",
       "      <td>0</td>\n",
       "      <td>0</td>\n",
       "      <td>0</td>\n",
       "      <td>0</td>\n",
       "      <td>0</td>\n",
       "      <td>0</td>\n",
       "      <td>0</td>\n",
       "      <td>0</td>\n",
       "      <td>1874</td>\n",
       "    </tr>\n",
       "    <tr>\n",
       "      <th>West_Bengal</th>\n",
       "      <td>0</td>\n",
       "      <td>0</td>\n",
       "      <td>0</td>\n",
       "      <td>0</td>\n",
       "      <td>0</td>\n",
       "      <td>0</td>\n",
       "      <td>0</td>\n",
       "      <td>0</td>\n",
       "      <td>0</td>\n",
       "      <td>0</td>\n",
       "      <td>...</td>\n",
       "      <td>0</td>\n",
       "      <td>0</td>\n",
       "      <td>0</td>\n",
       "      <td>0</td>\n",
       "      <td>0</td>\n",
       "      <td>0</td>\n",
       "      <td>0</td>\n",
       "      <td>0</td>\n",
       "      <td>0</td>\n",
       "      <td>23483</td>\n",
       "    </tr>\n",
       "    <tr>\n",
       "      <th>All</th>\n",
       "      <td>953</td>\n",
       "      <td>809</td>\n",
       "      <td>1012</td>\n",
       "      <td>649</td>\n",
       "      <td>645</td>\n",
       "      <td>849</td>\n",
       "      <td>829</td>\n",
       "      <td>767</td>\n",
       "      <td>688</td>\n",
       "      <td>858</td>\n",
       "      <td>...</td>\n",
       "      <td>960</td>\n",
       "      <td>663</td>\n",
       "      <td>930</td>\n",
       "      <td>916</td>\n",
       "      <td>1259</td>\n",
       "      <td>1172</td>\n",
       "      <td>971</td>\n",
       "      <td>459</td>\n",
       "      <td>659</td>\n",
       "      <td>252000</td>\n",
       "    </tr>\n",
       "  </tbody>\n",
       "</table>\n",
       "<p>30 rows × 318 columns</p>\n",
       "</div>"
      ],
      "text/plain": [
       "CITY               Adoni  Agartala  Agra  Ahmedabad  Ahmednagar  Aizawl  \\\n",
       "STATE                                                                     \n",
       "Andhra_Pradesh       953         0     0          0           0       0   \n",
       "Assam                  0         0     0          0           0       0   \n",
       "Bihar                  0         0     0          0           0       0   \n",
       "Chandigarh             0         0     0          0           0       0   \n",
       "Chhattisgarh           0         0     0          0           0       0   \n",
       "Delhi                  0         0     0          0           0       0   \n",
       "Gujarat                0         0     0        649           0       0   \n",
       "Haryana                0         0     0          0           0       0   \n",
       "Himachal_Pradesh       0         0     0          0           0       0   \n",
       "Jammu_and_Kashmir      0         0     0          0           0       0   \n",
       "Jharkhand              0         0     0          0           0       0   \n",
       "Karnataka              0         0     0          0           0       0   \n",
       "Kerala                 0         0     0          0           0       0   \n",
       "Madhya_Pradesh         0         0     0          0           0       0   \n",
       "Maharashtra            0         0     0          0         645       0   \n",
       "Manipur                0         0     0          0           0       0   \n",
       "Mizoram                0         0     0          0           0     849   \n",
       "Odisha                 0         0     0          0           0       0   \n",
       "Puducherry             0         0     0          0           0       0   \n",
       "Punjab                 0         0     0          0           0       0   \n",
       "Rajasthan              0         0     0          0           0       0   \n",
       "Sikkim                 0         0     0          0           0       0   \n",
       "Tamil_Nadu             0         0     0          0           0       0   \n",
       "Telangana              0         0     0          0           0       0   \n",
       "Tripura                0       809     0          0           0       0   \n",
       "Uttar_Pradesh          0         0  1012          0           0       0   \n",
       "Uttar_Pradesh[5]       0         0     0          0           0       0   \n",
       "Uttarakhand            0         0     0          0           0       0   \n",
       "West_Bengal            0         0     0          0           0       0   \n",
       "All                  953       809  1012        649         645     849   \n",
       "\n",
       "CITY               Ajmer  Akola  Alappuzha  Aligarh  ...  Vadodara  Varanasi  \\\n",
       "STATE                                                ...                       \n",
       "Andhra_Pradesh         0      0          0        0  ...         0         0   \n",
       "Assam                  0      0          0        0  ...         0         0   \n",
       "Bihar                  0      0          0        0  ...         0         0   \n",
       "Chandigarh             0      0          0        0  ...         0         0   \n",
       "Chhattisgarh           0      0          0        0  ...         0         0   \n",
       "Delhi                  0      0          0        0  ...         0         0   \n",
       "Gujarat                0      0          0        0  ...       960         0   \n",
       "Haryana                0      0          0        0  ...         0         0   \n",
       "Himachal_Pradesh       0      0          0        0  ...         0         0   \n",
       "Jammu_and_Kashmir      0      0          0        0  ...         0         0   \n",
       "Jharkhand              0      0          0        0  ...         0         0   \n",
       "Karnataka              0      0          0        0  ...         0         0   \n",
       "Kerala                 0      0        688        0  ...         0         0   \n",
       "Madhya_Pradesh         0      0          0        0  ...         0         0   \n",
       "Maharashtra            0    767          0        0  ...         0         0   \n",
       "Manipur                0      0          0        0  ...         0         0   \n",
       "Mizoram                0      0          0        0  ...         0         0   \n",
       "Odisha                 0      0          0        0  ...         0         0   \n",
       "Puducherry             0      0          0        0  ...         0         0   \n",
       "Punjab                 0      0          0        0  ...         0         0   \n",
       "Rajasthan            829      0          0        0  ...         0         0   \n",
       "Sikkim                 0      0          0        0  ...         0         0   \n",
       "Tamil_Nadu             0      0          0        0  ...         0         0   \n",
       "Telangana              0      0          0        0  ...         0         0   \n",
       "Tripura                0      0          0        0  ...         0         0   \n",
       "Uttar_Pradesh          0      0          0      858  ...         0       663   \n",
       "Uttar_Pradesh[5]       0      0          0        0  ...         0         0   \n",
       "Uttarakhand            0      0          0        0  ...         0         0   \n",
       "West_Bengal            0      0          0        0  ...         0         0   \n",
       "All                  829    767        688      858  ...       960       663   \n",
       "\n",
       "CITY               Vasai-Virar  Vellore  Vijayanagaram  Vijayawada  \\\n",
       "STATE                                                                \n",
       "Andhra_Pradesh               0        0           1259        1172   \n",
       "Assam                        0        0              0           0   \n",
       "Bihar                        0        0              0           0   \n",
       "Chandigarh                   0        0              0           0   \n",
       "Chhattisgarh                 0        0              0           0   \n",
       "Delhi                        0        0              0           0   \n",
       "Gujarat                      0        0              0           0   \n",
       "Haryana                      0        0              0           0   \n",
       "Himachal_Pradesh             0        0              0           0   \n",
       "Jammu_and_Kashmir            0        0              0           0   \n",
       "Jharkhand                    0        0              0           0   \n",
       "Karnataka                    0        0              0           0   \n",
       "Kerala                       0        0              0           0   \n",
       "Madhya_Pradesh               0        0              0           0   \n",
       "Maharashtra                930        0              0           0   \n",
       "Manipur                      0        0              0           0   \n",
       "Mizoram                      0        0              0           0   \n",
       "Odisha                       0        0              0           0   \n",
       "Puducherry                   0        0              0           0   \n",
       "Punjab                       0        0              0           0   \n",
       "Rajasthan                    0        0              0           0   \n",
       "Sikkim                       0        0              0           0   \n",
       "Tamil_Nadu                   0      916              0           0   \n",
       "Telangana                    0        0              0           0   \n",
       "Tripura                      0        0              0           0   \n",
       "Uttar_Pradesh                0        0              0           0   \n",
       "Uttar_Pradesh[5]             0        0              0           0   \n",
       "Uttarakhand                  0        0              0           0   \n",
       "West_Bengal                  0        0              0           0   \n",
       "All                        930      916           1259        1172   \n",
       "\n",
       "CITY               Visakhapatnam[4]  Warangal[11][12]  Yamunanagar     All  \n",
       "STATE                                                                       \n",
       "Andhra_Pradesh                  971                 0            0   25297  \n",
       "Assam                             0                 0            0    7062  \n",
       "Bihar                             0                 0            0   19780  \n",
       "Chandigarh                        0                 0            0     656  \n",
       "Chhattisgarh                      0                 0            0    3834  \n",
       "Delhi                             0                 0            0    5490  \n",
       "Gujarat                           0                 0            0   11408  \n",
       "Haryana                           0                 0          659    7890  \n",
       "Himachal_Pradesh                  0                 0            0     833  \n",
       "Jammu_and_Kashmir                 0                 0            0    1780  \n",
       "Jharkhand                         0                 0            0    8965  \n",
       "Karnataka                         0                 0            0   11855  \n",
       "Kerala                            0                 0            0    5805  \n",
       "Madhya_Pradesh                    0                 0            0   14122  \n",
       "Maharashtra                       0                 0            0   25562  \n",
       "Manipur                           0                 0            0     849  \n",
       "Mizoram                           0                 0            0     849  \n",
       "Odisha                            0                 0            0    4658  \n",
       "Puducherry                        0                 0            0    1433  \n",
       "Punjab                            0                 0            0    4720  \n",
       "Rajasthan                         0                 0            0    9174  \n",
       "Sikkim                            0                 0            0     608  \n",
       "Tamil_Nadu                        0                 0            0   16537  \n",
       "Telangana                         0               459            0    7524  \n",
       "Tripura                           0                 0            0     809  \n",
       "Uttar_Pradesh                     0                 0            0   28400  \n",
       "Uttar_Pradesh[5]                  0                 0            0     743  \n",
       "Uttarakhand                       0                 0            0    1874  \n",
       "West_Bengal                       0                 0            0   23483  \n",
       "All                             971               459          659  252000  \n",
       "\n",
       "[30 rows x 318 columns]"
      ]
     },
     "execution_count": 24,
     "metadata": {},
     "output_type": "execute_result"
    }
   ],
   "source": [
    "pd.crosstab(data.STATE, data.CITY, margins=True)"
   ]
  },
  {
   "cell_type": "markdown",
   "id": "c7f02008",
   "metadata": {
    "papermill": {
     "duration": 0.028255,
     "end_time": "2023-01-17T13:03:36.980464",
     "exception": false,
     "start_time": "2023-01-17T13:03:36.952209",
     "status": "completed"
    },
    "tags": []
   },
   "source": [
    "so, basically cities are subset of states, and there are almost 317 cities we only explore State for visual representation.\n"
   ]
  },
  {
   "cell_type": "code",
   "execution_count": 25,
   "id": "7657095d",
   "metadata": {
    "execution": {
     "iopub.execute_input": "2023-01-17T13:03:37.039264Z",
     "iopub.status.busy": "2023-01-17T13:03:37.038849Z",
     "iopub.status.idle": "2023-01-17T13:03:37.211069Z",
     "shell.execute_reply": "2023-01-17T13:03:37.209844Z"
    },
    "papermill": {
     "duration": 0.205173,
     "end_time": "2023-01-17T13:03:37.214089",
     "exception": false,
     "start_time": "2023-01-17T13:03:37.008916",
     "status": "completed"
    },
    "tags": []
   },
   "outputs": [
    {
     "data": {
      "text/html": [
       "<style type=\"text/css\">\n",
       "#T_94a86_row0_col0, #T_94a86_row0_col2, #T_94a86_row14_col0, #T_94a86_row14_col2 {\n",
       "  background-color: #e6f266;\n",
       "  color: #000000;\n",
       "}\n",
       "#T_94a86_row0_col1, #T_94a86_row28_col1 {\n",
       "  background-color: #e7f366;\n",
       "  color: #000000;\n",
       "}\n",
       "#T_94a86_row1_col0, #T_94a86_row1_col2, #T_94a86_row23_col0 {\n",
       "  background-color: #f9fc66;\n",
       "  color: #000000;\n",
       "}\n",
       "#T_94a86_row1_col1, #T_94a86_row7_col0, #T_94a86_row7_col1, #T_94a86_row7_col2, #T_94a86_row12_col1, #T_94a86_row23_col1, #T_94a86_row23_col2 {\n",
       "  background-color: #f8fc66;\n",
       "  color: #000000;\n",
       "}\n",
       "#T_94a86_row2_col0, #T_94a86_row2_col2 {\n",
       "  background-color: #ecf666;\n",
       "  color: #000000;\n",
       "}\n",
       "#T_94a86_row2_col1 {\n",
       "  background-color: #eaf466;\n",
       "  color: #000000;\n",
       "}\n",
       "#T_94a86_row3_col0, #T_94a86_row3_col1, #T_94a86_row3_col2, #T_94a86_row8_col0, #T_94a86_row8_col1, #T_94a86_row8_col2, #T_94a86_row15_col0, #T_94a86_row15_col2, #T_94a86_row16_col0, #T_94a86_row16_col1, #T_94a86_row16_col2, #T_94a86_row18_col0, #T_94a86_row18_col2, #T_94a86_row21_col0, #T_94a86_row21_col1, #T_94a86_row21_col2, #T_94a86_row24_col0, #T_94a86_row24_col1, #T_94a86_row24_col2, #T_94a86_row26_col0, #T_94a86_row26_col1, #T_94a86_row26_col2, #T_94a86_row27_col1 {\n",
       "  background-color: #ffff66;\n",
       "  color: #000000;\n",
       "}\n",
       "#T_94a86_row4_col0, #T_94a86_row4_col1, #T_94a86_row4_col2, #T_94a86_row17_col0, #T_94a86_row19_col1 {\n",
       "  background-color: #fcfe66;\n",
       "  color: #000000;\n",
       "}\n",
       "#T_94a86_row5_col0, #T_94a86_row12_col2, #T_94a86_row17_col1 {\n",
       "  background-color: #fafc66;\n",
       "  color: #000000;\n",
       "}\n",
       "#T_94a86_row5_col1, #T_94a86_row5_col2, #T_94a86_row12_col0, #T_94a86_row17_col2, #T_94a86_row19_col0, #T_94a86_row19_col2 {\n",
       "  background-color: #fbfd66;\n",
       "  color: #000000;\n",
       "}\n",
       "#T_94a86_row6_col0, #T_94a86_row11_col0, #T_94a86_row11_col2 {\n",
       "  background-color: #f4fa66;\n",
       "  color: #000000;\n",
       "}\n",
       "#T_94a86_row6_col1, #T_94a86_row6_col2, #T_94a86_row20_col1 {\n",
       "  background-color: #f5fa66;\n",
       "  color: #000000;\n",
       "}\n",
       "#T_94a86_row9_col0, #T_94a86_row9_col2, #T_94a86_row15_col1, #T_94a86_row18_col1, #T_94a86_row27_col0, #T_94a86_row27_col2 {\n",
       "  background-color: #fefe66;\n",
       "  color: #000000;\n",
       "}\n",
       "#T_94a86_row9_col1 {\n",
       "  background-color: #fdfe66;\n",
       "  color: #000000;\n",
       "}\n",
       "#T_94a86_row10_col0, #T_94a86_row10_col2, #T_94a86_row20_col0, #T_94a86_row20_col2 {\n",
       "  background-color: #f7fb66;\n",
       "  color: #000000;\n",
       "}\n",
       "#T_94a86_row10_col1, #T_94a86_row11_col1 {\n",
       "  background-color: #f6fa66;\n",
       "  color: #000000;\n",
       "}\n",
       "#T_94a86_row13_col0, #T_94a86_row13_col2, #T_94a86_row22_col1 {\n",
       "  background-color: #f2f866;\n",
       "  color: #000000;\n",
       "}\n",
       "#T_94a86_row13_col1 {\n",
       "  background-color: #eef666;\n",
       "  color: #000000;\n",
       "}\n",
       "#T_94a86_row14_col1, #T_94a86_row28_col0, #T_94a86_row28_col2 {\n",
       "  background-color: #e8f466;\n",
       "  color: #000000;\n",
       "}\n",
       "#T_94a86_row22_col0, #T_94a86_row22_col2 {\n",
       "  background-color: #eff766;\n",
       "  color: #000000;\n",
       "}\n",
       "#T_94a86_row25_col0, #T_94a86_row25_col2 {\n",
       "  background-color: #e3f166;\n",
       "  color: #000000;\n",
       "}\n",
       "#T_94a86_row25_col1 {\n",
       "  background-color: #e4f266;\n",
       "  color: #000000;\n",
       "}\n",
       "#T_94a86_row29_col0, #T_94a86_row29_col1, #T_94a86_row29_col2 {\n",
       "  background-color: #008066;\n",
       "  color: #f1f1f1;\n",
       "}\n",
       "</style>\n",
       "<table id=\"T_94a86_\">\n",
       "  <thead>\n",
       "    <tr>\n",
       "      <th class=\"index_name level0\" >Risk_Flag</th>\n",
       "      <th class=\"col_heading level0 col0\" >0</th>\n",
       "      <th class=\"col_heading level0 col1\" >1</th>\n",
       "      <th class=\"col_heading level0 col2\" >All</th>\n",
       "    </tr>\n",
       "    <tr>\n",
       "      <th class=\"index_name level0\" >STATE</th>\n",
       "      <th class=\"blank col0\" >&nbsp;</th>\n",
       "      <th class=\"blank col1\" >&nbsp;</th>\n",
       "      <th class=\"blank col2\" >&nbsp;</th>\n",
       "    </tr>\n",
       "  </thead>\n",
       "  <tbody>\n",
       "    <tr>\n",
       "      <th id=\"T_94a86_level0_row0\" class=\"row_heading level0 row0\" >Andhra_Pradesh</th>\n",
       "      <td id=\"T_94a86_row0_col0\" class=\"data row0 col0\" >22362</td>\n",
       "      <td id=\"T_94a86_row0_col1\" class=\"data row0 col1\" >2935</td>\n",
       "      <td id=\"T_94a86_row0_col2\" class=\"data row0 col2\" >25297</td>\n",
       "    </tr>\n",
       "    <tr>\n",
       "      <th id=\"T_94a86_level0_row1\" class=\"row_heading level0 row1\" >Assam</th>\n",
       "      <td id=\"T_94a86_row1_col0\" class=\"data row1 col0\" >6132</td>\n",
       "      <td id=\"T_94a86_row1_col1\" class=\"data row1 col1\" >930</td>\n",
       "      <td id=\"T_94a86_row1_col2\" class=\"data row1 col2\" >7062</td>\n",
       "    </tr>\n",
       "    <tr>\n",
       "      <th id=\"T_94a86_level0_row2\" class=\"row_heading level0 row2\" >Bihar</th>\n",
       "      <td id=\"T_94a86_row2_col0\" class=\"data row2 col0\" >17197</td>\n",
       "      <td id=\"T_94a86_row2_col1\" class=\"data row2 col1\" >2583</td>\n",
       "      <td id=\"T_94a86_row2_col2\" class=\"data row2 col2\" >19780</td>\n",
       "    </tr>\n",
       "    <tr>\n",
       "      <th id=\"T_94a86_level0_row3\" class=\"row_heading level0 row3\" >Chandigarh</th>\n",
       "      <td id=\"T_94a86_row3_col0\" class=\"data row3 col0\" >595</td>\n",
       "      <td id=\"T_94a86_row3_col1\" class=\"data row3 col1\" >61</td>\n",
       "      <td id=\"T_94a86_row3_col2\" class=\"data row3 col2\" >656</td>\n",
       "    </tr>\n",
       "    <tr>\n",
       "      <th id=\"T_94a86_level0_row4\" class=\"row_heading level0 row4\" >Chhattisgarh</th>\n",
       "      <td id=\"T_94a86_row4_col0\" class=\"data row4 col0\" >3323</td>\n",
       "      <td id=\"T_94a86_row4_col1\" class=\"data row4 col1\" >511</td>\n",
       "      <td id=\"T_94a86_row4_col2\" class=\"data row4 col2\" >3834</td>\n",
       "    </tr>\n",
       "    <tr>\n",
       "      <th id=\"T_94a86_level0_row5\" class=\"row_heading level0 row5\" >Delhi</th>\n",
       "      <td id=\"T_94a86_row5_col0\" class=\"data row5 col0\" >4916</td>\n",
       "      <td id=\"T_94a86_row5_col1\" class=\"data row5 col1\" >574</td>\n",
       "      <td id=\"T_94a86_row5_col2\" class=\"data row5 col2\" >5490</td>\n",
       "    </tr>\n",
       "    <tr>\n",
       "      <th id=\"T_94a86_level0_row6\" class=\"row_heading level0 row6\" >Gujarat</th>\n",
       "      <td id=\"T_94a86_row6_col0\" class=\"data row6 col0\" >10065</td>\n",
       "      <td id=\"T_94a86_row6_col1\" class=\"data row6 col1\" >1343</td>\n",
       "      <td id=\"T_94a86_row6_col2\" class=\"data row6 col2\" >11408</td>\n",
       "    </tr>\n",
       "    <tr>\n",
       "      <th id=\"T_94a86_level0_row7\" class=\"row_heading level0 row7\" >Haryana</th>\n",
       "      <td id=\"T_94a86_row7_col0\" class=\"data row7 col0\" >6910</td>\n",
       "      <td id=\"T_94a86_row7_col1\" class=\"data row7 col1\" >980</td>\n",
       "      <td id=\"T_94a86_row7_col2\" class=\"data row7 col2\" >7890</td>\n",
       "    </tr>\n",
       "    <tr>\n",
       "      <th id=\"T_94a86_level0_row8\" class=\"row_heading level0 row8\" >Himachal_Pradesh</th>\n",
       "      <td id=\"T_94a86_row8_col0\" class=\"data row8 col0\" >722</td>\n",
       "      <td id=\"T_94a86_row8_col1\" class=\"data row8 col1\" >111</td>\n",
       "      <td id=\"T_94a86_row8_col2\" class=\"data row8 col2\" >833</td>\n",
       "    </tr>\n",
       "    <tr>\n",
       "      <th id=\"T_94a86_level0_row9\" class=\"row_heading level0 row9\" >Jammu_and_Kashmir</th>\n",
       "      <td id=\"T_94a86_row9_col0\" class=\"data row9 col0\" >1497</td>\n",
       "      <td id=\"T_94a86_row9_col1\" class=\"data row9 col1\" >283</td>\n",
       "      <td id=\"T_94a86_row9_col2\" class=\"data row9 col2\" >1780</td>\n",
       "    </tr>\n",
       "    <tr>\n",
       "      <th id=\"T_94a86_level0_row10\" class=\"row_heading level0 row10\" >Jharkhand</th>\n",
       "      <td id=\"T_94a86_row10_col0\" class=\"data row10 col0\" >7770</td>\n",
       "      <td id=\"T_94a86_row10_col1\" class=\"data row10 col1\" >1195</td>\n",
       "      <td id=\"T_94a86_row10_col2\" class=\"data row10 col2\" >8965</td>\n",
       "    </tr>\n",
       "    <tr>\n",
       "      <th id=\"T_94a86_level0_row11\" class=\"row_heading level0 row11\" >Karnataka</th>\n",
       "      <td id=\"T_94a86_row11_col0\" class=\"data row11 col0\" >10666</td>\n",
       "      <td id=\"T_94a86_row11_col1\" class=\"data row11 col1\" >1189</td>\n",
       "      <td id=\"T_94a86_row11_col2\" class=\"data row11 col2\" >11855</td>\n",
       "    </tr>\n",
       "    <tr>\n",
       "      <th id=\"T_94a86_level0_row12\" class=\"row_heading level0 row12\" >Kerala</th>\n",
       "      <td id=\"T_94a86_row12_col0\" class=\"data row12 col0\" >4835</td>\n",
       "      <td id=\"T_94a86_row12_col1\" class=\"data row12 col1\" >970</td>\n",
       "      <td id=\"T_94a86_row12_col2\" class=\"data row12 col2\" >5805</td>\n",
       "    </tr>\n",
       "    <tr>\n",
       "      <th id=\"T_94a86_level0_row13\" class=\"row_heading level0 row13\" >Madhya_Pradesh</th>\n",
       "      <td id=\"T_94a86_row13_col0\" class=\"data row13 col0\" >11942</td>\n",
       "      <td id=\"T_94a86_row13_col1\" class=\"data row13 col1\" >2180</td>\n",
       "      <td id=\"T_94a86_row13_col2\" class=\"data row13 col2\" >14122</td>\n",
       "    </tr>\n",
       "    <tr>\n",
       "      <th id=\"T_94a86_level0_row14\" class=\"row_heading level0 row14\" >Maharashtra</th>\n",
       "      <td id=\"T_94a86_row14_col0\" class=\"data row14 col0\" >22667</td>\n",
       "      <td id=\"T_94a86_row14_col1\" class=\"data row14 col1\" >2895</td>\n",
       "      <td id=\"T_94a86_row14_col2\" class=\"data row14 col2\" >25562</td>\n",
       "    </tr>\n",
       "    <tr>\n",
       "      <th id=\"T_94a86_level0_row15\" class=\"row_heading level0 row15\" >Manipur</th>\n",
       "      <td id=\"T_94a86_row15_col0\" class=\"data row15 col0\" >666</td>\n",
       "      <td id=\"T_94a86_row15_col1\" class=\"data row15 col1\" >183</td>\n",
       "      <td id=\"T_94a86_row15_col2\" class=\"data row15 col2\" >849</td>\n",
       "    </tr>\n",
       "    <tr>\n",
       "      <th id=\"T_94a86_level0_row16\" class=\"row_heading level0 row16\" >Mizoram</th>\n",
       "      <td id=\"T_94a86_row16_col0\" class=\"data row16 col0\" >755</td>\n",
       "      <td id=\"T_94a86_row16_col1\" class=\"data row16 col1\" >94</td>\n",
       "      <td id=\"T_94a86_row16_col2\" class=\"data row16 col2\" >849</td>\n",
       "    </tr>\n",
       "    <tr>\n",
       "      <th id=\"T_94a86_level0_row17\" class=\"row_heading level0 row17\" >Odisha</th>\n",
       "      <td id=\"T_94a86_row17_col0\" class=\"data row17 col0\" >3994</td>\n",
       "      <td id=\"T_94a86_row17_col1\" class=\"data row17 col1\" >664</td>\n",
       "      <td id=\"T_94a86_row17_col2\" class=\"data row17 col2\" >4658</td>\n",
       "    </tr>\n",
       "    <tr>\n",
       "      <th id=\"T_94a86_level0_row18\" class=\"row_heading level0 row18\" >Puducherry</th>\n",
       "      <td id=\"T_94a86_row18_col0\" class=\"data row18 col0\" >1266</td>\n",
       "      <td id=\"T_94a86_row18_col1\" class=\"data row18 col1\" >167</td>\n",
       "      <td id=\"T_94a86_row18_col2\" class=\"data row18 col2\" >1433</td>\n",
       "    </tr>\n",
       "    <tr>\n",
       "      <th id=\"T_94a86_level0_row19\" class=\"row_heading level0 row19\" >Punjab</th>\n",
       "      <td id=\"T_94a86_row19_col0\" class=\"data row19 col0\" >4295</td>\n",
       "      <td id=\"T_94a86_row19_col1\" class=\"data row19 col1\" >425</td>\n",
       "      <td id=\"T_94a86_row19_col2\" class=\"data row19 col2\" >4720</td>\n",
       "    </tr>\n",
       "    <tr>\n",
       "      <th id=\"T_94a86_level0_row20\" class=\"row_heading level0 row20\" >Rajasthan</th>\n",
       "      <td id=\"T_94a86_row20_col0\" class=\"data row20 col0\" >7882</td>\n",
       "      <td id=\"T_94a86_row20_col1\" class=\"data row20 col1\" >1292</td>\n",
       "      <td id=\"T_94a86_row20_col2\" class=\"data row20 col2\" >9174</td>\n",
       "    </tr>\n",
       "    <tr>\n",
       "      <th id=\"T_94a86_level0_row21\" class=\"row_heading level0 row21\" >Sikkim</th>\n",
       "      <td id=\"T_94a86_row21_col0\" class=\"data row21 col0\" >580</td>\n",
       "      <td id=\"T_94a86_row21_col1\" class=\"data row21 col1\" >28</td>\n",
       "      <td id=\"T_94a86_row21_col2\" class=\"data row21 col2\" >608</td>\n",
       "    </tr>\n",
       "    <tr>\n",
       "      <th id=\"T_94a86_level0_row22\" class=\"row_heading level0 row22\" >Tamil_Nadu</th>\n",
       "      <td id=\"T_94a86_row22_col0\" class=\"data row22 col0\" >14831</td>\n",
       "      <td id=\"T_94a86_row22_col1\" class=\"data row22 col1\" >1706</td>\n",
       "      <td id=\"T_94a86_row22_col2\" class=\"data row22 col2\" >16537</td>\n",
       "    </tr>\n",
       "    <tr>\n",
       "      <th id=\"T_94a86_level0_row23\" class=\"row_heading level0 row23\" >Telangana</th>\n",
       "      <td id=\"T_94a86_row23_col0\" class=\"data row23 col0\" >6545</td>\n",
       "      <td id=\"T_94a86_row23_col1\" class=\"data row23 col1\" >979</td>\n",
       "      <td id=\"T_94a86_row23_col2\" class=\"data row23 col2\" >7524</td>\n",
       "    </tr>\n",
       "    <tr>\n",
       "      <th id=\"T_94a86_level0_row24\" class=\"row_heading level0 row24\" >Tripura</th>\n",
       "      <td id=\"T_94a86_row24_col0\" class=\"data row24 col0\" >673</td>\n",
       "      <td id=\"T_94a86_row24_col1\" class=\"data row24 col1\" >136</td>\n",
       "      <td id=\"T_94a86_row24_col2\" class=\"data row24 col2\" >809</td>\n",
       "    </tr>\n",
       "    <tr>\n",
       "      <th id=\"T_94a86_level0_row25\" class=\"row_heading level0 row25\" >Uttar_Pradesh</th>\n",
       "      <td id=\"T_94a86_row25_col0\" class=\"data row25 col0\" >25057</td>\n",
       "      <td id=\"T_94a86_row25_col1\" class=\"data row25 col1\" >3343</td>\n",
       "      <td id=\"T_94a86_row25_col2\" class=\"data row25 col2\" >28400</td>\n",
       "    </tr>\n",
       "    <tr>\n",
       "      <th id=\"T_94a86_level0_row26\" class=\"row_heading level0 row26\" >Uttar_Pradesh[5]</th>\n",
       "      <td id=\"T_94a86_row26_col0\" class=\"data row26 col0\" >646</td>\n",
       "      <td id=\"T_94a86_row26_col1\" class=\"data row26 col1\" >97</td>\n",
       "      <td id=\"T_94a86_row26_col2\" class=\"data row26 col2\" >743</td>\n",
       "    </tr>\n",
       "    <tr>\n",
       "      <th id=\"T_94a86_level0_row27\" class=\"row_heading level0 row27\" >Uttarakhand</th>\n",
       "      <td id=\"T_94a86_row27_col0\" class=\"data row27 col0\" >1741</td>\n",
       "      <td id=\"T_94a86_row27_col1\" class=\"data row27 col1\" >133</td>\n",
       "      <td id=\"T_94a86_row27_col2\" class=\"data row27 col2\" >1874</td>\n",
       "    </tr>\n",
       "    <tr>\n",
       "      <th id=\"T_94a86_level0_row28\" class=\"row_heading level0 row28\" >West_Bengal</th>\n",
       "      <td id=\"T_94a86_row28_col0\" class=\"data row28 col0\" >20474</td>\n",
       "      <td id=\"T_94a86_row28_col1\" class=\"data row28 col1\" >3009</td>\n",
       "      <td id=\"T_94a86_row28_col2\" class=\"data row28 col2\" >23483</td>\n",
       "    </tr>\n",
       "    <tr>\n",
       "      <th id=\"T_94a86_level0_row29\" class=\"row_heading level0 row29\" >All</th>\n",
       "      <td id=\"T_94a86_row29_col0\" class=\"data row29 col0\" >221004</td>\n",
       "      <td id=\"T_94a86_row29_col1\" class=\"data row29 col1\" >30996</td>\n",
       "      <td id=\"T_94a86_row29_col2\" class=\"data row29 col2\" >252000</td>\n",
       "    </tr>\n",
       "  </tbody>\n",
       "</table>\n"
      ],
      "text/plain": [
       "<pandas.io.formats.style.Styler at 0x7fb69bfed190>"
      ]
     },
     "execution_count": 25,
     "metadata": {},
     "output_type": "execute_result"
    }
   ],
   "source": [
    "pd.crosstab(data.STATE, data.Risk_Flag, margins=True).style.background_gradient(cmap=\"summer_r\")"
   ]
  },
  {
   "cell_type": "code",
   "execution_count": 26,
   "id": "388ac172",
   "metadata": {
    "execution": {
     "iopub.execute_input": "2023-01-17T13:03:37.273735Z",
     "iopub.status.busy": "2023-01-17T13:03:37.273335Z",
     "iopub.status.idle": "2023-01-17T13:03:37.578071Z",
     "shell.execute_reply": "2023-01-17T13:03:37.576896Z"
    },
    "papermill": {
     "duration": 0.337595,
     "end_time": "2023-01-17T13:03:37.580632",
     "exception": false,
     "start_time": "2023-01-17T13:03:37.243037",
     "status": "completed"
    },
    "tags": []
   },
   "outputs": [
    {
     "data": {
      "text/plain": [
       "STATE\n",
       "Manipur              0.215548\n",
       "Tripura              0.168109\n",
       "Kerala               0.167097\n",
       "Jammu_and_Kashmir    0.158989\n",
       "Madhya_Pradesh       0.154369\n",
       "dtype: float64"
      ]
     },
     "execution_count": 26,
     "metadata": {},
     "output_type": "execute_result"
    }
   ],
   "source": [
    "(pd.crosstab(data.STATE, data.Risk_Flag, margins=True)[1] / pd.crosstab(data.STATE, data.Risk_Flag, margins=True)[\"All\"]).sort_values(ascending=False).head()"
   ]
  },
  {
   "cell_type": "markdown",
   "id": "ccff14f5",
   "metadata": {
    "papermill": {
     "duration": 0.029263,
     "end_time": "2023-01-17T13:03:37.639276",
     "exception": false,
     "start_time": "2023-01-17T13:03:37.610013",
     "status": "completed"
    },
    "tags": []
   },
   "source": [
    "From here we can see that __Manipur__ has 21% of default rate"
   ]
  },
  {
   "cell_type": "code",
   "execution_count": 27,
   "id": "e2893707",
   "metadata": {
    "execution": {
     "iopub.execute_input": "2023-01-17T13:03:37.699403Z",
     "iopub.status.busy": "2023-01-17T13:03:37.698996Z",
     "iopub.status.idle": "2023-01-17T13:03:38.037822Z",
     "shell.execute_reply": "2023-01-17T13:03:38.036694Z"
    },
    "papermill": {
     "duration": 0.371687,
     "end_time": "2023-01-17T13:03:38.040380",
     "exception": false,
     "start_time": "2023-01-17T13:03:37.668693",
     "status": "completed"
    },
    "tags": []
   },
   "outputs": [
    {
     "data": {
      "text/plain": [
       "CITY\n",
       "Bhubaneswar    0.326194\n",
       "Gwalior        0.272727\n",
       "Bettiah[33]    0.266958\n",
       "Kochi          0.252862\n",
       "Raiganj        0.239554\n",
       "dtype: float64"
      ]
     },
     "execution_count": 27,
     "metadata": {},
     "output_type": "execute_result"
    }
   ],
   "source": [
    "(pd.crosstab(data.CITY, data.Risk_Flag, margins=True)[1] / pd.crosstab(data.CITY, data.Risk_Flag, margins=True)[\"All\"]).sort_values(ascending=False).head()"
   ]
  },
  {
   "cell_type": "code",
   "execution_count": 28,
   "id": "a829436c",
   "metadata": {
    "execution": {
     "iopub.execute_input": "2023-01-17T13:03:38.101163Z",
     "iopub.status.busy": "2023-01-17T13:03:38.100764Z",
     "iopub.status.idle": "2023-01-17T13:03:38.127351Z",
     "shell.execute_reply": "2023-01-17T13:03:38.126210Z"
    },
    "papermill": {
     "duration": 0.060242,
     "end_time": "2023-01-17T13:03:38.129999",
     "exception": false,
     "start_time": "2023-01-17T13:03:38.069757",
     "status": "completed"
    },
    "tags": []
   },
   "outputs": [
    {
     "data": {
      "text/plain": [
       "Odisha    607\n",
       "Name: STATE, dtype: int64"
      ]
     },
     "execution_count": 28,
     "metadata": {},
     "output_type": "execute_result"
    }
   ],
   "source": [
    "data.STATE[data.CITY == \"Bhubaneswar\"].value_counts()"
   ]
  },
  {
   "cell_type": "markdown",
   "id": "9e1f9dc1",
   "metadata": {
    "papermill": {
     "duration": 0.028498,
     "end_time": "2023-01-17T13:03:38.187398",
     "exception": false,
     "start_time": "2023-01-17T13:03:38.158900",
     "status": "completed"
    },
    "tags": []
   },
   "source": [
    "Interesting thing is __Bhubaneswar__ is city that have 32% of default rate, while __Odisha__ is state that __Bhubaneswar__ is in but only have 14% of default rate."
   ]
  },
  {
   "cell_type": "code",
   "execution_count": 29,
   "id": "a67f229a",
   "metadata": {
    "execution": {
     "iopub.execute_input": "2023-01-17T13:03:38.247601Z",
     "iopub.status.busy": "2023-01-17T13:03:38.246832Z",
     "iopub.status.idle": "2023-01-17T13:03:38.941575Z",
     "shell.execute_reply": "2023-01-17T13:03:38.940668Z"
    },
    "papermill": {
     "duration": 0.727899,
     "end_time": "2023-01-17T13:03:38.944188",
     "exception": false,
     "start_time": "2023-01-17T13:03:38.216289",
     "status": "completed"
    },
    "tags": []
   },
   "outputs": [
    {
     "data": {
      "image/png": "[encoded data removed]",
      "text/plain": [
       "<Figure size 720x576 with 1 Axes>"
      ]
     },
     "metadata": {
      "needs_background": "light"
     },
     "output_type": "display_data"
    }
   ],
   "source": [
    "(pd.crosstab(data.STATE, data.Risk_Flag, margins=True)[1] / pd.crosstab(data.STATE, data.Risk_Flag, margins=True)[\"All\"]).plot.bar().set(title=\"Default rate in States\")\n",
    "fig = plt.gcf()\n",
    "fig.set_size_inches(10,8)\n",
    "plt.show()"
   ]
  },
  {
   "cell_type": "markdown",
   "id": "496ef6a9",
   "metadata": {
    "papermill": {
     "duration": 0.028947,
     "end_time": "2023-01-17T13:03:39.003762",
     "exception": false,
     "start_time": "2023-01-17T13:03:38.974815",
     "status": "completed"
    },
    "tags": []
   },
   "source": [
    "__Observation:__ \n",
    "1) Overall Manipur is the place with Highest default rate(21%) \\\n",
    "2) Bhubaneshwar is city with default rate of 32% while odisha has only 14% default rate \\\n",
    "3) Cities are subset of States "
   ]
  },
  {
   "cell_type": "markdown",
   "id": "06b2f50d",
   "metadata": {
    "papermill": {
     "duration": 0.029346,
     "end_time": "2023-01-17T13:03:39.062608",
     "exception": false,
     "start_time": "2023-01-17T13:03:39.033262",
     "status": "completed"
    },
    "tags": []
   },
   "source": [
    "## Income -> *Continuous Value*"
   ]
  },
  {
   "cell_type": "code",
   "execution_count": 30,
   "id": "7481d97b",
   "metadata": {
    "execution": {
     "iopub.execute_input": "2023-01-17T13:03:39.124835Z",
     "iopub.status.busy": "2023-01-17T13:03:39.124109Z",
     "iopub.status.idle": "2023-01-17T13:03:39.132411Z",
     "shell.execute_reply": "2023-01-17T13:03:39.130856Z"
    },
    "papermill": {
     "duration": 0.041802,
     "end_time": "2023-01-17T13:03:39.134668",
     "exception": false,
     "start_time": "2023-01-17T13:03:39.092866",
     "status": "completed"
    },
    "tags": []
   },
   "outputs": [
    {
     "name": "stdout",
     "output_type": "stream",
     "text": [
      "Highest Income is: 9999938\n",
      "Lowest Income is: 10310\n",
      "Average Income is: 4997116.665325397\n"
     ]
    }
   ],
   "source": [
    "print('Highest Income is:',data.Income.max())\n",
    "print('Lowest Income is:',data.Income.min())\n",
    "print('Average Income is:',data.Income.mean())"
   ]
  },
  {
   "cell_type": "code",
   "execution_count": 31,
   "id": "dd24dcd7",
   "metadata": {
    "execution": {
     "iopub.execute_input": "2023-01-17T13:03:39.197099Z",
     "iopub.status.busy": "2023-01-17T13:03:39.196442Z",
     "iopub.status.idle": "2023-01-17T13:03:40.717047Z",
     "shell.execute_reply": "2023-01-17T13:03:40.715596Z"
    },
    "papermill": {
     "duration": 1.55524,
     "end_time": "2023-01-17T13:03:40.719737",
     "exception": false,
     "start_time": "2023-01-17T13:03:39.164497",
     "status": "completed"
    },
    "tags": []
   },
   "outputs": [
    {
     "data": {
      "image/png": "[encoded data removed]",
      "text/plain": [
       "<Figure size 1296x576 with 2 Axes>"
      ]
     },
     "metadata": {
      "needs_background": "light"
     },
     "output_type": "display_data"
    }
   ],
   "source": [
    "f , ax = plt.subplots(1,2,figsize=(18,8))\n",
    "sns.distplot(data.Income, ax=ax[0]);\n",
    "sns.boxplot(data.Income, ax=ax[1]);"
   ]
  },
  {
   "cell_type": "markdown",
   "id": "535ae451",
   "metadata": {
    "papermill": {
     "duration": 0.030341,
     "end_time": "2023-01-17T13:03:40.781220",
     "exception": false,
     "start_time": "2023-01-17T13:03:40.750879",
     "status": "completed"
    },
    "tags": []
   },
   "source": [
    "__Observation__ \\\n",
    "__Income__ is normal as there is no outlier in boxplot"
   ]
  },
  {
   "cell_type": "markdown",
   "id": "67b62662",
   "metadata": {
    "papermill": {
     "duration": 0.029995,
     "end_time": "2023-01-17T13:03:40.841613",
     "exception": false,
     "start_time": "2023-01-17T13:03:40.811618",
     "status": "completed"
    },
    "tags": []
   },
   "source": [
    "## AGE -> *Continuous Value*"
   ]
  },
  {
   "cell_type": "code",
   "execution_count": 32,
   "id": "5a6c4b06",
   "metadata": {
    "execution": {
     "iopub.execute_input": "2023-01-17T13:03:40.903943Z",
     "iopub.status.busy": "2023-01-17T13:03:40.903543Z",
     "iopub.status.idle": "2023-01-17T13:03:40.912126Z",
     "shell.execute_reply": "2023-01-17T13:03:40.910468Z"
    },
    "papermill": {
     "duration": 0.042923,
     "end_time": "2023-01-17T13:03:40.914828",
     "exception": false,
     "start_time": "2023-01-17T13:03:40.871905",
     "status": "completed"
    },
    "tags": []
   },
   "outputs": [
    {
     "name": "stdout",
     "output_type": "stream",
     "text": [
      "Highest age is: 79\n",
      "Lowest age is: 21\n",
      "Average age is: 49.95407142857143\n"
     ]
    }
   ],
   "source": [
    "print('Highest age is:',data.Age.max())\n",
    "print('Lowest age is:',data.Age.min())\n",
    "print('Average age is:',data.Age.mean())"
   ]
  },
  {
   "cell_type": "code",
   "execution_count": 33,
   "id": "3a6cd19a",
   "metadata": {
    "execution": {
     "iopub.execute_input": "2023-01-17T13:03:40.976619Z",
     "iopub.status.busy": "2023-01-17T13:03:40.976238Z",
     "iopub.status.idle": "2023-01-17T13:03:42.392205Z",
     "shell.execute_reply": "2023-01-17T13:03:42.390927Z"
    },
    "papermill": {
     "duration": 1.449652,
     "end_time": "2023-01-17T13:03:42.394829",
     "exception": false,
     "start_time": "2023-01-17T13:03:40.945177",
     "status": "completed"
    },
    "tags": []
   },
   "outputs": [
    {
     "data": {
      "image/png": "[encoded data removed]",
      "text/plain": [
       "<Figure size 1296x576 with 2 Axes>"
      ]
     },
     "metadata": {
      "needs_background": "light"
     },
     "output_type": "display_data"
    }
   ],
   "source": [
    "f, ax = plt.subplots(1,2, figsize=(18,8))\n",
    "sns.distplot(data.Age, ax=ax[0]);\n",
    "sns.boxenplot(data.Age, ax=ax[1]);"
   ]
  },
  {
   "cell_type": "markdown",
   "id": "21afd3b3",
   "metadata": {
    "papermill": {
     "duration": 0.03069,
     "end_time": "2023-01-17T13:03:42.456754",
     "exception": false,
     "start_time": "2023-01-17T13:03:42.426064",
     "status": "completed"
    },
    "tags": []
   },
   "source": [
    "__Observaton__ \\\n",
    "Highest age is 79 years old while youngest is 21 and average is 49 years old.And from box plot we can see that from 35 to 65 the density is more i.e. 35-65 takes most loan."
   ]
  },
  {
   "cell_type": "markdown",
   "id": "1e72ae1e",
   "metadata": {
    "papermill": {
     "duration": 0.030606,
     "end_time": "2023-01-17T13:03:42.518624",
     "exception": false,
     "start_time": "2023-01-17T13:03:42.488018",
     "status": "completed"
    },
    "tags": []
   },
   "source": [
    "## Experience -> *Continuous Value*"
   ]
  },
  {
   "cell_type": "code",
   "execution_count": 34,
   "id": "607c0e28",
   "metadata": {
    "execution": {
     "iopub.execute_input": "2023-01-17T13:03:42.582668Z",
     "iopub.status.busy": "2023-01-17T13:03:42.581933Z",
     "iopub.status.idle": "2023-01-17T13:03:42.702985Z",
     "shell.execute_reply": "2023-01-17T13:03:42.701737Z"
    },
    "papermill": {
     "duration": 0.15588,
     "end_time": "2023-01-17T13:03:42.705718",
     "exception": false,
     "start_time": "2023-01-17T13:03:42.549838",
     "status": "completed"
    },
    "tags": []
   },
   "outputs": [
    {
     "data": {
      "text/html": [
       "<div>\n",
       "<style scoped>\n",
       "    .dataframe tbody tr th:only-of-type {\n",
       "        vertical-align: middle;\n",
       "    }\n",
       "\n",
       "    .dataframe tbody tr th {\n",
       "        vertical-align: top;\n",
       "    }\n",
       "\n",
       "    .dataframe thead th {\n",
       "        text-align: right;\n",
       "    }\n",
       "</style>\n",
       "<table border=\"1\" class=\"dataframe\">\n",
       "  <thead>\n",
       "    <tr style=\"text-align: right;\">\n",
       "      <th>Experience</th>\n",
       "      <th>0</th>\n",
       "      <th>1</th>\n",
       "      <th>2</th>\n",
       "      <th>3</th>\n",
       "      <th>4</th>\n",
       "      <th>5</th>\n",
       "      <th>6</th>\n",
       "      <th>7</th>\n",
       "      <th>8</th>\n",
       "      <th>9</th>\n",
       "      <th>...</th>\n",
       "      <th>12</th>\n",
       "      <th>13</th>\n",
       "      <th>14</th>\n",
       "      <th>15</th>\n",
       "      <th>16</th>\n",
       "      <th>17</th>\n",
       "      <th>18</th>\n",
       "      <th>19</th>\n",
       "      <th>20</th>\n",
       "      <th>All</th>\n",
       "    </tr>\n",
       "    <tr>\n",
       "      <th>Risk_Flag</th>\n",
       "      <th></th>\n",
       "      <th></th>\n",
       "      <th></th>\n",
       "      <th></th>\n",
       "      <th></th>\n",
       "      <th></th>\n",
       "      <th></th>\n",
       "      <th></th>\n",
       "      <th></th>\n",
       "      <th></th>\n",
       "      <th></th>\n",
       "      <th></th>\n",
       "      <th></th>\n",
       "      <th></th>\n",
       "      <th></th>\n",
       "      <th></th>\n",
       "      <th></th>\n",
       "      <th></th>\n",
       "      <th></th>\n",
       "      <th></th>\n",
       "      <th></th>\n",
       "    </tr>\n",
       "  </thead>\n",
       "  <tbody>\n",
       "    <tr>\n",
       "      <th>0</th>\n",
       "      <td>9461</td>\n",
       "      <td>9773</td>\n",
       "      <td>9197</td>\n",
       "      <td>10483</td>\n",
       "      <td>10358</td>\n",
       "      <td>10876</td>\n",
       "      <td>11601</td>\n",
       "      <td>9829</td>\n",
       "      <td>10016</td>\n",
       "      <td>11477</td>\n",
       "      <td>...</td>\n",
       "      <td>11404</td>\n",
       "      <td>10282</td>\n",
       "      <td>11157</td>\n",
       "      <td>10185</td>\n",
       "      <td>10506</td>\n",
       "      <td>10726</td>\n",
       "      <td>11572</td>\n",
       "      <td>10982</td>\n",
       "      <td>10066</td>\n",
       "      <td>221004</td>\n",
       "    </tr>\n",
       "    <tr>\n",
       "      <th>1</th>\n",
       "      <td>1582</td>\n",
       "      <td>1802</td>\n",
       "      <td>1890</td>\n",
       "      <td>1586</td>\n",
       "      <td>1449</td>\n",
       "      <td>1565</td>\n",
       "      <td>1557</td>\n",
       "      <td>1403</td>\n",
       "      <td>1334</td>\n",
       "      <td>1459</td>\n",
       "      <td>...</td>\n",
       "      <td>1396</td>\n",
       "      <td>1431</td>\n",
       "      <td>1212</td>\n",
       "      <td>1808</td>\n",
       "      <td>1600</td>\n",
       "      <td>1405</td>\n",
       "      <td>1029</td>\n",
       "      <td>1305</td>\n",
       "      <td>1284</td>\n",
       "      <td>30996</td>\n",
       "    </tr>\n",
       "    <tr>\n",
       "      <th>All</th>\n",
       "      <td>11043</td>\n",
       "      <td>11575</td>\n",
       "      <td>11087</td>\n",
       "      <td>12069</td>\n",
       "      <td>11807</td>\n",
       "      <td>12441</td>\n",
       "      <td>13158</td>\n",
       "      <td>11232</td>\n",
       "      <td>11350</td>\n",
       "      <td>12936</td>\n",
       "      <td>...</td>\n",
       "      <td>12800</td>\n",
       "      <td>11713</td>\n",
       "      <td>12369</td>\n",
       "      <td>11993</td>\n",
       "      <td>12106</td>\n",
       "      <td>12131</td>\n",
       "      <td>12601</td>\n",
       "      <td>12287</td>\n",
       "      <td>11350</td>\n",
       "      <td>252000</td>\n",
       "    </tr>\n",
       "  </tbody>\n",
       "</table>\n",
       "<p>3 rows × 22 columns</p>\n",
       "</div>"
      ],
      "text/plain": [
       "Experience      0      1      2      3      4      5      6      7      8  \\\n",
       "Risk_Flag                                                                   \n",
       "0            9461   9773   9197  10483  10358  10876  11601   9829  10016   \n",
       "1            1582   1802   1890   1586   1449   1565   1557   1403   1334   \n",
       "All         11043  11575  11087  12069  11807  12441  13158  11232  11350   \n",
       "\n",
       "Experience      9  ...     12     13     14     15     16     17     18  \\\n",
       "Risk_Flag          ...                                                    \n",
       "0           11477  ...  11404  10282  11157  10185  10506  10726  11572   \n",
       "1            1459  ...   1396   1431   1212   1808   1600   1405   1029   \n",
       "All         12936  ...  12800  11713  12369  11993  12106  12131  12601   \n",
       "\n",
       "Experience     19     20     All  \n",
       "Risk_Flag                         \n",
       "0           10982  10066  221004  \n",
       "1            1305   1284   30996  \n",
       "All         12287  11350  252000  \n",
       "\n",
       "[3 rows x 22 columns]"
      ]
     },
     "execution_count": 34,
     "metadata": {},
     "output_type": "execute_result"
    }
   ],
   "source": [
    "pd.crosstab(data.Risk_Flag, data.Experience, margins=True)"
   ]
  },
  {
   "cell_type": "code",
   "execution_count": 35,
   "id": "ee261d16",
   "metadata": {
    "execution": {
     "iopub.execute_input": "2023-01-17T13:03:42.770934Z",
     "iopub.status.busy": "2023-01-17T13:03:42.769981Z",
     "iopub.status.idle": "2023-01-17T13:03:47.223038Z",
     "shell.execute_reply": "2023-01-17T13:03:47.221630Z"
    },
    "papermill": {
     "duration": 4.489445,
     "end_time": "2023-01-17T13:03:47.226739",
     "exception": false,
     "start_time": "2023-01-17T13:03:42.737294",
     "status": "completed"
    },
    "tags": []
   },
   "outputs": [
    {
     "data": {
      "image/png": "[encoded data removed]",
      "text/plain": [
       "<Figure size 432x288 with 1 Axes>"
      ]
     },
     "metadata": {
      "needs_background": "light"
     },
     "output_type": "display_data"
    },
    {
     "data": {
      "image/png": "[encoded data removed]",
      "text/plain": [
       "<Figure size 360x360 with 1 Axes>"
      ]
     },
     "metadata": {
      "needs_background": "light"
     },
     "output_type": "display_data"
    }
   ],
   "source": [
    "pd.crosstab(data.Experience, data.Risk_Flag).plot.bar(width=0.9).set(title=\"Number of loan takers acoording to Experience\");\n",
    "sns.factorplot(\"Experience\", \"Risk_Flag\", data=data).set(title=\"Default rate vs Experience\");"
   ]
  },
  {
   "cell_type": "markdown",
   "id": "3cb92a14",
   "metadata": {
    "papermill": {
     "duration": 0.032373,
     "end_time": "2023-01-17T13:03:47.291814",
     "exception": false,
     "start_time": "2023-01-17T13:03:47.259441",
     "status": "completed"
    },
    "tags": []
   },
   "source": [
    "__Observation__ \\\n",
    "__Default rate__ is higher in people with less __Experience__ compared to higher ones."
   ]
  },
  {
   "cell_type": "markdown",
   "id": "8051176c",
   "metadata": {
    "papermill": {
     "duration": 0.034703,
     "end_time": "2023-01-17T13:03:47.359439",
     "exception": false,
     "start_time": "2023-01-17T13:03:47.324736",
     "status": "completed"
    },
    "tags": []
   },
   "source": [
    "## Current Job Years -> *Continious Value*"
   ]
  },
  {
   "cell_type": "code",
   "execution_count": 36,
   "id": "b7a0db76",
   "metadata": {
    "execution": {
     "iopub.execute_input": "2023-01-17T13:03:47.431379Z",
     "iopub.status.busy": "2023-01-17T13:03:47.430874Z",
     "iopub.status.idle": "2023-01-17T13:03:47.490941Z",
     "shell.execute_reply": "2023-01-17T13:03:47.489729Z"
    },
    "papermill": {
     "duration": 0.099242,
     "end_time": "2023-01-17T13:03:47.493576",
     "exception": false,
     "start_time": "2023-01-17T13:03:47.394334",
     "status": "completed"
    },
    "tags": []
   },
   "outputs": [
    {
     "data": {
      "text/html": [
       "<div>\n",
       "<style scoped>\n",
       "    .dataframe tbody tr th:only-of-type {\n",
       "        vertical-align: middle;\n",
       "    }\n",
       "\n",
       "    .dataframe tbody tr th {\n",
       "        vertical-align: top;\n",
       "    }\n",
       "\n",
       "    .dataframe thead th {\n",
       "        text-align: right;\n",
       "    }\n",
       "</style>\n",
       "<table border=\"1\" class=\"dataframe\">\n",
       "  <thead>\n",
       "    <tr style=\"text-align: right;\">\n",
       "      <th>CURRENT_JOB_YRS</th>\n",
       "      <th>0</th>\n",
       "      <th>1</th>\n",
       "      <th>2</th>\n",
       "      <th>3</th>\n",
       "      <th>4</th>\n",
       "      <th>5</th>\n",
       "      <th>6</th>\n",
       "      <th>7</th>\n",
       "      <th>8</th>\n",
       "      <th>9</th>\n",
       "      <th>10</th>\n",
       "      <th>11</th>\n",
       "      <th>12</th>\n",
       "      <th>13</th>\n",
       "      <th>14</th>\n",
       "    </tr>\n",
       "    <tr>\n",
       "      <th>Risk_Flag</th>\n",
       "      <th></th>\n",
       "      <th></th>\n",
       "      <th></th>\n",
       "      <th></th>\n",
       "      <th></th>\n",
       "      <th></th>\n",
       "      <th></th>\n",
       "      <th></th>\n",
       "      <th></th>\n",
       "      <th></th>\n",
       "      <th></th>\n",
       "      <th></th>\n",
       "      <th></th>\n",
       "      <th></th>\n",
       "      <th></th>\n",
       "    </tr>\n",
       "  </thead>\n",
       "  <tbody>\n",
       "    <tr>\n",
       "      <th>0</th>\n",
       "      <td>9461</td>\n",
       "      <td>9773</td>\n",
       "      <td>9197</td>\n",
       "      <td>26049</td>\n",
       "      <td>25132</td>\n",
       "      <td>22119</td>\n",
       "      <td>20621</td>\n",
       "      <td>17580</td>\n",
       "      <td>16693</td>\n",
       "      <td>15282</td>\n",
       "      <td>13888</td>\n",
       "      <td>11793</td>\n",
       "      <td>9489</td>\n",
       "      <td>7828</td>\n",
       "      <td>6099</td>\n",
       "    </tr>\n",
       "    <tr>\n",
       "      <th>1</th>\n",
       "      <td>1582</td>\n",
       "      <td>1802</td>\n",
       "      <td>1890</td>\n",
       "      <td>3411</td>\n",
       "      <td>3207</td>\n",
       "      <td>2972</td>\n",
       "      <td>2870</td>\n",
       "      <td>2345</td>\n",
       "      <td>2181</td>\n",
       "      <td>1850</td>\n",
       "      <td>1880</td>\n",
       "      <td>1802</td>\n",
       "      <td>1116</td>\n",
       "      <td>1271</td>\n",
       "      <td>817</td>\n",
       "    </tr>\n",
       "  </tbody>\n",
       "</table>\n",
       "</div>"
      ],
      "text/plain": [
       "CURRENT_JOB_YRS    0     1     2      3      4      5      6      7      8   \\\n",
       "Risk_Flag                                                                     \n",
       "0                9461  9773  9197  26049  25132  22119  20621  17580  16693   \n",
       "1                1582  1802  1890   3411   3207   2972   2870   2345   2181   \n",
       "\n",
       "CURRENT_JOB_YRS     9      10     11    12    13    14  \n",
       "Risk_Flag                                               \n",
       "0                15282  13888  11793  9489  7828  6099  \n",
       "1                 1850   1880   1802  1116  1271   817  "
      ]
     },
     "execution_count": 36,
     "metadata": {},
     "output_type": "execute_result"
    }
   ],
   "source": [
    "pd.crosstab(data.Risk_Flag ,data.CURRENT_JOB_YRS)"
   ]
  },
  {
   "cell_type": "code",
   "execution_count": 37,
   "id": "e114c5f7",
   "metadata": {
    "execution": {
     "iopub.execute_input": "2023-01-17T13:03:47.560065Z",
     "iopub.status.busy": "2023-01-17T13:03:47.559626Z",
     "iopub.status.idle": "2023-01-17T13:03:51.784307Z",
     "shell.execute_reply": "2023-01-17T13:03:51.783039Z"
    },
    "papermill": {
     "duration": 4.260989,
     "end_time": "2023-01-17T13:03:51.787039",
     "exception": false,
     "start_time": "2023-01-17T13:03:47.526050",
     "status": "completed"
    },
    "tags": []
   },
   "outputs": [
    {
     "data": {
      "image/png": "[encoded data removed]",
      "text/plain": [
       "<Figure size 432x288 with 1 Axes>"
      ]
     },
     "metadata": {
      "needs_background": "light"
     },
     "output_type": "display_data"
    },
    {
     "data": {
      "image/png": "[encoded data removed]",
      "text/plain": [
       "<Figure size 360x360 with 1 Axes>"
      ]
     },
     "metadata": {
      "needs_background": "light"
     },
     "output_type": "display_data"
    }
   ],
   "source": [
    "pd.crosstab(data.CURRENT_JOB_YRS ,data.Risk_Flag ).plot.bar(width=0.9).set(title=\"Number of loan takers according to Current Job\")\n",
    "sns.factorplot(\"CURRENT_JOB_YRS\", \"Risk_Flag\", data=data).set(title=\"Default rate vs Current Job Years\");"
   ]
  },
  {
   "cell_type": "markdown",
   "id": "7be4bab1",
   "metadata": {
    "papermill": {
     "duration": 0.032478,
     "end_time": "2023-01-17T13:03:51.852688",
     "exception": false,
     "start_time": "2023-01-17T13:03:51.820210",
     "status": "completed"
    },
    "tags": []
   },
   "source": [
    "## Current House Years -> Continious Value"
   ]
  },
  {
   "cell_type": "code",
   "execution_count": 38,
   "id": "a1795629",
   "metadata": {
    "execution": {
     "iopub.execute_input": "2023-01-17T13:03:51.921454Z",
     "iopub.status.busy": "2023-01-17T13:03:51.920367Z",
     "iopub.status.idle": "2023-01-17T13:03:51.964926Z",
     "shell.execute_reply": "2023-01-17T13:03:51.963681Z"
    },
    "papermill": {
     "duration": 0.082135,
     "end_time": "2023-01-17T13:03:51.967459",
     "exception": false,
     "start_time": "2023-01-17T13:03:51.885324",
     "status": "completed"
    },
    "tags": []
   },
   "outputs": [
    {
     "data": {
      "text/html": [
       "<div>\n",
       "<style scoped>\n",
       "    .dataframe tbody tr th:only-of-type {\n",
       "        vertical-align: middle;\n",
       "    }\n",
       "\n",
       "    .dataframe tbody tr th {\n",
       "        vertical-align: top;\n",
       "    }\n",
       "\n",
       "    .dataframe thead th {\n",
       "        text-align: right;\n",
       "    }\n",
       "</style>\n",
       "<table border=\"1\" class=\"dataframe\">\n",
       "  <thead>\n",
       "    <tr style=\"text-align: right;\">\n",
       "      <th>CURRENT_HOUSE_YRS</th>\n",
       "      <th>10</th>\n",
       "      <th>11</th>\n",
       "      <th>12</th>\n",
       "      <th>13</th>\n",
       "      <th>14</th>\n",
       "    </tr>\n",
       "    <tr>\n",
       "      <th>Risk_Flag</th>\n",
       "      <th></th>\n",
       "      <th></th>\n",
       "      <th></th>\n",
       "      <th></th>\n",
       "      <th></th>\n",
       "    </tr>\n",
       "  </thead>\n",
       "  <tbody>\n",
       "    <tr>\n",
       "      <th>0</th>\n",
       "      <td>42592</td>\n",
       "      <td>45390</td>\n",
       "      <td>45487</td>\n",
       "      <td>44477</td>\n",
       "      <td>43058</td>\n",
       "    </tr>\n",
       "    <tr>\n",
       "      <th>1</th>\n",
       "      <td>6082</td>\n",
       "      <td>6483</td>\n",
       "      <td>6304</td>\n",
       "      <td>6182</td>\n",
       "      <td>5945</td>\n",
       "    </tr>\n",
       "  </tbody>\n",
       "</table>\n",
       "</div>"
      ],
      "text/plain": [
       "CURRENT_HOUSE_YRS     10     11     12     13     14\n",
       "Risk_Flag                                           \n",
       "0                  42592  45390  45487  44477  43058\n",
       "1                   6082   6483   6304   6182   5945"
      ]
     },
     "execution_count": 38,
     "metadata": {},
     "output_type": "execute_result"
    }
   ],
   "source": [
    "pd.crosstab(data.Risk_Flag ,data.CURRENT_HOUSE_YRS)"
   ]
  },
  {
   "cell_type": "code",
   "execution_count": 39,
   "id": "15be120e",
   "metadata": {
    "execution": {
     "iopub.execute_input": "2023-01-17T13:03:52.037266Z",
     "iopub.status.busy": "2023-01-17T13:03:52.036779Z",
     "iopub.status.idle": "2023-01-17T13:03:55.939108Z",
     "shell.execute_reply": "2023-01-17T13:03:55.937935Z"
    },
    "papermill": {
     "duration": 3.940654,
     "end_time": "2023-01-17T13:03:55.941850",
     "exception": false,
     "start_time": "2023-01-17T13:03:52.001196",
     "status": "completed"
    },
    "tags": []
   },
   "outputs": [
    {
     "data": {
      "image/png": "[encoded data removed]",
      "text/plain": [
       "<Figure size 432x288 with 1 Axes>"
      ]
     },
     "metadata": {
      "needs_background": "light"
     },
     "output_type": "display_data"
    },
    {
     "data": {
      "image/png": "[encoded data removed]",
      "text/plain": [
       "<Figure size 360x360 with 1 Axes>"
      ]
     },
     "metadata": {
      "needs_background": "light"
     },
     "output_type": "display_data"
    }
   ],
   "source": [
    "pd.crosstab(data.CURRENT_HOUSE_YRS ,data.Risk_Flag ).plot.bar(width=0.9).set(title=\"Number of loan takers according to Current House Years\")\n",
    "sns.factorplot(\"CURRENT_HOUSE_YRS\", \"Risk_Flag\", data=data).set(title=\"Default rate vs Current House Years\");"
   ]
  },
  {
   "cell_type": "markdown",
   "id": "ec483882",
   "metadata": {
    "papermill": {
     "duration": 0.034173,
     "end_time": "2023-01-17T13:03:56.010602",
     "exception": false,
     "start_time": "2023-01-17T13:03:55.976429",
     "status": "completed"
    },
    "tags": []
   },
   "source": [
    "__Observation__ \\\n",
    "People who lives in same residence for 10 years or more are given loan, and __default rate decreases__ as __Current House Years increases__."
   ]
  },
  {
   "cell_type": "markdown",
   "id": "e2361d31",
   "metadata": {
    "papermill": {
     "duration": 0.033627,
     "end_time": "2023-01-17T13:03:56.078247",
     "exception": false,
     "start_time": "2023-01-17T13:03:56.044620",
     "status": "completed"
    },
    "tags": []
   },
   "source": [
    "## Correlation Between The Features"
   ]
  },
  {
   "cell_type": "code",
   "execution_count": 40,
   "id": "2e1b390e",
   "metadata": {
    "execution": {
     "iopub.execute_input": "2023-01-17T13:03:56.149155Z",
     "iopub.status.busy": "2023-01-17T13:03:56.147868Z",
     "iopub.status.idle": "2023-01-17T13:03:56.744823Z",
     "shell.execute_reply": "2023-01-17T13:03:56.743660Z"
    },
    "papermill": {
     "duration": 0.635296,
     "end_time": "2023-01-17T13:03:56.747353",
     "exception": false,
     "start_time": "2023-01-17T13:03:56.112057",
     "status": "completed"
    },
    "tags": []
   },
   "outputs": [
    {
     "data": {
      "image/png": "[encoded data removed]",
      "text/plain": [
       "<Figure size 432x288 with 2 Axes>"
      ]
     },
     "metadata": {
      "needs_background": "light"
     },
     "output_type": "display_data"
    }
   ],
   "source": [
    "sns.heatmap(data.corr(), annot=True, cmap=\"summer_r\", linewidths=0.2);"
   ]
  },
  {
   "cell_type": "markdown",
   "id": "4e691b50",
   "metadata": {
    "papermill": {
     "duration": 0.034603,
     "end_time": "2023-01-17T13:03:56.816755",
     "exception": false,
     "start_time": "2023-01-17T13:03:56.782152",
     "status": "completed"
    },
    "tags": []
   },
   "source": [
    "## Feature Engineering"
   ]
  },
  {
   "cell_type": "markdown",
   "id": "6542fc31",
   "metadata": {
    "papermill": {
     "duration": 0.034219,
     "end_time": "2023-01-17T13:03:56.885670",
     "exception": false,
     "start_time": "2023-01-17T13:03:56.851451",
     "status": "completed"
    },
    "tags": []
   },
   "source": [
    "### Age_band from age"
   ]
  },
  {
   "cell_type": "code",
   "execution_count": 41,
   "id": "63f07746",
   "metadata": {
    "execution": {
     "iopub.execute_input": "2023-01-17T13:03:56.956520Z",
     "iopub.status.busy": "2023-01-17T13:03:56.956126Z",
     "iopub.status.idle": "2023-01-17T13:03:56.984312Z",
     "shell.execute_reply": "2023-01-17T13:03:56.983369Z"
    },
    "papermill": {
     "duration": 0.067027,
     "end_time": "2023-01-17T13:03:56.987054",
     "exception": false,
     "start_time": "2023-01-17T13:03:56.920027",
     "status": "completed"
    },
    "tags": []
   },
   "outputs": [],
   "source": [
    "data[\"Age_band\"] = 0\n",
    "data.loc[(data[\"Age\"] >= 21) & (data[\"Age\"] <= 33), \"Age_band\"] = 0\n",
    "data.loc[(data[\"Age\"] > 33) & (data[\"Age\"] <= 45), \"Age_band\"] = 1\n",
    "data.loc[(data[\"Age\"] > 45) & (data[\"Age\"] <= 57), \"Age_band\"] = 2\n",
    "data.loc[(data[\"Age\"] > 57) & (data[\"Age\"] <= 69), \"Age_band\"] = 3\n",
    "data.loc[(data[\"Age\"] > 69) & (data[\"Age\"] <= 79), \"Age_band\"] = 4"
   ]
  },
  {
   "cell_type": "code",
   "execution_count": 42,
   "id": "69be28e4",
   "metadata": {
    "execution": {
     "iopub.execute_input": "2023-01-17T13:03:57.057865Z",
     "iopub.status.busy": "2023-01-17T13:03:57.057463Z",
     "iopub.status.idle": "2023-01-17T13:03:57.074988Z",
     "shell.execute_reply": "2023-01-17T13:03:57.073628Z"
    },
    "papermill": {
     "duration": 0.055589,
     "end_time": "2023-01-17T13:03:57.077370",
     "exception": false,
     "start_time": "2023-01-17T13:03:57.021781",
     "status": "completed"
    },
    "tags": []
   },
   "outputs": [
    {
     "data": {
      "text/html": [
       "<style type=\"text/css\">\n",
       "#T_755ec_row0_col0 {\n",
       "  background-color: #ffff66;\n",
       "  color: #000000;\n",
       "}\n",
       "#T_755ec_row1_col0 {\n",
       "  background-color: #b7db66;\n",
       "  color: #000000;\n",
       "}\n",
       "#T_755ec_row2_col0 {\n",
       "  background-color: #a0d066;\n",
       "  color: #000000;\n",
       "}\n",
       "#T_755ec_row3_col0 {\n",
       "  background-color: #8ec666;\n",
       "  color: #000000;\n",
       "}\n",
       "#T_755ec_row4_col0 {\n",
       "  background-color: #008066;\n",
       "  color: #f1f1f1;\n",
       "}\n",
       "</style>\n",
       "<table id=\"T_755ec_\">\n",
       "  <thead>\n",
       "    <tr>\n",
       "      <th class=\"blank level0\" >&nbsp;</th>\n",
       "      <th class=\"col_heading level0 col0\" >Age_band</th>\n",
       "    </tr>\n",
       "  </thead>\n",
       "  <tbody>\n",
       "    <tr>\n",
       "      <th id=\"T_755ec_level0_row0\" class=\"row_heading level0 row0\" >0</th>\n",
       "      <td id=\"T_755ec_row0_col0\" class=\"data row0 col0\" >56669</td>\n",
       "    </tr>\n",
       "    <tr>\n",
       "      <th id=\"T_755ec_level0_row1\" class=\"row_heading level0 row1\" >3</th>\n",
       "      <td id=\"T_755ec_row1_col0\" class=\"data row1 col0\" >52435</td>\n",
       "    </tr>\n",
       "    <tr>\n",
       "      <th id=\"T_755ec_level0_row2\" class=\"row_heading level0 row2\" >2</th>\n",
       "      <td id=\"T_755ec_row2_col0\" class=\"data row2 col0\" >51074</td>\n",
       "    </tr>\n",
       "    <tr>\n",
       "      <th id=\"T_755ec_level0_row3\" class=\"row_heading level0 row3\" >1</th>\n",
       "      <td id=\"T_755ec_row3_col0\" class=\"data row3 col0\" >50075</td>\n",
       "    </tr>\n",
       "    <tr>\n",
       "      <th id=\"T_755ec_level0_row4\" class=\"row_heading level0 row4\" >4</th>\n",
       "      <td id=\"T_755ec_row4_col0\" class=\"data row4 col0\" >41747</td>\n",
       "    </tr>\n",
       "  </tbody>\n",
       "</table>\n"
      ],
      "text/plain": [
       "<pandas.io.formats.style.Styler at 0x7fb69beaf0d0>"
      ]
     },
     "execution_count": 42,
     "metadata": {},
     "output_type": "execute_result"
    }
   ],
   "source": [
    "data[\"Age_band\"].value_counts().to_frame().style.background_gradient(cmap='summer')"
   ]
  },
  {
   "cell_type": "code",
   "execution_count": 43,
   "id": "55be7ee1",
   "metadata": {
    "execution": {
     "iopub.execute_input": "2023-01-17T13:03:57.148159Z",
     "iopub.status.busy": "2023-01-17T13:03:57.147767Z",
     "iopub.status.idle": "2023-01-17T13:04:00.785100Z",
     "shell.execute_reply": "2023-01-17T13:04:00.783962Z"
    },
    "papermill": {
     "duration": 3.675677,
     "end_time": "2023-01-17T13:04:00.787483",
     "exception": false,
     "start_time": "2023-01-17T13:03:57.111806",
     "status": "completed"
    },
    "tags": []
   },
   "outputs": [
    {
     "data": {
      "image/png": "[encoded data removed]",
      "text/plain": [
       "<Figure size 360x360 with 1 Axes>"
      ]
     },
     "metadata": {
      "needs_background": "light"
     },
     "output_type": "display_data"
    }
   ],
   "source": [
    "sns.factorplot('Age_band','Risk_Flag', data=data);"
   ]
  },
  {
   "cell_type": "markdown",
   "id": "1ccfcf1b",
   "metadata": {
    "papermill": {
     "duration": 0.034831,
     "end_time": "2023-01-17T13:04:00.857306",
     "exception": false,
     "start_time": "2023-01-17T13:04:00.822475",
     "status": "completed"
    },
    "tags": []
   },
   "source": [
    "__Observation__ \\\n",
    "It is seen from facrot plot that young people form age __21 to 33__ are most risky group to give loan too and as the __age increases the risk decrease__.\n",
    "\n",
    "### Income_range from Income\n",
    "\n",
    "Since fare is also a continous feature, we need to convert it into ordinal value. For this we will use pandas.qcut.\n",
    "\n",
    "So what qcut does is it splits or arranges the values according the number of bins we have passed. So if we pass for 5 bins, it will arrange the values equally spaced into 5 seperate bins or value ranges."
   ]
  },
  {
   "cell_type": "code",
   "execution_count": 44,
   "id": "0324e24e",
   "metadata": {
    "execution": {
     "iopub.execute_input": "2023-01-17T13:04:00.931368Z",
     "iopub.status.busy": "2023-01-17T13:04:00.930165Z",
     "iopub.status.idle": "2023-01-17T13:04:00.989209Z",
     "shell.execute_reply": "2023-01-17T13:04:00.988065Z"
    },
    "papermill": {
     "duration": 0.09845,
     "end_time": "2023-01-17T13:04:00.991553",
     "exception": false,
     "start_time": "2023-01-17T13:04:00.893103",
     "status": "completed"
    },
    "tags": []
   },
   "outputs": [
    {
     "data": {
      "text/html": [
       "<div>\n",
       "<style scoped>\n",
       "    .dataframe tbody tr th:only-of-type {\n",
       "        vertical-align: middle;\n",
       "    }\n",
       "\n",
       "    .dataframe tbody tr th {\n",
       "        vertical-align: top;\n",
       "    }\n",
       "\n",
       "    .dataframe thead th {\n",
       "        text-align: right;\n",
       "    }\n",
       "</style>\n",
       "<table border=\"1\" class=\"dataframe\">\n",
       "  <thead>\n",
       "    <tr style=\"text-align: right;\">\n",
       "      <th></th>\n",
       "      <th>Risk_Flag</th>\n",
       "    </tr>\n",
       "    <tr>\n",
       "      <th>Income_range</th>\n",
       "      <th></th>\n",
       "    </tr>\n",
       "  </thead>\n",
       "  <tbody>\n",
       "    <tr>\n",
       "      <th>(10309.999, 2503015.0]</th>\n",
       "      <td>0.127919</td>\n",
       "    </tr>\n",
       "    <tr>\n",
       "      <th>(2503015.0, 5000694.5]</th>\n",
       "      <td>0.119256</td>\n",
       "    </tr>\n",
       "    <tr>\n",
       "      <th>(5000694.5, 7477502.0]</th>\n",
       "      <td>0.118485</td>\n",
       "    </tr>\n",
       "    <tr>\n",
       "      <th>(7477502.0, 9999938.0]</th>\n",
       "      <td>0.126342</td>\n",
       "    </tr>\n",
       "  </tbody>\n",
       "</table>\n",
       "</div>"
      ],
      "text/plain": [
       "                        Risk_Flag\n",
       "Income_range                     \n",
       "(10309.999, 2503015.0]   0.127919\n",
       "(2503015.0, 5000694.5]   0.119256\n",
       "(5000694.5, 7477502.0]   0.118485\n",
       "(7477502.0, 9999938.0]   0.126342"
      ]
     },
     "execution_count": 44,
     "metadata": {},
     "output_type": "execute_result"
    }
   ],
   "source": [
    "data[\"Income_range\"] = pd.qcut(data[\"Income\"],4)\n",
    "data.groupby([\"Income_range\"])[\"Risk_Flag\"].mean().to_frame()\n"
   ]
  },
  {
   "cell_type": "code",
   "execution_count": 45,
   "id": "401b5556",
   "metadata": {
    "execution": {
     "iopub.execute_input": "2023-01-17T13:04:01.068069Z",
     "iopub.status.busy": "2023-01-17T13:04:01.067661Z",
     "iopub.status.idle": "2023-01-17T13:04:01.092246Z",
     "shell.execute_reply": "2023-01-17T13:04:01.091171Z"
    },
    "papermill": {
     "duration": 0.067433,
     "end_time": "2023-01-17T13:04:01.095220",
     "exception": false,
     "start_time": "2023-01-17T13:04:01.027787",
     "status": "completed"
    },
    "tags": []
   },
   "outputs": [],
   "source": [
    "data['Income_cat'] = 0\n",
    "data.loc[(data[\"Income\"] >= 103010)&(data[\"Income\"] <= 2503015), \"Income_cat\"]=0\n",
    "data.loc[(data[\"Income\"] > 2503015)&(data[\"Income\"] <= 5000694.5), \"Income_cat\"]=1\n",
    "data.loc[(data[\"Income\"] > 5000694.5)&(data[\"Income\"] <= 7477502), \"Income_cat\"]=2\n",
    "data.loc[(data[\"Income\"] > 7477502)&(data[\"Income\"] <= 9999938), \"Income_cat\"]=3"
   ]
  },
  {
   "cell_type": "code",
   "execution_count": 46,
   "id": "c0874529",
   "metadata": {
    "execution": {
     "iopub.execute_input": "2023-01-17T13:04:01.168125Z",
     "iopub.status.busy": "2023-01-17T13:04:01.167752Z",
     "iopub.status.idle": "2023-01-17T13:04:05.731433Z",
     "shell.execute_reply": "2023-01-17T13:04:05.730091Z"
    },
    "papermill": {
     "duration": 4.602776,
     "end_time": "2023-01-17T13:04:05.734091",
     "exception": false,
     "start_time": "2023-01-17T13:04:01.131315",
     "status": "completed"
    },
    "tags": []
   },
   "outputs": [
    {
     "data": {
      "image/png": "[encoded data removed]",
      "text/plain": [
       "<Figure size 443.375x360 with 1 Axes>"
      ]
     },
     "metadata": {
      "needs_background": "light"
     },
     "output_type": "display_data"
    }
   ],
   "source": [
    "sns.factorplot(\"Income_cat\", \"Risk_Flag\", data=data, hue=\"Car_Ownership\");"
   ]
  },
  {
   "cell_type": "markdown",
   "id": "fb540c99",
   "metadata": {
    "papermill": {
     "duration": 0.03663,
     "end_time": "2023-01-17T13:04:05.807362",
     "exception": false,
     "start_time": "2023-01-17T13:04:05.770732",
     "status": "completed"
    },
    "tags": []
   },
   "source": [
    "__Observaton__ \\\n",
    "people in __\"0\" Income category__ default most even if they have __car ownership or not__ and interesting thing is that __people with high salary cap__ but with __no Car ownership__ default most. They are scammers 0_0.\n",
    "\n",
    "### Current job years & Experience\n",
    "\n",
    "so, there is multicolinearity between Current job years & Experience so, we remove one, and i think current job years is more important than experience to get a loan.\n",
    "\n",
    "### Droping Features\n"
   ]
  },
  {
   "cell_type": "code",
   "execution_count": 47,
   "id": "f5e83408",
   "metadata": {
    "execution": {
     "iopub.execute_input": "2023-01-17T13:04:05.881032Z",
     "iopub.status.busy": "2023-01-17T13:04:05.880619Z",
     "iopub.status.idle": "2023-01-17T13:04:05.901405Z",
     "shell.execute_reply": "2023-01-17T13:04:05.900328Z"
    },
    "papermill": {
     "duration": 0.060839,
     "end_time": "2023-01-17T13:04:05.904175",
     "exception": false,
     "start_time": "2023-01-17T13:04:05.843336",
     "status": "completed"
    },
    "tags": []
   },
   "outputs": [],
   "source": [
    "data.drop([\"Id\", \"Income\", \"Income_range\", \"Age\", \"Experience\"], axis=1, inplace=True)"
   ]
  },
  {
   "cell_type": "markdown",
   "id": "7ae1a25a",
   "metadata": {
    "papermill": {
     "duration": 0.035379,
     "end_time": "2023-01-17T13:04:05.975862",
     "exception": false,
     "start_time": "2023-01-17T13:04:05.940483",
     "status": "completed"
    },
    "tags": []
   },
   "source": [
    "### Changing categorical variable into numbers"
   ]
  },
  {
   "cell_type": "code",
   "execution_count": 48,
   "id": "4bd15756",
   "metadata": {
    "execution": {
     "iopub.execute_input": "2023-01-17T13:04:06.050336Z",
     "iopub.status.busy": "2023-01-17T13:04:06.049268Z",
     "iopub.status.idle": "2023-01-17T13:04:06.604070Z",
     "shell.execute_reply": "2023-01-17T13:04:06.603060Z"
    },
    "papermill": {
     "duration": 0.595261,
     "end_time": "2023-01-17T13:04:06.606873",
     "exception": false,
     "start_time": "2023-01-17T13:04:06.011612",
     "status": "completed"
    },
    "tags": []
   },
   "outputs": [],
   "source": [
    "# Importing Label Encoder\n",
    "from sklearn.preprocessing import LabelEncoder\n",
    "\n",
    "features = [\"Marital_status\", \"House_Ownership\", \"Car_Ownership\", \"Profession\",\n",
    "           \"CITY\", \"STATE\"]\n",
    "label_encoder = LabelEncoder()\n",
    "\n",
    "for col in features:\n",
    "    data[col] = label_encoder.fit_transform(data[col])    "
   ]
  },
  {
   "cell_type": "code",
   "execution_count": 49,
   "id": "69107b0b",
   "metadata": {
    "execution": {
     "iopub.execute_input": "2023-01-17T13:04:06.680882Z",
     "iopub.status.busy": "2023-01-17T13:04:06.680470Z",
     "iopub.status.idle": "2023-01-17T13:04:07.704963Z",
     "shell.execute_reply": "2023-01-17T13:04:07.703720Z"
    },
    "papermill": {
     "duration": 1.066114,
     "end_time": "2023-01-17T13:04:07.708972",
     "exception": false,
     "start_time": "2023-01-17T13:04:06.642858",
     "status": "completed"
    },
    "tags": []
   },
   "outputs": [
    {
     "data": {
      "image/png": "[encoded data removed]",
      "text/plain": [
       "<Figure size 1296x1080 with 2 Axes>"
      ]
     },
     "metadata": {
      "needs_background": "light"
     },
     "output_type": "display_data"
    }
   ],
   "source": [
    "sns.heatmap(data.corr(), annot=True, linewidth=0.2, annot_kws={\"size\":20}, cmap=\"Blues\")\n",
    "fig = plt.gcf()\n",
    "fig.set_size_inches(18,15)\n",
    "plt.xticks(fontsize=14)\n",
    "plt.yticks(fontsize=14)\n",
    "plt.show()\n"
   ]
  },
  {
   "cell_type": "code",
   "execution_count": 50,
   "id": "4bebba23",
   "metadata": {
    "execution": {
     "iopub.execute_input": "2023-01-17T13:04:07.789318Z",
     "iopub.status.busy": "2023-01-17T13:04:07.788591Z",
     "iopub.status.idle": "2023-01-17T13:04:07.795130Z",
     "shell.execute_reply": "2023-01-17T13:04:07.794325Z"
    },
    "papermill": {
     "duration": 0.048912,
     "end_time": "2023-01-17T13:04:07.797207",
     "exception": false,
     "start_time": "2023-01-17T13:04:07.748295",
     "status": "completed"
    },
    "tags": []
   },
   "outputs": [
    {
     "data": {
      "text/plain": [
       "Index(['Marital_status', 'House_Ownership', 'Car_Ownership', 'Profession',\n",
       "       'CITY', 'STATE', 'CURRENT_JOB_YRS', 'CURRENT_HOUSE_YRS', 'Risk_Flag',\n",
       "       'Age_band', 'Income_cat'],\n",
       "      dtype='object')"
      ]
     },
     "execution_count": 50,
     "metadata": {},
     "output_type": "execute_result"
    }
   ],
   "source": [
    "data.columns"
   ]
  },
  {
   "cell_type": "markdown",
   "id": "7b73f437",
   "metadata": {
    "papermill": {
     "duration": 0.03837,
     "end_time": "2023-01-17T13:04:07.874829",
     "exception": false,
     "start_time": "2023-01-17T13:04:07.836459",
     "status": "completed"
    },
    "tags": []
   },
   "source": [
    "## Predictive modeling"
   ]
  },
  {
   "cell_type": "code",
   "execution_count": 51,
   "id": "7289576d",
   "metadata": {
    "execution": {
     "iopub.execute_input": "2023-01-17T13:04:07.954457Z",
     "iopub.status.busy": "2023-01-17T13:04:07.954062Z",
     "iopub.status.idle": "2023-01-17T13:04:08.154199Z",
     "shell.execute_reply": "2023-01-17T13:04:08.153061Z"
    },
    "papermill": {
     "duration": 0.243315,
     "end_time": "2023-01-17T13:04:08.156920",
     "exception": false,
     "start_time": "2023-01-17T13:04:07.913605",
     "status": "completed"
    },
    "tags": []
   },
   "outputs": [],
   "source": [
    "# import train test split\n",
    "from sklearn.model_selection import train_test_split\n",
    "# imports\n",
    "from sklearn.model_selection import KFold # for k-fold cross validation\n",
    "from sklearn.model_selection import cross_val_score # score evaluation\n",
    "from sklearn.model_selection import cross_val_predict # prediction\n",
    "\n",
    "X = data.drop([\"Risk_Flag\"], axis=1)\n",
    "Y = pd.DataFrame(data.Risk_Flag)\n",
    "\n",
    "train_X, test_X, train_y, test_y = train_test_split(X, Y, test_size=0.3, random_state=42, stratify=data.Risk_Flag)"
   ]
  },
  {
   "cell_type": "markdown",
   "id": "9dff1553",
   "metadata": {
    "papermill": {
     "duration": 0.038246,
     "end_time": "2023-01-17T13:04:08.233966",
     "exception": false,
     "start_time": "2023-01-17T13:04:08.195720",
     "status": "completed"
    },
    "tags": []
   },
   "source": [
    "## Binary Classification and Cross Validation\n",
    "## Logistic Regression"
   ]
  },
  {
   "cell_type": "code",
   "execution_count": 52,
   "id": "345f36be",
   "metadata": {
    "execution": {
     "iopub.execute_input": "2023-01-17T13:04:08.313083Z",
     "iopub.status.busy": "2023-01-17T13:04:08.312697Z",
     "iopub.status.idle": "2023-01-17T13:04:45.840209Z",
     "shell.execute_reply": "2023-01-17T13:04:45.838947Z"
    },
    "papermill": {
     "duration": 37.670206,
     "end_time": "2023-01-17T13:04:45.942732",
     "exception": false,
     "start_time": "2023-01-17T13:04:08.272526",
     "status": "completed"
    },
    "tags": []
   },
   "outputs": [
    {
     "name": "stdout",
     "output_type": "stream",
     "text": [
      "Accuracy of logistic regression is 0.8769973544973545\n",
      "Accuracy of cross validation is 0.877\n"
     ]
    }
   ],
   "source": [
    "# importing logistic regression\n",
    "from sklearn.linear_model import LogisticRegression\n",
    "from sklearn import metrics\n",
    "from sklearn.metrics import classification_report\n",
    "\n",
    "model = LogisticRegression()\n",
    "model.fit(train_X, train_y)\n",
    "prediction1 = model.predict(test_X)\n",
    "print(\"Accuracy of logistic regression is\", metrics.accuracy_score(prediction1, test_y))\n",
    "result1 = cross_val_score(model, X, Y, cv=10, scoring=\"accuracy\")\n",
    "print(\"Accuracy of cross validation is\", result1.mean())"
   ]
  },
  {
   "cell_type": "code",
   "execution_count": 53,
   "id": "85406eaf",
   "metadata": {
    "execution": {
     "iopub.execute_input": "2023-01-17T13:04:46.029169Z",
     "iopub.status.busy": "2023-01-17T13:04:46.028758Z",
     "iopub.status.idle": "2023-01-17T13:04:46.159018Z",
     "shell.execute_reply": "2023-01-17T13:04:46.157559Z"
    },
    "papermill": {
     "duration": 0.173454,
     "end_time": "2023-01-17T13:04:46.161208",
     "exception": false,
     "start_time": "2023-01-17T13:04:45.987754",
     "status": "completed"
    },
    "tags": []
   },
   "outputs": [
    {
     "name": "stdout",
     "output_type": "stream",
     "text": [
      "              precision    recall  f1-score   support\n",
      "\n",
      "           0       0.88      1.00      0.93     66301\n",
      "           1       0.00      0.00      0.00      9299\n",
      "\n",
      "    accuracy                           0.88     75600\n",
      "   macro avg       0.44      0.50      0.47     75600\n",
      "weighted avg       0.77      0.88      0.82     75600\n",
      "\n"
     ]
    }
   ],
   "source": [
    "print(classification_report(test_y, prediction1))"
   ]
  },
  {
   "cell_type": "markdown",
   "id": "3f0fb650",
   "metadata": {
    "papermill": {
     "duration": 0.03915,
     "end_time": "2023-01-17T13:04:46.240195",
     "exception": false,
     "start_time": "2023-01-17T13:04:46.201045",
     "status": "completed"
    },
    "tags": []
   },
   "source": [
    "## KNN"
   ]
  },
  {
   "cell_type": "code",
   "execution_count": 54,
   "id": "5a7a89a3",
   "metadata": {
    "execution": {
     "iopub.execute_input": "2023-01-17T13:04:46.321431Z",
     "iopub.status.busy": "2023-01-17T13:04:46.320733Z",
     "iopub.status.idle": "2023-01-17T13:05:06.503126Z",
     "shell.execute_reply": "2023-01-17T13:05:06.501619Z"
    },
    "papermill": {
     "duration": 20.226088,
     "end_time": "2023-01-17T13:05:06.505623",
     "exception": false,
     "start_time": "2023-01-17T13:04:46.279535",
     "status": "completed"
    },
    "tags": []
   },
   "outputs": [
    {
     "name": "stdout",
     "output_type": "stream",
     "text": [
      "Accuracy of KNN is 0.8887301587301587\n",
      "Accuracy of cross validation is 0.8879523809523808\n"
     ]
    }
   ],
   "source": [
    "# importing KNN \n",
    "from sklearn.neighbors import KNeighborsClassifier\n",
    "\n",
    "model = KNeighborsClassifier()\n",
    "model.fit(train_X, train_y)\n",
    "prediction2 = model.predict(test_X)\n",
    "print(\"Accuracy of KNN is\", metrics.accuracy_score(prediction2, test_y))\n",
    "result2 = cross_val_score(model, X, Y, cv=10, scoring=\"accuracy\")\n",
    "print(\"Accuracy of cross validation is\", result2.mean())"
   ]
  },
  {
   "cell_type": "code",
   "execution_count": 55,
   "id": "3f2247ac",
   "metadata": {
    "execution": {
     "iopub.execute_input": "2023-01-17T13:05:06.587557Z",
     "iopub.status.busy": "2023-01-17T13:05:06.586736Z",
     "iopub.status.idle": "2023-01-17T13:05:06.726171Z",
     "shell.execute_reply": "2023-01-17T13:05:06.724379Z"
    },
    "papermill": {
     "duration": 0.184059,
     "end_time": "2023-01-17T13:05:06.729024",
     "exception": false,
     "start_time": "2023-01-17T13:05:06.544965",
     "status": "completed"
    },
    "tags": []
   },
   "outputs": [
    {
     "name": "stdout",
     "output_type": "stream",
     "text": [
      "              precision    recall  f1-score   support\n",
      "\n",
      "           0       0.93      0.94      0.94     66301\n",
      "           1       0.55      0.51      0.53      9299\n",
      "\n",
      "    accuracy                           0.89     75600\n",
      "   macro avg       0.74      0.72      0.73     75600\n",
      "weighted avg       0.88      0.89      0.89     75600\n",
      "\n"
     ]
    }
   ],
   "source": [
    "print(classification_report(test_y, prediction2))"
   ]
  },
  {
   "cell_type": "markdown",
   "id": "6b441ab3",
   "metadata": {
    "papermill": {
     "duration": 0.039791,
     "end_time": "2023-01-17T13:05:06.809500",
     "exception": false,
     "start_time": "2023-01-17T13:05:06.769709",
     "status": "completed"
    },
    "tags": []
   },
   "source": [
    "## Random Forest Classifier"
   ]
  },
  {
   "cell_type": "code",
   "execution_count": 56,
   "id": "10077a03",
   "metadata": {
    "execution": {
     "iopub.execute_input": "2023-01-17T13:05:06.891922Z",
     "iopub.status.busy": "2023-01-17T13:05:06.891482Z",
     "iopub.status.idle": "2023-01-17T13:08:46.090719Z",
     "shell.execute_reply": "2023-01-17T13:08:46.089508Z"
    },
    "papermill": {
     "duration": 219.283926,
     "end_time": "2023-01-17T13:08:46.133308",
     "exception": false,
     "start_time": "2023-01-17T13:05:06.849382",
     "status": "completed"
    },
    "tags": []
   },
   "outputs": [
    {
     "name": "stdout",
     "output_type": "stream",
     "text": [
      "Accuracy of RandomForest is 0.8992063492063492\n",
      "Accuracy of cross validation is 0.8999484126984127\n"
     ]
    }
   ],
   "source": [
    "#import \n",
    "from sklearn.ensemble import RandomForestClassifier\n",
    "\n",
    "model = RandomForestClassifier(random_state=4, n_estimators = 50)\n",
    "model.fit(train_X, train_y)\n",
    "prediction3 = model.predict(test_X)\n",
    "print(\"Accuracy of RandomForest is\", metrics.accuracy_score(prediction3, test_y))\n",
    "result3 = cross_val_score(model, X, Y, cv=10, scoring=\"accuracy\")\n",
    "print(\"Accuracy of cross validation is\", result3.mean())"
   ]
  },
  {
   "cell_type": "code",
   "execution_count": 57,
   "id": "2ad4d755",
   "metadata": {
    "execution": {
     "iopub.execute_input": "2023-01-17T13:08:46.214868Z",
     "iopub.status.busy": "2023-01-17T13:08:46.214432Z",
     "iopub.status.idle": "2023-01-17T13:08:46.373150Z",
     "shell.execute_reply": "2023-01-17T13:08:46.371628Z"
    },
    "papermill": {
     "duration": 0.20317,
     "end_time": "2023-01-17T13:08:46.376222",
     "exception": false,
     "start_time": "2023-01-17T13:08:46.173052",
     "status": "completed"
    },
    "tags": []
   },
   "outputs": [
    {
     "name": "stdout",
     "output_type": "stream",
     "text": [
      "              precision    recall  f1-score   support\n",
      "\n",
      "           0       0.94      0.95      0.94     66301\n",
      "           1       0.60      0.54      0.57      9299\n",
      "\n",
      "    accuracy                           0.90     75600\n",
      "   macro avg       0.77      0.75      0.76     75600\n",
      "weighted avg       0.90      0.90      0.90     75600\n",
      "\n"
     ]
    }
   ],
   "source": [
    "print(classification_report(test_y, prediction3))"
   ]
  },
  {
   "cell_type": "markdown",
   "id": "bdbd539f",
   "metadata": {
    "papermill": {
     "duration": 0.041926,
     "end_time": "2023-01-17T13:08:46.458998",
     "exception": false,
     "start_time": "2023-01-17T13:08:46.417072",
     "status": "completed"
    },
    "tags": []
   },
   "source": [
    "## Decision Tree"
   ]
  },
  {
   "cell_type": "code",
   "execution_count": 58,
   "id": "fab30df8",
   "metadata": {
    "execution": {
     "iopub.execute_input": "2023-01-17T13:08:46.540610Z",
     "iopub.status.busy": "2023-01-17T13:08:46.540194Z",
     "iopub.status.idle": "2023-01-17T13:09:02.603562Z",
     "shell.execute_reply": "2023-01-17T13:09:02.601991Z"
    },
    "papermill": {
     "duration": 16.107427,
     "end_time": "2023-01-17T13:09:02.606276",
     "exception": false,
     "start_time": "2023-01-17T13:08:46.498849",
     "status": "completed"
    },
    "tags": []
   },
   "outputs": [
    {
     "name": "stdout",
     "output_type": "stream",
     "text": [
      "Accuracy of DecisionTree is 0.8812698412698413\n",
      "Accuracy of cross validation is 0.8764246031746031\n"
     ]
    }
   ],
   "source": [
    "#import\n",
    "from sklearn.tree import DecisionTreeClassifier\n",
    "\n",
    "model = DecisionTreeClassifier(random_state=420)\n",
    "model.fit(train_X, train_y)\n",
    "prediction4 = model.predict(test_X)\n",
    "print(\"Accuracy of DecisionTree is\", metrics.accuracy_score(prediction4, test_y))\n",
    "result4 = cross_val_score(model, X, Y, cv=10, scoring=\"accuracy\")\n",
    "print(\"Accuracy of cross validation is\", result4.mean())"
   ]
  },
  {
   "cell_type": "code",
   "execution_count": 59,
   "id": "1f291bcd",
   "metadata": {
    "execution": {
     "iopub.execute_input": "2023-01-17T13:09:02.689215Z",
     "iopub.status.busy": "2023-01-17T13:09:02.688072Z",
     "iopub.status.idle": "2023-01-17T13:09:02.830594Z",
     "shell.execute_reply": "2023-01-17T13:09:02.829349Z"
    },
    "papermill": {
     "duration": 0.186245,
     "end_time": "2023-01-17T13:09:02.833044",
     "exception": false,
     "start_time": "2023-01-17T13:09:02.646799",
     "status": "completed"
    },
    "tags": []
   },
   "outputs": [
    {
     "name": "stdout",
     "output_type": "stream",
     "text": [
      "              precision    recall  f1-score   support\n",
      "\n",
      "           0       0.94      0.92      0.93     66301\n",
      "           1       0.52      0.58      0.54      9299\n",
      "\n",
      "    accuracy                           0.88     75600\n",
      "   macro avg       0.73      0.75      0.74     75600\n",
      "weighted avg       0.89      0.88      0.88     75600\n",
      "\n"
     ]
    }
   ],
   "source": [
    "print(classification_report(test_y, prediction4))"
   ]
  },
  {
   "cell_type": "markdown",
   "id": "c83e2bc3",
   "metadata": {
    "papermill": {
     "duration": 0.042304,
     "end_time": "2023-01-17T13:09:02.919495",
     "exception": false,
     "start_time": "2023-01-17T13:09:02.877191",
     "status": "completed"
    },
    "tags": []
   },
   "source": [
    "## Confusion Matrix"
   ]
  },
  {
   "cell_type": "code",
   "execution_count": 60,
   "id": "fb2751b0",
   "metadata": {
    "execution": {
     "iopub.execute_input": "2023-01-17T13:09:03.007425Z",
     "iopub.status.busy": "2023-01-17T13:09:03.006781Z",
     "iopub.status.idle": "2023-01-17T13:12:10.062203Z",
     "shell.execute_reply": "2023-01-17T13:12:10.061115Z"
    },
    "papermill": {
     "duration": 187.10302,
     "end_time": "2023-01-17T13:12:10.064894",
     "exception": false,
     "start_time": "2023-01-17T13:09:02.961874",
     "status": "completed"
    },
    "tags": []
   },
   "outputs": [
    {
     "data": {
      "text/plain": [
       "[Text(0.5, 1.0, 'RandomForest confusion matrix')]"
      ]
     },
     "execution_count": 60,
     "metadata": {},
     "output_type": "execute_result"
    },
    {
     "data": {
      "image/png": "[encoded data removed]",
      "text/plain": [
       "<Figure size 432x288 with 2 Axes>"
      ]
     },
     "metadata": {
      "needs_background": "light"
     },
     "output_type": "display_data"
    }
   ],
   "source": [
    "# import confusion Matrix\n",
    "from sklearn.metrics import confusion_matrix\n",
    "y_pred = cross_val_predict(RandomForestClassifier(random_state=4, n_estimators=50), X, Y, cv=10)\n",
    "sns.heatmap(confusion_matrix(y_pred, Y), annot=True, fmt='2.0f').set(title=\"RandomForest confusion matrix\")"
   ]
  },
  {
   "cell_type": "code",
   "execution_count": 61,
   "id": "e213fa38",
   "metadata": {
    "execution": {
     "iopub.execute_input": "2023-01-17T13:12:10.147994Z",
     "iopub.status.busy": "2023-01-17T13:12:10.147566Z",
     "iopub.status.idle": "2023-01-17T13:12:10.155468Z",
     "shell.execute_reply": "2023-01-17T13:12:10.154233Z"
    },
    "papermill": {
     "duration": 0.05233,
     "end_time": "2023-01-17T13:12:10.158352",
     "exception": false,
     "start_time": "2023-01-17T13:12:10.106022",
     "status": "completed"
    },
    "tags": []
   },
   "outputs": [
    {
     "data": {
      "text/plain": [
       "(83.42301587301587, 5.728174603174603, 4.276984126984127, 6.571825396825397)"
      ]
     },
     "execution_count": 61,
     "metadata": {},
     "output_type": "execute_result"
    }
   ],
   "source": [
    "(210226/252000) * 100, (14435/252000) * 100, (10778/252000) * 100, (16561/252000) * 100"
   ]
  },
  {
   "cell_type": "markdown",
   "id": "48e4f696",
   "metadata": {
    "papermill": {
     "duration": 0.03977,
     "end_time": "2023-01-17T13:12:10.238672",
     "exception": false,
     "start_time": "2023-01-17T13:12:10.198902",
     "status": "completed"
    },
    "tags": []
   },
   "source": [
    "# Boosting Algorithms\n",
    "# AdaBoost Classifiers"
   ]
  },
  {
   "cell_type": "code",
   "execution_count": 62,
   "id": "1bb9b6b7",
   "metadata": {
    "execution": {
     "iopub.execute_input": "2023-01-17T13:12:10.320899Z",
     "iopub.status.busy": "2023-01-17T13:12:10.320081Z",
     "iopub.status.idle": "2023-01-17T13:12:57.579857Z",
     "shell.execute_reply": "2023-01-17T13:12:57.578709Z"
    },
    "papermill": {
     "duration": 47.342982,
     "end_time": "2023-01-17T13:12:57.621585",
     "exception": false,
     "start_time": "2023-01-17T13:12:10.278603",
     "status": "completed"
    },
    "tags": []
   },
   "outputs": [
    {
     "data": {
      "text/plain": [
       "(0.8769973544973545, 0.877)"
      ]
     },
     "execution_count": 62,
     "metadata": {},
     "output_type": "execute_result"
    }
   ],
   "source": [
    "# import \n",
    "from sklearn.ensemble import AdaBoostClassifier\n",
    "\n",
    "model = AdaBoostClassifier(random_state=15000)\n",
    "model.fit(train_X, train_y)\n",
    "prediction5 = model.predict(test_X)\n",
    "accuracy1 = metrics.accuracy_score(prediction5, test_y)\n",
    "result5 = cross_val_score(model, X, Y, scoring=\"accuracy\")\n",
    "accuracy1, result5.mean()"
   ]
  },
  {
   "cell_type": "code",
   "execution_count": 63,
   "id": "249cecf1",
   "metadata": {
    "execution": {
     "iopub.execute_input": "2023-01-17T13:12:57.704509Z",
     "iopub.status.busy": "2023-01-17T13:12:57.703917Z",
     "iopub.status.idle": "2023-01-17T13:12:57.844657Z",
     "shell.execute_reply": "2023-01-17T13:12:57.843369Z"
    },
    "papermill": {
     "duration": 0.186178,
     "end_time": "2023-01-17T13:12:57.848357",
     "exception": false,
     "start_time": "2023-01-17T13:12:57.662179",
     "status": "completed"
    },
    "tags": []
   },
   "outputs": [
    {
     "name": "stdout",
     "output_type": "stream",
     "text": [
      "              precision    recall  f1-score   support\n",
      "\n",
      "           0       0.94      0.92      0.93     66301\n",
      "           1       0.52      0.58      0.54      9299\n",
      "\n",
      "    accuracy                           0.88     75600\n",
      "   macro avg       0.73      0.75      0.74     75600\n",
      "weighted avg       0.89      0.88      0.88     75600\n",
      "\n"
     ]
    }
   ],
   "source": [
    "print(classification_report(test_y, prediction4))"
   ]
  },
  {
   "cell_type": "markdown",
   "id": "b268b8de",
   "metadata": {
    "papermill": {
     "duration": 0.040337,
     "end_time": "2023-01-17T13:12:57.929564",
     "exception": false,
     "start_time": "2023-01-17T13:12:57.889227",
     "status": "completed"
    },
    "tags": []
   },
   "source": [
    "## XGboost"
   ]
  },
  {
   "cell_type": "code",
   "execution_count": 64,
   "id": "abf3b531",
   "metadata": {
    "execution": {
     "iopub.execute_input": "2023-01-17T13:12:58.013129Z",
     "iopub.status.busy": "2023-01-17T13:12:58.011955Z",
     "iopub.status.idle": "2023-01-17T13:13:53.043034Z",
     "shell.execute_reply": "2023-01-17T13:13:53.041730Z"
    },
    "papermill": {
     "duration": 55.110272,
     "end_time": "2023-01-17T13:13:53.080407",
     "exception": false,
     "start_time": "2023-01-17T13:12:57.970135",
     "status": "completed"
    },
    "tags": []
   },
   "outputs": [
    {
     "data": {
      "text/plain": [
       "(0.8785846560846561, 0.878702380952381)"
      ]
     },
     "execution_count": 64,
     "metadata": {},
     "output_type": "execute_result"
    }
   ],
   "source": [
    "# import \n",
    "from xgboost import XGBClassifier\n",
    "\n",
    "model = XGBClassifier(learning_rate=0.1, n_estimators=100, random_state=420)\n",
    "model.fit(train_X, train_y)\n",
    "y_pred = model.predict(test_X)\n",
    "accuracy2 = metrics.accuracy_score(y_pred, test_y)\n",
    "result6 = cross_val_score(model, X, Y, scoring=\"accuracy\")\n",
    "accuracy2, result6.mean()\n"
   ]
  },
  {
   "cell_type": "code",
   "execution_count": 65,
   "id": "59964b82",
   "metadata": {
    "execution": {
     "iopub.execute_input": "2023-01-17T13:13:53.164176Z",
     "iopub.status.busy": "2023-01-17T13:13:53.163745Z",
     "iopub.status.idle": "2023-01-17T13:13:53.293385Z",
     "shell.execute_reply": "2023-01-17T13:13:53.292279Z"
    },
    "papermill": {
     "duration": 0.175077,
     "end_time": "2023-01-17T13:13:53.296174",
     "exception": false,
     "start_time": "2023-01-17T13:13:53.121097",
     "status": "completed"
    },
    "tags": []
   },
   "outputs": [
    {
     "name": "stdout",
     "output_type": "stream",
     "text": [
      "              precision    recall  f1-score   support\n",
      "\n",
      "           0       0.88      1.00      0.94     66301\n",
      "           1       0.70      0.02      0.04      9299\n",
      "\n",
      "    accuracy                           0.88     75600\n",
      "   macro avg       0.79      0.51      0.49     75600\n",
      "weighted avg       0.86      0.88      0.83     75600\n",
      "\n"
     ]
    }
   ],
   "source": [
    "print(classification_report(test_y, y_pred))"
   ]
  },
  {
   "cell_type": "code",
   "execution_count": 66,
   "id": "8f194c74",
   "metadata": {
    "execution": {
     "iopub.execute_input": "2023-01-17T13:13:53.379816Z",
     "iopub.status.busy": "2023-01-17T13:13:53.379347Z",
     "iopub.status.idle": "2023-01-17T13:13:53.422127Z",
     "shell.execute_reply": "2023-01-17T13:13:53.420996Z"
    },
    "papermill": {
     "duration": 0.087638,
     "end_time": "2023-01-17T13:13:53.424582",
     "exception": false,
     "start_time": "2023-01-17T13:13:53.336944",
     "status": "completed"
    },
    "tags": []
   },
   "outputs": [
    {
     "data": {
      "text/html": [
       "<div>\n",
       "<style scoped>\n",
       "    .dataframe tbody tr th:only-of-type {\n",
       "        vertical-align: middle;\n",
       "    }\n",
       "\n",
       "    .dataframe tbody tr th {\n",
       "        vertical-align: top;\n",
       "    }\n",
       "\n",
       "    .dataframe thead th {\n",
       "        text-align: right;\n",
       "    }\n",
       "</style>\n",
       "<table border=\"1\" class=\"dataframe\">\n",
       "  <thead>\n",
       "    <tr style=\"text-align: right;\">\n",
       "      <th></th>\n",
       "      <th>Accuracy</th>\n",
       "      <th>Accuracy</th>\n",
       "    </tr>\n",
       "  </thead>\n",
       "  <tbody>\n",
       "    <tr>\n",
       "      <th>Logistic Regression</th>\n",
       "      <td>0.876997</td>\n",
       "      <td>0.877000</td>\n",
       "    </tr>\n",
       "    <tr>\n",
       "      <th>KNN</th>\n",
       "      <td>0.888730</td>\n",
       "      <td>0.887952</td>\n",
       "    </tr>\n",
       "    <tr>\n",
       "      <th>Random Forest</th>\n",
       "      <td>0.899206</td>\n",
       "      <td>0.899948</td>\n",
       "    </tr>\n",
       "    <tr>\n",
       "      <th>Decision Tree</th>\n",
       "      <td>0.881270</td>\n",
       "      <td>0.876425</td>\n",
       "    </tr>\n",
       "    <tr>\n",
       "      <th>AdaBoost</th>\n",
       "      <td>0.876997</td>\n",
       "      <td>0.877000</td>\n",
       "    </tr>\n",
       "    <tr>\n",
       "      <th>XGBoost</th>\n",
       "      <td>0.878585</td>\n",
       "      <td>0.878702</td>\n",
       "    </tr>\n",
       "  </tbody>\n",
       "</table>\n",
       "</div>"
      ],
      "text/plain": [
       "                     Accuracy  Accuracy\n",
       "Logistic Regression  0.876997  0.877000\n",
       "KNN                  0.888730  0.887952\n",
       "Random Forest        0.899206  0.899948\n",
       "Decision Tree        0.881270  0.876425\n",
       "AdaBoost             0.876997  0.877000\n",
       "XGBoost              0.878585  0.878702"
      ]
     },
     "execution_count": 66,
     "metadata": {},
     "output_type": "execute_result"
    }
   ],
   "source": [
    "classifiers = [\"Logistic Regression\", \"KNN\", \"Random Forest\", \"Decision Tree\", \"AdaBoost\", \"XGBoost\"]\n",
    "prediction = [metrics.accuracy_score(prediction1, test_y), metrics.accuracy_score(prediction2, test_y), metrics.accuracy_score(prediction3, test_y), metrics.accuracy_score(prediction4, test_y), accuracy1, accuracy2]\n",
    "result = [result1.mean(), result2.mean(), result3.mean(), result4.mean(), result5.mean(), result6.mean()]\n",
    "a = pd.DataFrame(prediction, index=classifiers, columns=[\"Accuracy\"])\n",
    "b = pd.DataFrame(result, index=classifiers, columns=[\"Accuracy\"])\n",
    "pd.concat([a,b], axis=1)"
   ]
  },
  {
   "cell_type": "markdown",
   "id": "1d0576bb",
   "metadata": {
    "papermill": {
     "duration": 0.040286,
     "end_time": "2023-01-17T13:13:53.505525",
     "exception": false,
     "start_time": "2023-01-17T13:13:53.465239",
     "status": "completed"
    },
    "tags": []
   },
   "source": [
    "### Conclusion\n",
    "RandomForest is the best suitable model for our dataset with accuracy 89%,  KNN and Adaboost XGboost Classifier can also consider, since they gives accuracy of 88%."
   ]
  },
  {
   "cell_type": "markdown",
   "id": "ea399c78",
   "metadata": {
    "papermill": {
     "duration": 0.0404,
     "end_time": "2023-01-17T13:13:53.586917",
     "exception": false,
     "start_time": "2023-01-17T13:13:53.546517",
     "status": "completed"
    },
    "tags": []
   },
   "source": [
    "## Hypertuning Random Forest Classifier"
   ]
  },
  {
   "cell_type": "code",
   "execution_count": 67,
   "id": "9d9a25c4",
   "metadata": {
    "execution": {
     "iopub.execute_input": "2023-01-17T13:13:53.671749Z",
     "iopub.status.busy": "2023-01-17T13:13:53.670884Z",
     "iopub.status.idle": "2023-01-17T13:26:42.728885Z",
     "shell.execute_reply": "2023-01-17T13:26:42.727707Z"
    },
    "papermill": {
     "duration": 769.214673,
     "end_time": "2023-01-17T13:26:42.842748",
     "exception": false,
     "start_time": "2023-01-17T13:13:53.628075",
     "status": "completed"
    },
    "tags": []
   },
   "outputs": [
    {
     "name": "stdout",
     "output_type": "stream",
     "text": [
      "Fitting 5 folds for each of 9 candidates, totalling 45 fits\n",
      "0.9005436507936508\n",
      "RandomForestClassifier(n_estimators=90, random_state=4)\n"
     ]
    }
   ],
   "source": [
    "#import \n",
    "from sklearn.model_selection import GridSearchCV\n",
    "\n",
    "n_estimators = list(range(10,100,10))\n",
    "hyper = {\"n_estimators\": n_estimators}\n",
    "gd = GridSearchCV(estimator=RandomForestClassifier(random_state=4), param_grid=hyper, verbose=True)\n",
    "gd.fit(X,Y)\n",
    "print(gd.best_score_)\n",
    "print(gd.best_estimator_)"
   ]
  },
  {
   "cell_type": "markdown",
   "id": "47806103",
   "metadata": {
    "papermill": {
     "duration": 0.040949,
     "end_time": "2023-01-17T13:26:42.926616",
     "exception": false,
     "start_time": "2023-01-17T13:26:42.885667",
     "status": "completed"
    },
    "tags": []
   },
   "source": [
    "SO, the best estimator seem to be 90."
   ]
  },
  {
   "cell_type": "code",
   "execution_count": 68,
   "id": "23f114c8",
   "metadata": {
    "execution": {
     "iopub.execute_input": "2023-01-17T13:26:43.011036Z",
     "iopub.status.busy": "2023-01-17T13:26:43.010580Z",
     "iopub.status.idle": "2023-01-17T13:26:43.015272Z",
     "shell.execute_reply": "2023-01-17T13:26:43.014136Z"
    },
    "papermill": {
     "duration": 0.049672,
     "end_time": "2023-01-17T13:26:43.017447",
     "exception": false,
     "start_time": "2023-01-17T13:26:42.967775",
     "status": "completed"
    },
    "tags": []
   },
   "outputs": [],
   "source": [
    "# y_pred = cross_val_predict(RandomForestClassifier(random_state=4, n_estimators=90), X, Y, cv=10)\n",
    "# sns.heatmap(confusion_matrix(y_pred, Y), annot=True, fmt='2.0f').set(title=\"RandomForest confusion matrix\")"
   ]
  },
  {
   "cell_type": "code",
   "execution_count": 69,
   "id": "dfc0fe2d",
   "metadata": {
    "execution": {
     "iopub.execute_input": "2023-01-17T13:26:43.102962Z",
     "iopub.status.busy": "2023-01-17T13:26:43.101889Z",
     "iopub.status.idle": "2023-01-17T13:26:43.109081Z",
     "shell.execute_reply": "2023-01-17T13:26:43.108102Z"
    },
    "papermill": {
     "duration": 0.05226,
     "end_time": "2023-01-17T13:26:43.111311",
     "exception": false,
     "start_time": "2023-01-17T13:26:43.059051",
     "status": "completed"
    },
    "tags": []
   },
   "outputs": [
    {
     "data": {
      "text/plain": [
       "(83.46785714285714, 6.557539682539683)"
      ]
     },
     "execution_count": 69,
     "metadata": {},
     "output_type": "execute_result"
    }
   ],
   "source": [
    "(210339/252000) * 100, 16525/252000 * 100"
   ]
  },
  {
   "cell_type": "markdown",
   "id": "3233ca26",
   "metadata": {
    "papermill": {
     "duration": 0.04126,
     "end_time": "2023-01-17T13:26:43.194116",
     "exception": false,
     "start_time": "2023-01-17T13:26:43.152856",
     "status": "completed"
    },
    "tags": []
   },
   "source": [
    "the confusion matrix also shows __83.4+6.6=90%__ of correct prediction"
   ]
  },
  {
   "cell_type": "markdown",
   "id": "911d14fc",
   "metadata": {
    "papermill": {
     "duration": 0.042543,
     "end_time": "2023-01-17T13:26:43.278198",
     "exception": false,
     "start_time": "2023-01-17T13:26:43.235655",
     "status": "completed"
    },
    "tags": []
   },
   "source": [
    "## conclustion \n",
    "SO, by optimizing we can get 90% in our prediction\n",
    "\n",
    "Thankyou for reading. And keep coding!"
   ]
  },
  {
   "cell_type": "code",
   "execution_count": null,
   "id": "d7d81d04",
   "metadata": {
    "papermill": {
     "duration": 0.041297,
     "end_time": "2023-01-17T13:26:43.360774",
     "exception": false,
     "start_time": "2023-01-17T13:26:43.319477",
     "status": "completed"
    },
    "tags": []
   },
   "outputs": [],
   "source": []
  }
 ],
 "metadata": {
  "kernelspec": {
   "display_name": "Python 3",
   "language": "python",
   "name": "python3"
  },
  "language_info": {
   "codemirror_mode": {
    "name": "ipython",
    "version": 3
   },
   "file_extension": ".py",
   "mimetype": "text/x-python",
   "name": "python",
   "nbconvert_exporter": "python",
   "pygments_lexer": "ipython3",
   "version": "3.7.12"
  },
  "papermill": {
   "default_parameters": {},
   "duration": 1408.80934,
   "end_time": "2023-01-17T13:26:44.227362",
   "environment_variables": {},
   "exception": null,
   "input_path": "__notebook__.ipynb",
   "output_path": "__notebook__.ipynb",
   "parameters": {},
   "start_time": "2023-01-17T13:03:15.418022",
   "version": "2.3.4"
  }
 },
 "nbformat": 4,
 "nbformat_minor": 5
}
